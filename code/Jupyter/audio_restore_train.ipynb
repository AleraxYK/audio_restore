{
 "cells": [
  {
   "cell_type": "markdown",
   "id": "88021362",
   "metadata": {},
   "source": [
    "# Model creation"
   ]
  },
  {
   "cell_type": "markdown",
   "id": "3bfabb98",
   "metadata": {},
   "source": [
    "# Import and declaration\n",
    "This script sets up the environment for training an audio restoration model using PyTorch. It includes:\n",
    "\n",
    "- Device configuration (`cuda`, `mps`, or `cpu`) with support for mixed precision if available.\n",
    "- Import of key libraries: `torchaudio`, `matplotlib`, and `tqdm` for progress tracking.\n",
    "- Training hyperparameters: batch size, learning rate, number of epochs, FFT parameters, etc.\n",
    "- File path definitions for clean and degraded audio samples and model checkpoints."
   ]
  },
  {
   "cell_type": "code",
   "execution_count": null,
   "id": "19570464",
   "metadata": {},
   "outputs": [
    {
     "name": "stdout",
     "output_type": "stream",
     "text": [
      "Device use: mps\n"
     ]
    }
   ],
   "source": [
    "import os\n",
    "import torch\n",
    "import torch.nn as nn\n",
    "import torch.nn.functional as F\n",
    "import torchaudio\n",
    "from torch.utils.data import Dataset, DataLoader, random_split\n",
    "from torchaudio.transforms import Spectrogram, AmplitudeToDB\n",
    "from tqdm import tqdm\n",
    "import matplotlib.pyplot as plt\n",
    "\n",
    "DEVICE = (\"cuda\" if torch.cuda.is_available()\n",
    "          else \"mps\" if torch.backends.mps.is_available()\n",
    "          else \"cpu\")\n",
    "\n",
    "if DEVICE == 'cuda':\n",
    "    from torch.cuda.amp import autocast, GradScaler\n",
    "else:\n",
    "    from contextlib import nullcontext\n",
    "    autocast = nullcontext  \n",
    "    \n",
    "    class GradScaler:\n",
    "        def scale(self, loss): return loss\n",
    "        def step(self, optimizer): optimizer.step()\n",
    "        def update(self): pass\n",
    "        def __getattr__(self, name): return lambda *args, **kwargs: None\n",
    "\n",
    "BATCH_SIZE   = 8\n",
    "EPOCHS       = 80\n",
    "LEARNING_RATE= 5e-5\n",
    "SAMPLE_RATE  = 16000\n",
    "N_FFT        = 1024\n",
    "HOP_LENGTH   = 64    \n",
    "WIN_LENGTH   = N_FFT\n",
    "N_FRAMES     = 256  \n",
    "CLEAR_DIR    = '../../data/train/clean'\n",
    "DEGRADED_DIR = '../../data/train/degraded'\n",
    "MODEL_SAVE   = '../../models/UNet_audio_restoration.pth'\n",
    "CHECKPOINT_DIR = '../../test'\n",
    "\n",
    "print(f'Device use: {DEVICE}')"
   ]
  },
  {
   "cell_type": "markdown",
   "id": "ba97a9df",
   "metadata": {},
   "source": [
    "# Dataset\n",
    "\n",
    "This custom PyTorch `Dataset` loads paired clean and degraded audio files to train an audio restoration model. Key features:\n",
    "\n",
    "- Converts audio to **power spectrograms** and applies **Amplitude-to-dB scaling**.\n",
    "- Supports mono conversion and **normalization** per sample.\n",
    "- Automatically **pads or crops** time dimension to a fixed number of frames.\n",
    "- Returns a tuple: `(degraded_spectrogram, clean_spectrogram)`.\n",
    "\n",
    "Example shape: `[channels=1, freq_bins, n_frames]`."
   ]
  },
  {
   "cell_type": "code",
   "execution_count": null,
   "id": "947336fb",
   "metadata": {},
   "outputs": [],
   "source": [
    "class AudioPairDataset(Dataset):\n",
    "    def __init__(self, clean_dir, degraded_dir,\n",
    "                 sample_rate=16000, n_fft=1024,\n",
    "                 hop_length=128, n_frames=256):\n",
    "        self.clean_dir    = clean_dir\n",
    "        self.degraded_dir = degraded_dir\n",
    "        self.files        = sorted(os.listdir(clean_dir))\n",
    "        self.n_frames     = n_frames\n",
    "        self.spec  = Spectrogram(\n",
    "            n_fft=n_fft,\n",
    "            hop_length=hop_length,\n",
    "            win_length=n_fft,\n",
    "            power=2.0\n",
    "        )\n",
    "        self.to_db = AmplitudeToDB(stype='power')\n",
    "\n",
    "\n",
    "    def __len__(self):\n",
    "        return len(self.files)\n",
    "\n",
    "    def pad_or_crop(self, S):\n",
    "        C, freq, time = S.shape\n",
    "        if time < self.n_frames:\n",
    "            pad_amount = self.n_frames - time\n",
    "            return F.pad(S, (0, pad_amount))\n",
    "        else:\n",
    "            return S[:, : , :self.n_frames]\n",
    "\n",
    "    def __getitem__(self, idx):\n",
    "        fn = self.files[idx]\n",
    "        cw, _ = torchaudio.load(os.path.join(self.clean_dir, fn))\n",
    "        dw, _ = torchaudio.load(os.path.join(self.degraded_dir, fn))\n",
    "        cw = cw.mean(0, keepdim=True)\n",
    "        dw = dw.mean(0, keepdim=True)\n",
    "        S_c = self.to_db(self.spec(cw))\n",
    "        S_d = self.to_db(self.spec(dw))\n",
    "        S_c = (S_c - S_c.mean()) / (S_c.std() + 1e-6)\n",
    "        S_d = (S_d - S_d.mean()) / (S_d.std() + 1e-6)\n",
    "        S_c = self.pad_or_crop(S_c)\n",
    "        S_d = self.pad_or_crop(S_d)\n",
    "        return S_d, S_c"
   ]
  },
  {
   "cell_type": "markdown",
   "id": "0eeef831",
   "metadata": {},
   "source": [
    "# Model\n",
    "This section defines a 2D **U-Net neural network** tailored for audio restoration on spectrograms. The network is composed of modular `UNetBlock` units and follows a classical encoder–decoder structure with skip connections.\n",
    "\n",
    "---\n",
    "\n",
    "#### 🔧 `UNetBlock`\n",
    "\n",
    "A reusable building block consisting of:\n",
    "- Two `Conv2D` layers (kernel size 3, padding 1)\n",
    "- Followed by `InstanceNorm2D` (with affine transformation enabled)\n",
    "- `ReLU` activations applied in-place for efficiency"
   ]
  },
  {
   "cell_type": "code",
   "execution_count": 29,
   "id": "85189975",
   "metadata": {},
   "outputs": [],
   "source": [
    "class UNetBlock(nn.Module):\n",
    "    def __init__(self, in_ch, out_ch):\n",
    "        super().__init__()\n",
    "        self.block = nn.Sequential(\n",
    "            nn.Conv2d(in_ch, out_ch, 3, padding=1),\n",
    "            nn.InstanceNorm2d(out_ch, affine=True),\n",
    "            nn.ReLU(inplace=True),\n",
    "            nn.Conv2d(out_ch, out_ch, 3, padding=1),\n",
    "            nn.InstanceNorm2d(out_ch, affine=True),\n",
    "            nn.ReLU(inplace=True),\n",
    "        )\n",
    "    def forward(self, x): return self.block(x)\n",
    "\n",
    "class UNet(nn.Module):\n",
    "    def __init__(self, in_ch=1, out_ch=1):\n",
    "        super().__init__()\n",
    "        self.enc1 = UNetBlock(in_ch, 64)\n",
    "        self.enc2 = UNetBlock(64, 128)\n",
    "        self.enc3 = UNetBlock(128, 256)\n",
    "        self.bottleneck = UNetBlock(256, 512)\n",
    "        self.pool = nn.MaxPool2d(2)\n",
    "        self.up3 = nn.ConvTranspose2d(512, 256, 2, 2)\n",
    "        self.dec3 = UNetBlock(512, 256)\n",
    "        self.up2 = nn.ConvTranspose2d(256, 128, 2, 2)\n",
    "        self.dec2 = UNetBlock(256, 128)\n",
    "        self.up1 = nn.ConvTranspose2d(128, 64, 2, 2)\n",
    "        self.dec1 = UNetBlock(128, 64)\n",
    "        self.final_conv = nn.Conv2d(64, out_ch, 1)\n",
    "\n",
    "    def center_crop(self, src, tgt):\n",
    "        _,_,h,w = src.shape\n",
    "        _,_,th,tw = tgt.shape\n",
    "        dh, dw = (h-th)//2, (w-tw)//2\n",
    "        return src[:,:,dh:dh+th, dw:dw+tw]\n",
    "\n",
    "    def forward(self, x):\n",
    "        e1 = self.enc1(x)\n",
    "        e2 = self.enc2(self.pool(e1))\n",
    "        e3 = self.enc3(self.pool(e2))\n",
    "        b = self.bottleneck(self.pool(e3))\n",
    "        d3 = self.up3(b)\n",
    "        e3c = self.center_crop(e3, d3)\n",
    "        d3 = self.dec3(torch.cat([d3, e3c], dim=1))\n",
    "        d2 = self.up2(d3)\n",
    "        e2c = self.center_crop(e2, d2)\n",
    "        d2 = self.dec2(torch.cat([d2, e2c], dim=1))\n",
    "        d1 = self.up1(d2)\n",
    "        e1c = self.center_crop(e1, d1)\n",
    "        d1 = self.dec1(torch.cat([d1, e1c], dim=1))\n",
    "        return self.final_conv(d1)"
   ]
  },
  {
   "cell_type": "markdown",
   "id": "4198dd59",
   "metadata": {},
   "source": [
    "### Training and Validation Loop Overview\n",
    "\n",
    "The script trains a U-Net model for audio restoration on spectrogram data. It uses a combination of L1 loss and spectral convergence to optimize perceptual quality.\n",
    "\n",
    "#### Spectral Convergence\n",
    "\n",
    "A custom metric to measure how close the predicted and target spectrograms are:\n",
    "\n",
    "$$\n",
    "\\text{SC}(x, y) = \\frac{ \\| y - x \\|_F }{ \\| y \\|_F + \\varepsilon }\n",
    "$$\n",
    "\n",
    "Used alongside L1 loss for training:\n",
    "$$\n",
    "\\text{Loss} = \\text{L1} + 0.3 \\cdot \\text{SC}\n",
    "$$\n",
    "\n",
    "#### Key Features\n",
    "- 80/20 train-validation split using `AudioPairDataset`\n",
    "- Mixed precision support (AMP) on CUDA\n",
    "- Learning rate scheduling (`ReduceLROnPlateau`)\n",
    "- Periodic and best-model checkpoint saving\n",
    "\n",
    "Each epoch logs training/validation loss, and the final model is saved after training."
   ]
  },
  {
   "cell_type": "code",
   "execution_count": null,
   "id": "0e5b55bc",
   "metadata": {},
   "outputs": [
    {
     "name": "stderr",
     "output_type": "stream",
     "text": [
      "Train Epoch: 1/80: 100%|██████████| 800/800 [42:39<00:00,  3.20s/it]\n"
     ]
    },
    {
     "name": "stdout",
     "output_type": "stream",
     "text": [
      "Epoch 1: Train Loss = 0.5604, Val Loss = 0.4329\n"
     ]
    },
    {
     "name": "stderr",
     "output_type": "stream",
     "text": [
      "Train Epoch: 2/80: 100%|██████████| 800/800 [42:34<00:00,  3.19s/it]\n"
     ]
    },
    {
     "name": "stdout",
     "output_type": "stream",
     "text": [
      "Epoch 2: Train Loss = 0.5309, Val Loss = 0.4249\n"
     ]
    },
    {
     "name": "stderr",
     "output_type": "stream",
     "text": [
      "Train Epoch: 3/80: 100%|██████████| 800/800 [42:57<00:00,  3.22s/it]\n"
     ]
    },
    {
     "name": "stdout",
     "output_type": "stream",
     "text": [
      "Epoch 3: Train Loss = 0.5232, Val Loss = 0.4218\n"
     ]
    },
    {
     "name": "stderr",
     "output_type": "stream",
     "text": [
      "Train Epoch: 4/80: 100%|██████████| 800/800 [42:25<00:00,  3.18s/it]\n"
     ]
    },
    {
     "name": "stdout",
     "output_type": "stream",
     "text": [
      "Epoch 4: Train Loss = 0.5178, Val Loss = 0.4139\n"
     ]
    },
    {
     "name": "stderr",
     "output_type": "stream",
     "text": [
      "Train Epoch: 5/80: 100%|██████████| 800/800 [47:45<00:00,  3.58s/it]  \n"
     ]
    },
    {
     "name": "stdout",
     "output_type": "stream",
     "text": [
      "Epoch 5: Train Loss = 0.5079, Val Loss = 0.4057\n"
     ]
    },
    {
     "name": "stderr",
     "output_type": "stream",
     "text": [
      "Train Epoch: 6/80: 100%|██████████| 800/800 [43:47<00:00,  3.28s/it]\n"
     ]
    },
    {
     "name": "stdout",
     "output_type": "stream",
     "text": [
      "Epoch 6: Train Loss = 0.4936, Val Loss = 0.3948\n"
     ]
    },
    {
     "name": "stderr",
     "output_type": "stream",
     "text": [
      "Train Epoch: 7/80: 100%|██████████| 800/800 [46:10<00:00,  3.46s/it] \n"
     ]
    },
    {
     "name": "stdout",
     "output_type": "stream",
     "text": [
      "Epoch 7: Train Loss = 0.4857, Val Loss = 0.3883\n"
     ]
    },
    {
     "name": "stderr",
     "output_type": "stream",
     "text": [
      "Train Epoch: 8/80: 100%|██████████| 800/800 [42:37<00:00,  3.20s/it]\n"
     ]
    },
    {
     "name": "stdout",
     "output_type": "stream",
     "text": [
      "Epoch 8: Train Loss = 0.4798, Val Loss = 0.3837\n"
     ]
    },
    {
     "name": "stderr",
     "output_type": "stream",
     "text": [
      "Train Epoch: 9/80: 100%|██████████| 800/800 [42:29<00:00,  3.19s/it]\n"
     ]
    },
    {
     "name": "stdout",
     "output_type": "stream",
     "text": [
      "Epoch 9: Train Loss = 0.4750, Val Loss = 0.3802\n"
     ]
    },
    {
     "name": "stderr",
     "output_type": "stream",
     "text": [
      "Train Epoch: 10/80: 100%|██████████| 800/800 [42:02<00:00,  3.15s/it]\n"
     ]
    },
    {
     "name": "stdout",
     "output_type": "stream",
     "text": [
      "Epoch 10: Train Loss = 0.4721, Val Loss = 0.3791\n"
     ]
    },
    {
     "name": "stderr",
     "output_type": "stream",
     "text": [
      "Train Epoch: 11/80: 100%|██████████| 800/800 [41:39<00:00,  3.12s/it]\n"
     ]
    },
    {
     "name": "stdout",
     "output_type": "stream",
     "text": [
      "Epoch 11: Train Loss = 0.4673, Val Loss = 0.3784\n"
     ]
    },
    {
     "name": "stderr",
     "output_type": "stream",
     "text": [
      "Train Epoch: 12/80: 100%|██████████| 800/800 [42:23<00:00,  3.18s/it]\n"
     ]
    },
    {
     "name": "stdout",
     "output_type": "stream",
     "text": [
      "Epoch 12: Train Loss = 0.4637, Val Loss = 0.3775\n"
     ]
    },
    {
     "name": "stderr",
     "output_type": "stream",
     "text": [
      "Train Epoch: 13/80: 100%|██████████| 800/800 [42:18<00:00,  3.17s/it]\n"
     ]
    },
    {
     "name": "stdout",
     "output_type": "stream",
     "text": [
      "Epoch 13: Train Loss = 0.4606, Val Loss = 0.3792\n"
     ]
    },
    {
     "name": "stderr",
     "output_type": "stream",
     "text": [
      "Train Epoch: 14/80: 100%|██████████| 800/800 [42:28<00:00,  3.19s/it]\n"
     ]
    },
    {
     "name": "stdout",
     "output_type": "stream",
     "text": [
      "Epoch 14: Train Loss = 0.4567, Val Loss = 0.3848\n"
     ]
    },
    {
     "name": "stderr",
     "output_type": "stream",
     "text": [
      "Train Epoch: 15/80: 100%|██████████| 800/800 [46:29<00:00,  3.49s/it]  \n"
     ]
    },
    {
     "name": "stdout",
     "output_type": "stream",
     "text": [
      "Epoch 15: Train Loss = 0.4517, Val Loss = 0.3782\n"
     ]
    },
    {
     "name": "stderr",
     "output_type": "stream",
     "text": [
      "Train Epoch: 16/80: 100%|██████████| 800/800 [42:43<00:00,  3.20s/it]\n"
     ]
    },
    {
     "name": "stdout",
     "output_type": "stream",
     "text": [
      "Epoch 16: Train Loss = 0.4461, Val Loss = 0.3743\n"
     ]
    },
    {
     "name": "stderr",
     "output_type": "stream",
     "text": [
      "Train Epoch: 17/80: 100%|██████████| 800/800 [42:11<00:00,  3.16s/it]\n"
     ]
    },
    {
     "name": "stdout",
     "output_type": "stream",
     "text": [
      "Epoch 17: Train Loss = 0.4416, Val Loss = 0.3739\n"
     ]
    },
    {
     "name": "stderr",
     "output_type": "stream",
     "text": [
      "Train Epoch: 18/80: 100%|██████████| 800/800 [41:14<00:00,  3.09s/it]\n"
     ]
    },
    {
     "name": "stdout",
     "output_type": "stream",
     "text": [
      "Epoch 18: Train Loss = 0.4366, Val Loss = 0.3763\n"
     ]
    },
    {
     "name": "stderr",
     "output_type": "stream",
     "text": [
      "Train Epoch: 19/80: 100%|██████████| 800/800 [53:36<00:00,  4.02s/it]  \n"
     ]
    },
    {
     "name": "stdout",
     "output_type": "stream",
     "text": [
      "Epoch 19: Train Loss = 0.4327, Val Loss = 0.3778\n"
     ]
    },
    {
     "name": "stderr",
     "output_type": "stream",
     "text": [
      "Train Epoch: 20/80: 100%|██████████| 800/800 [41:21<00:00,  3.10s/it]\n"
     ]
    },
    {
     "name": "stdout",
     "output_type": "stream",
     "text": [
      "Epoch 20: Train Loss = 0.4288, Val Loss = 0.3789\n"
     ]
    },
    {
     "name": "stderr",
     "output_type": "stream",
     "text": [
      "Train Epoch: 21/80: 100%|██████████| 800/800 [41:39<00:00,  3.12s/it]\n"
     ]
    },
    {
     "name": "stdout",
     "output_type": "stream",
     "text": [
      "Epoch 21: Train Loss = 0.4266, Val Loss = 0.3758\n"
     ]
    },
    {
     "name": "stderr",
     "output_type": "stream",
     "text": [
      "Train Epoch: 22/80: 100%|██████████| 800/800 [41:46<00:00,  3.13s/it]\n"
     ]
    },
    {
     "name": "stdout",
     "output_type": "stream",
     "text": [
      "Epoch 22: Train Loss = 0.4121, Val Loss = 0.3701\n"
     ]
    },
    {
     "name": "stderr",
     "output_type": "stream",
     "text": [
      "Train Epoch: 23/80: 100%|██████████| 800/800 [41:41<00:00,  3.13s/it]\n"
     ]
    },
    {
     "name": "stdout",
     "output_type": "stream",
     "text": [
      "Epoch 23: Train Loss = 0.4071, Val Loss = 0.3723\n"
     ]
    },
    {
     "name": "stderr",
     "output_type": "stream",
     "text": [
      "Train Epoch: 24/80: 100%|██████████| 800/800 [41:28<00:00,  3.11s/it]\n"
     ]
    },
    {
     "name": "stdout",
     "output_type": "stream",
     "text": [
      "Epoch 24: Train Loss = 0.4049, Val Loss = 0.3713\n"
     ]
    },
    {
     "name": "stderr",
     "output_type": "stream",
     "text": [
      "Train Epoch: 25/80: 100%|██████████| 800/800 [41:15<00:00,  3.09s/it]\n"
     ]
    },
    {
     "name": "stdout",
     "output_type": "stream",
     "text": [
      "Epoch 25: Train Loss = 0.4011, Val Loss = 0.3712\n"
     ]
    },
    {
     "name": "stderr",
     "output_type": "stream",
     "text": [
      "Train Epoch: 26/80: 100%|██████████| 800/800 [41:32<00:00,  3.12s/it]\n"
     ]
    },
    {
     "name": "stdout",
     "output_type": "stream",
     "text": [
      "Epoch 26: Train Loss = 0.3990, Val Loss = 0.3712\n"
     ]
    },
    {
     "name": "stderr",
     "output_type": "stream",
     "text": [
      "Train Epoch: 27/80: 100%|██████████| 800/800 [41:39<00:00,  3.12s/it]\n"
     ]
    },
    {
     "name": "stdout",
     "output_type": "stream",
     "text": [
      "Epoch 27: Train Loss = 0.3882, Val Loss = 0.3703\n"
     ]
    },
    {
     "name": "stderr",
     "output_type": "stream",
     "text": [
      "Train Epoch: 28/80: 100%|██████████| 800/800 [41:45<00:00,  3.13s/it]\n"
     ]
    },
    {
     "name": "stdout",
     "output_type": "stream",
     "text": [
      "Epoch 28: Train Loss = 0.3854, Val Loss = 0.3706\n"
     ]
    },
    {
     "name": "stderr",
     "output_type": "stream",
     "text": [
      "Train Epoch: 29/80: 100%|██████████| 800/800 [41:53<00:00,  3.14s/it]\n"
     ]
    },
    {
     "name": "stdout",
     "output_type": "stream",
     "text": [
      "Epoch 29: Train Loss = 0.3828, Val Loss = 0.3701\n"
     ]
    },
    {
     "name": "stderr",
     "output_type": "stream",
     "text": [
      "Train Epoch: 30/80: 100%|██████████| 800/800 [42:08<00:00,  3.16s/it]\n"
     ]
    },
    {
     "name": "stdout",
     "output_type": "stream",
     "text": [
      "Epoch 30: Train Loss = 0.3804, Val Loss = 0.3718\n"
     ]
    },
    {
     "name": "stderr",
     "output_type": "stream",
     "text": [
      "Train Epoch: 31/80: 100%|██████████| 800/800 [49:40<00:00,  3.73s/it]  \n"
     ]
    },
    {
     "name": "stdout",
     "output_type": "stream",
     "text": [
      "Epoch 31: Train Loss = 0.3740, Val Loss = 0.3695\n"
     ]
    },
    {
     "name": "stderr",
     "output_type": "stream",
     "text": [
      "Train Epoch: 32/80: 100%|██████████| 800/800 [41:03<00:00,  3.08s/it]\n"
     ]
    },
    {
     "name": "stdout",
     "output_type": "stream",
     "text": [
      "Epoch 32: Train Loss = 0.3723, Val Loss = 0.3715\n"
     ]
    },
    {
     "name": "stderr",
     "output_type": "stream",
     "text": [
      "Train Epoch: 33/80: 100%|██████████| 800/800 [45:28<00:00,  3.41s/it]  \n"
     ]
    },
    {
     "name": "stdout",
     "output_type": "stream",
     "text": [
      "Epoch 33: Train Loss = 0.3703, Val Loss = 0.3720\n"
     ]
    },
    {
     "name": "stderr",
     "output_type": "stream",
     "text": [
      "Train Epoch: 34/80: 100%|██████████| 800/800 [42:46<00:00,  3.21s/it]\n"
     ]
    },
    {
     "name": "stdout",
     "output_type": "stream",
     "text": [
      "Epoch 34: Train Loss = 0.3689, Val Loss = 0.3716\n"
     ]
    },
    {
     "name": "stderr",
     "output_type": "stream",
     "text": [
      "Train Epoch: 35/80: 100%|██████████| 800/800 [42:46<00:00,  3.21s/it]\n"
     ]
    },
    {
     "name": "stdout",
     "output_type": "stream",
     "text": [
      "Epoch 35: Train Loss = 0.3674, Val Loss = 0.3732\n"
     ]
    },
    {
     "name": "stderr",
     "output_type": "stream",
     "text": [
      "Train Epoch: 36/80: 100%|██████████| 800/800 [1:08:39<00:00,  5.15s/it]  \n"
     ]
    },
    {
     "name": "stdout",
     "output_type": "stream",
     "text": [
      "Epoch 36: Train Loss = 0.3637, Val Loss = 0.3718\n"
     ]
    },
    {
     "name": "stderr",
     "output_type": "stream",
     "text": [
      "Train Epoch: 37/80: 100%|██████████| 800/800 [52:19<00:00,  3.92s/it]  \n"
     ]
    },
    {
     "name": "stdout",
     "output_type": "stream",
     "text": [
      "Epoch 37: Train Loss = 0.3627, Val Loss = 0.3720\n"
     ]
    },
    {
     "name": "stderr",
     "output_type": "stream",
     "text": [
      "Train Epoch: 38/80: 100%|██████████| 800/800 [51:17<00:00,  3.85s/it]  \n"
     ]
    },
    {
     "name": "stdout",
     "output_type": "stream",
     "text": [
      "Epoch 38: Train Loss = 0.3618, Val Loss = 0.3723\n"
     ]
    },
    {
     "name": "stderr",
     "output_type": "stream",
     "text": [
      "Train Epoch: 39/80: 100%|██████████| 800/800 [41:36<00:00,  3.12s/it]  \n"
     ]
    },
    {
     "name": "stdout",
     "output_type": "stream",
     "text": [
      "Epoch 39: Train Loss = 0.3609, Val Loss = 0.3735\n"
     ]
    },
    {
     "name": "stderr",
     "output_type": "stream",
     "text": [
      "Train Epoch: 40/80: 100%|██████████| 800/800 [41:56<00:00,  3.15s/it]\n"
     ]
    },
    {
     "name": "stdout",
     "output_type": "stream",
     "text": [
      "Epoch 40: Train Loss = 0.3588, Val Loss = 0.3724\n"
     ]
    },
    {
     "name": "stderr",
     "output_type": "stream",
     "text": [
      "Train Epoch: 41/80: 100%|██████████| 800/800 [59:58<00:00,  4.50s/it]   \n"
     ]
    },
    {
     "name": "stdout",
     "output_type": "stream",
     "text": [
      "Epoch 41: Train Loss = 0.3583, Val Loss = 0.3725\n"
     ]
    },
    {
     "name": "stderr",
     "output_type": "stream",
     "text": [
      "Train Epoch: 42/80: 100%|██████████| 800/800 [41:45<00:00,  3.13s/it]\n"
     ]
    },
    {
     "name": "stdout",
     "output_type": "stream",
     "text": [
      "Epoch 42: Train Loss = 0.3577, Val Loss = 0.3730\n"
     ]
    },
    {
     "name": "stderr",
     "output_type": "stream",
     "text": [
      "Train Epoch: 43/80: 100%|██████████| 800/800 [41:54<00:00,  3.14s/it]\n"
     ]
    },
    {
     "name": "stdout",
     "output_type": "stream",
     "text": [
      "Epoch 43: Train Loss = 0.3573, Val Loss = 0.3734\n"
     ]
    },
    {
     "name": "stderr",
     "output_type": "stream",
     "text": [
      "Train Epoch: 44/80: 100%|██████████| 800/800 [41:48<00:00,  3.14s/it]\n"
     ]
    },
    {
     "name": "stdout",
     "output_type": "stream",
     "text": [
      "Epoch 44: Train Loss = 0.3562, Val Loss = 0.3728\n"
     ]
    },
    {
     "name": "stderr",
     "output_type": "stream",
     "text": [
      "Train Epoch: 45/80: 100%|██████████| 800/800 [41:39<00:00,  3.12s/it]\n"
     ]
    },
    {
     "name": "stdout",
     "output_type": "stream",
     "text": [
      "Epoch 45: Train Loss = 0.3560, Val Loss = 0.3732\n"
     ]
    },
    {
     "name": "stderr",
     "output_type": "stream",
     "text": [
      "Train Epoch: 46/80: 100%|██████████| 800/800 [41:48<00:00,  3.14s/it]\n"
     ]
    },
    {
     "name": "stdout",
     "output_type": "stream",
     "text": [
      "Epoch 46: Train Loss = 0.3558, Val Loss = 0.3728\n"
     ]
    },
    {
     "name": "stderr",
     "output_type": "stream",
     "text": [
      "Train Epoch: 47/80: 100%|██████████| 800/800 [41:29<00:00,  3.11s/it]\n"
     ]
    },
    {
     "name": "stdout",
     "output_type": "stream",
     "text": [
      "Epoch 47: Train Loss = 0.3555, Val Loss = 0.3735\n"
     ]
    },
    {
     "name": "stderr",
     "output_type": "stream",
     "text": [
      "Train Epoch: 48/80: 100%|██████████| 800/800 [41:50<00:00,  3.14s/it]\n"
     ]
    },
    {
     "name": "stdout",
     "output_type": "stream",
     "text": [
      "Epoch 48: Train Loss = 0.3550, Val Loss = 0.3734\n"
     ]
    },
    {
     "name": "stderr",
     "output_type": "stream",
     "text": [
      "Train Epoch: 49/80: 100%|██████████| 800/800 [42:35<00:00,  3.19s/it]  \n"
     ]
    },
    {
     "name": "stdout",
     "output_type": "stream",
     "text": [
      "Epoch 49: Train Loss = 0.3548, Val Loss = 0.3733\n"
     ]
    },
    {
     "name": "stderr",
     "output_type": "stream",
     "text": [
      "Train Epoch: 50/80: 100%|██████████| 800/800 [41:58<00:00,  3.15s/it]\n"
     ]
    },
    {
     "name": "stdout",
     "output_type": "stream",
     "text": [
      "Epoch 50: Train Loss = 0.3546, Val Loss = 0.3734\n"
     ]
    },
    {
     "name": "stderr",
     "output_type": "stream",
     "text": [
      "Train Epoch: 51/80: 100%|██████████| 800/800 [41:49<00:00,  3.14s/it]\n"
     ]
    },
    {
     "name": "stdout",
     "output_type": "stream",
     "text": [
      "Epoch 51: Train Loss = 0.3545, Val Loss = 0.3736\n"
     ]
    },
    {
     "name": "stderr",
     "output_type": "stream",
     "text": [
      "Train Epoch: 52/80: 100%|██████████| 800/800 [42:02<00:00,  3.15s/it]\n"
     ]
    },
    {
     "name": "stdout",
     "output_type": "stream",
     "text": [
      "Epoch 52: Train Loss = 0.3542, Val Loss = 0.3736\n"
     ]
    },
    {
     "name": "stderr",
     "output_type": "stream",
     "text": [
      "Train Epoch: 53/80: 100%|██████████| 800/800 [41:38<00:00,  3.12s/it]\n"
     ]
    },
    {
     "name": "stdout",
     "output_type": "stream",
     "text": [
      "Epoch 53: Train Loss = 0.3541, Val Loss = 0.3735\n"
     ]
    },
    {
     "name": "stderr",
     "output_type": "stream",
     "text": [
      "Train Epoch: 54/80: 100%|██████████| 800/800 [42:00<00:00,  3.15s/it]\n"
     ]
    },
    {
     "name": "stdout",
     "output_type": "stream",
     "text": [
      "Epoch 54: Train Loss = 0.3541, Val Loss = 0.3736\n"
     ]
    },
    {
     "name": "stderr",
     "output_type": "stream",
     "text": [
      "Train Epoch: 55/80: 100%|██████████| 800/800 [41:41<00:00,  3.13s/it]\n"
     ]
    },
    {
     "name": "stdout",
     "output_type": "stream",
     "text": [
      "Epoch 55: Train Loss = 0.3540, Val Loss = 0.3736\n"
     ]
    },
    {
     "name": "stderr",
     "output_type": "stream",
     "text": [
      "Train Epoch: 56/80: 100%|██████████| 800/800 [42:02<00:00,  3.15s/it]\n"
     ]
    },
    {
     "name": "stdout",
     "output_type": "stream",
     "text": [
      "Epoch 56: Train Loss = 0.3539, Val Loss = 0.3736\n"
     ]
    },
    {
     "name": "stderr",
     "output_type": "stream",
     "text": [
      "Train Epoch: 57/80: 100%|██████████| 800/800 [41:42<00:00,  3.13s/it]\n"
     ]
    },
    {
     "name": "stdout",
     "output_type": "stream",
     "text": [
      "Epoch 57: Train Loss = 0.3538, Val Loss = 0.3736\n"
     ]
    },
    {
     "name": "stderr",
     "output_type": "stream",
     "text": [
      "Train Epoch: 58/80: 100%|██████████| 800/800 [41:46<00:00,  3.13s/it]\n"
     ]
    },
    {
     "name": "stdout",
     "output_type": "stream",
     "text": [
      "Epoch 58: Train Loss = 0.3539, Val Loss = 0.3735\n"
     ]
    },
    {
     "name": "stderr",
     "output_type": "stream",
     "text": [
      "Train Epoch: 59/80: 100%|██████████| 800/800 [43:22<00:00,  3.25s/it]  \n"
     ]
    },
    {
     "name": "stdout",
     "output_type": "stream",
     "text": [
      "Epoch 59: Train Loss = 0.3537, Val Loss = 0.3735\n"
     ]
    },
    {
     "name": "stderr",
     "output_type": "stream",
     "text": [
      "Train Epoch: 60/80: 100%|██████████| 800/800 [42:04<00:00,  3.16s/it]\n"
     ]
    },
    {
     "name": "stdout",
     "output_type": "stream",
     "text": [
      "Epoch 60: Train Loss = 0.3536, Val Loss = 0.3736\n"
     ]
    },
    {
     "name": "stderr",
     "output_type": "stream",
     "text": [
      "Train Epoch: 61/80: 100%|██████████| 800/800 [45:06<00:00,  3.38s/it] \n"
     ]
    },
    {
     "name": "stdout",
     "output_type": "stream",
     "text": [
      "Epoch 61: Train Loss = 0.3537, Val Loss = 0.3736\n"
     ]
    },
    {
     "name": "stderr",
     "output_type": "stream",
     "text": [
      "Train Epoch: 62/80: 100%|██████████| 800/800 [42:07<00:00,  3.16s/it]\n"
     ]
    },
    {
     "name": "stdout",
     "output_type": "stream",
     "text": [
      "Epoch 62: Train Loss = 0.3537, Val Loss = 0.3736\n"
     ]
    },
    {
     "name": "stderr",
     "output_type": "stream",
     "text": [
      "Train Epoch: 63/80: 100%|██████████| 800/800 [41:55<00:00,  3.14s/it]\n"
     ]
    },
    {
     "name": "stdout",
     "output_type": "stream",
     "text": [
      "Epoch 63: Train Loss = 0.3536, Val Loss = 0.3736\n"
     ]
    },
    {
     "name": "stderr",
     "output_type": "stream",
     "text": [
      "Train Epoch: 64/80: 100%|██████████| 800/800 [42:24<00:00,  3.18s/it]\n"
     ]
    },
    {
     "name": "stdout",
     "output_type": "stream",
     "text": [
      "Epoch 64: Train Loss = 0.3535, Val Loss = 0.3736\n"
     ]
    },
    {
     "name": "stderr",
     "output_type": "stream",
     "text": [
      "Train Epoch: 65/80: 100%|██████████| 800/800 [42:22<00:00,  3.18s/it]\n"
     ]
    },
    {
     "name": "stdout",
     "output_type": "stream",
     "text": [
      "Epoch 65: Train Loss = 0.3536, Val Loss = 0.3736\n"
     ]
    },
    {
     "name": "stderr",
     "output_type": "stream",
     "text": [
      "Train Epoch: 66/80: 100%|██████████| 800/800 [44:14<00:00,  3.32s/it] \n"
     ]
    },
    {
     "name": "stdout",
     "output_type": "stream",
     "text": [
      "Epoch 66: Train Loss = 0.3536, Val Loss = 0.3736\n"
     ]
    },
    {
     "name": "stderr",
     "output_type": "stream",
     "text": [
      "Train Epoch: 67/80: 100%|██████████| 800/800 [43:02<00:00,  3.23s/it]\n"
     ]
    },
    {
     "name": "stdout",
     "output_type": "stream",
     "text": [
      "Epoch 67: Train Loss = 0.3536, Val Loss = 0.3736\n"
     ]
    },
    {
     "name": "stderr",
     "output_type": "stream",
     "text": [
      "Train Epoch: 68/80: 100%|██████████| 800/800 [43:13<00:00,  3.24s/it]\n"
     ]
    },
    {
     "name": "stdout",
     "output_type": "stream",
     "text": [
      "Epoch 68: Train Loss = 0.3535, Val Loss = 0.3736\n"
     ]
    },
    {
     "name": "stderr",
     "output_type": "stream",
     "text": [
      "Train Epoch: 69/80: 100%|██████████| 800/800 [42:22<00:00,  3.18s/it]\n"
     ]
    },
    {
     "name": "stdout",
     "output_type": "stream",
     "text": [
      "Epoch 69: Train Loss = 0.3535, Val Loss = 0.3736\n"
     ]
    },
    {
     "name": "stderr",
     "output_type": "stream",
     "text": [
      "Train Epoch: 70/80: 100%|██████████| 800/800 [42:06<00:00,  3.16s/it]\n"
     ]
    },
    {
     "name": "stdout",
     "output_type": "stream",
     "text": [
      "Epoch 70: Train Loss = 0.3536, Val Loss = 0.3736\n"
     ]
    },
    {
     "name": "stderr",
     "output_type": "stream",
     "text": [
      "Train Epoch: 71/80: 100%|██████████| 800/800 [42:15<00:00,  3.17s/it]\n"
     ]
    },
    {
     "name": "stdout",
     "output_type": "stream",
     "text": [
      "Epoch 71: Train Loss = 0.3534, Val Loss = 0.3736\n"
     ]
    },
    {
     "name": "stderr",
     "output_type": "stream",
     "text": [
      "Train Epoch: 72/80: 100%|██████████| 800/800 [43:04<00:00,  3.23s/it]  \n"
     ]
    },
    {
     "name": "stdout",
     "output_type": "stream",
     "text": [
      "Epoch 72: Train Loss = 0.3535, Val Loss = 0.3736\n"
     ]
    },
    {
     "name": "stderr",
     "output_type": "stream",
     "text": [
      "Train Epoch: 73/80: 100%|██████████| 800/800 [42:11<00:00,  3.16s/it]\n"
     ]
    },
    {
     "name": "stdout",
     "output_type": "stream",
     "text": [
      "Epoch 73: Train Loss = 0.3535, Val Loss = 0.3736\n"
     ]
    },
    {
     "name": "stderr",
     "output_type": "stream",
     "text": [
      "Train Epoch: 74/80: 100%|██████████| 800/800 [42:24<00:00,  3.18s/it]\n"
     ]
    },
    {
     "name": "stdout",
     "output_type": "stream",
     "text": [
      "Epoch 74: Train Loss = 0.3535, Val Loss = 0.3736\n"
     ]
    },
    {
     "name": "stderr",
     "output_type": "stream",
     "text": [
      "Train Epoch: 75/80: 100%|██████████| 800/800 [42:05<00:00,  3.16s/it]\n"
     ]
    },
    {
     "name": "stdout",
     "output_type": "stream",
     "text": [
      "Epoch 75: Train Loss = 0.3535, Val Loss = 0.3736\n"
     ]
    },
    {
     "name": "stderr",
     "output_type": "stream",
     "text": [
      "Train Epoch: 76/80: 100%|██████████| 800/800 [41:21<00:00,  3.10s/it]\n"
     ]
    },
    {
     "name": "stdout",
     "output_type": "stream",
     "text": [
      "Epoch 76: Train Loss = 0.3535, Val Loss = 0.3736\n"
     ]
    },
    {
     "name": "stderr",
     "output_type": "stream",
     "text": [
      "Train Epoch: 77/80: 100%|██████████| 800/800 [41:48<00:00,  3.14s/it]\n"
     ]
    },
    {
     "name": "stdout",
     "output_type": "stream",
     "text": [
      "Epoch 77: Train Loss = 0.3534, Val Loss = 0.3736\n"
     ]
    },
    {
     "name": "stderr",
     "output_type": "stream",
     "text": [
      "Train Epoch: 78/80: 100%|██████████| 800/800 [41:56<00:00,  3.15s/it]\n"
     ]
    },
    {
     "name": "stdout",
     "output_type": "stream",
     "text": [
      "Epoch 78: Train Loss = 0.3535, Val Loss = 0.3736\n"
     ]
    },
    {
     "name": "stderr",
     "output_type": "stream",
     "text": [
      "Train Epoch: 79/80: 100%|██████████| 800/800 [41:57<00:00,  3.15s/it]\n"
     ]
    },
    {
     "name": "stdout",
     "output_type": "stream",
     "text": [
      "Epoch 79: Train Loss = 0.3535, Val Loss = 0.3736\n"
     ]
    },
    {
     "name": "stderr",
     "output_type": "stream",
     "text": [
      "Train Epoch: 80/80: 100%|██████████| 800/800 [41:32<00:00,  3.12s/it]\n"
     ]
    },
    {
     "name": "stdout",
     "output_type": "stream",
     "text": [
      "Epoch 80: Train Loss = 0.3535, Val Loss = 0.3736\n",
      "Model saved to ../../models/UNet_audio_restoration.pth\n"
     ]
    }
   ],
   "source": [
    "def spectral_convergence(x, y, eps=1e-6):\n",
    "    return torch.norm(y - x, p='fro') / (torch.norm(y, p='fro') + eps)\n",
    "\n",
    "ds = AudioPairDataset(CLEAR_DIR, DEGRADED_DIR,\n",
    "                      SAMPLE_RATE, N_FFT, HOP_LENGTH, N_FRAMES)\n",
    "n_val = int(0.2 * len(ds))\n",
    "train_ds, val_ds = random_split(ds, [len(ds)-n_val, n_val])\n",
    "\n",
    "train_loader = DataLoader(\n",
    "    train_ds, batch_size=BATCH_SIZE,\n",
    "    shuffle=True,  num_workers=0, pin_memory=True\n",
    ")\n",
    "val_loader = DataLoader(\n",
    "    val_ds, batch_size=BATCH_SIZE,\n",
    "    shuffle=False, num_workers=0, pin_memory=True\n",
    ")\n",
    "\n",
    "model     = UNet().to(DEVICE)\n",
    "optimizer = torch.optim.Adam(model.parameters(), lr=LEARNING_RATE)\n",
    "scheduler = torch.optim.lr_scheduler.ReduceLROnPlateau(\n",
    "    optimizer, mode='min', factor=0.5, patience=3, verbose=True\n",
    ")\n",
    "use_amp = (DEVICE == 'cuda')\n",
    "scaler  = GradScaler() if use_amp else None\n",
    "\n",
    "train_losses, val_losses = [], []\n",
    "best_val = float('inf')\n",
    "\n",
    "for epoch in range(1, EPOCHS+1):\n",
    "    model.train()\n",
    "    run_loss = 0.0\n",
    "\n",
    "    for deg, clean in tqdm(train_loader, desc=f\"Train Epoch: {epoch}/{EPOCHS}\"):\n",
    "        deg = deg.to(DEVICE)\n",
    "        cl  = clean.to(DEVICE)\n",
    "        optimizer.zero_grad()\n",
    "\n",
    "        if use_amp:\n",
    "            with autocast():\n",
    "                out = model(deg)\n",
    "                out = out.clamp(min=-5.0, max=5.0)\n",
    "                if out.shape != cl.shape:\n",
    "                    cl = cl[..., :out.size(2), :out.size(3)]\n",
    "\n",
    "                l1 = F.l1_loss(out, cl)\n",
    "                sc = spectral_convergence(out, cl)\n",
    "                loss = l1 + 0.3 * sc\n",
    "\n",
    "            scaler.scale(loss).backward()\n",
    "            scaler.step(optimizer)\n",
    "            scaler.update()\n",
    "        else:\n",
    "            out = model(deg)\n",
    "            out = out.clamp(min=-5.0, max=5.0)\n",
    "            if out.shape != cl.shape:\n",
    "                cl = cl[..., :out.size(2), :out.size(3)]\n",
    "            l1 = F.l1_loss(out, cl)\n",
    "            sc = spectral_convergence(out, cl)\n",
    "            loss = l1 + 0.3 * sc\n",
    "            loss.backward()\n",
    "            optimizer.step()\n",
    "\n",
    "        run_loss += loss.item()\n",
    "\n",
    "    avg_train = run_loss / len(train_loader)\n",
    "    train_losses.append(avg_train)\n",
    "\n",
    "    model.eval()\n",
    "    val_run = 0.0\n",
    "    with torch.no_grad():\n",
    "        for deg, clean in val_loader:\n",
    "            deg = deg.to(DEVICE)\n",
    "            cl  = clean.to(DEVICE)\n",
    "            out = model(deg)\n",
    "            out = out.clamp(min=-5.0, max=5.0)\n",
    "            if out.shape != cl.shape:\n",
    "                cl = cl[..., :out.size(2), :out.size(3)]\n",
    "            l1 = F.l1_loss(out, cl)\n",
    "            sc = spectral_convergence(out, cl)\n",
    "            val_run += (l1 + 0.1 * sc).item()\n",
    "\n",
    "    avg_val = val_run / len(val_loader)\n",
    "    val_losses.append(avg_val)\n",
    "    scheduler.step(avg_val)\n",
    "\n",
    "    if epoch % 5 == 0:\n",
    "        torch.save({'model_state': model.state_dict()},\n",
    "                   os.path.join(CHECKPOINT_DIR, f'checkpoint_ep{epoch}.pth'))\n",
    "    if avg_val < best_val:\n",
    "        best_val = avg_val\n",
    "        torch.save(model.state_dict(),\n",
    "                   os.path.join(CHECKPOINT_DIR, 'best.pth'))\n",
    "\n",
    "    print(f\"Epoch {epoch}: Train Loss = {avg_train:.4f}, Val Loss = {avg_val:.4f}\")\n",
    "\n",
    "torch.save(model.state_dict(), MODEL_SAVE)\n",
    "print(f\"Model saved to {MODEL_SAVE}\")"
   ]
  },
  {
   "cell_type": "markdown",
   "id": "1046e635",
   "metadata": {},
   "source": [
    "### Loss Curve Visualization\n",
    "\n",
    "At the end of training, the script plots the L1 loss over epochs for both training and validation sets:\n",
    "\n",
    "```python\n",
    "plt.plot(train_losses, label='Train Loss')\n",
    "plt.plot(val_losses, label='Val Loss')"
   ]
  },
  {
   "cell_type": "code",
   "execution_count": 31,
   "id": "4a4bc40c",
   "metadata": {},
   "outputs": [
    {
     "data": {
      "image/png": "[encoded data removed]",
      "text/plain": [
       "<Figure size 640x480 with 1 Axes>"
      ]
     },
     "metadata": {},
     "output_type": "display_data"
    }
   ],
   "source": [
    "plt.figure()\n",
    "plt.plot(train_losses, label='Train Loss')\n",
    "plt.plot(val_losses,   label='Val Loss')\n",
    "plt.xlabel('Epoch')\n",
    "plt.ylabel('L1 Loss')\n",
    "plt.legend()\n",
    "plt.title('Training & Validation Loss')\n",
    "plt.show()"
   ]
  }
 ],
 "metadata": {
  "kernelspec": {
   "display_name": "base",
   "language": "python",
   "name": "python3"
  },
  "language_info": {
   "codemirror_mode": {
    "name": "ipython",
    "version": 3
   },
   "file_extension": ".py",
   "mimetype": "text/x-python",
   "name": "python",
   "nbconvert_exporter": "python",
   "pygments_lexer": "ipython3",
   "version": "3.12.2"
  }
 },
 "nbformat": 4,
 "nbformat_minor": 5
}
