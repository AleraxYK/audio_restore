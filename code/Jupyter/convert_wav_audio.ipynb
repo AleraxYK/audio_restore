{
 "cells": [
  {
   "cell_type": "markdown",
   "id": "76c36658",
   "metadata": {},
   "source": [
    "# Convert Audio in wav format"
   ]
  },
  {
   "cell_type": "code",
   "execution_count": 5,
   "id": "2b9849dc",
   "metadata": {},
   "outputs": [],
   "source": [
    "from pydub import AudioSegment\n",
    "import os\n",
    "from tqdm import tqdm\n",
    "EXTRACT_DIR = '../..'"
   ]
  },
  {
   "cell_type": "code",
   "execution_count": 6,
   "id": "028b4b41",
   "metadata": {},
   "outputs": [
    {
     "name": "stderr",
     "output_type": "stream",
     "text": [
      "Converting audio files: 100%|██████████| 1/1 [00:00<00:00,  4.05it/s]\n"
     ]
    }
   ],
   "source": [
    "def convert_to_wav(file_path, output_dir):\n",
    "    audio = AudioSegment.from_file(file_path)\n",
    "    base = os.path.splitext(os.path.basename(file_path))[0]\n",
    "    output_path = os.path.join(output_dir, base + \".wav\")\n",
    "    audio.export(output_path, format=\"wav\")\n",
    "    return output_path\n",
    "\n",
    "# Crea le directory se non esistono\n",
    "if not os.path.exists(\"../../data/train_data_wav\"):\n",
    "    os.makedirs(\"../../data/train_data_wav\")\n",
    "clean_new_path = os.path.join(\"../..\", \"clean\")\n",
    "degraded_new_path = os.path.join(\"../..\", \"degraded\")\n",
    "if not os.path.exists(clean_new_path):\n",
    "    os.makedirs(clean_new_path)\n",
    "if not os.path.exists(degraded_new_path):\n",
    "    os.makedirs(degraded_new_path)\n",
    "\n",
    "# Converti tutti i file audio in formato WAV con barra di progresso\n",
    "from glob import glob\n",
    "\n",
    "# Raccogli tutti i file audio da convertire\n",
    "audio_files = []\n",
    "for root, dirs, files in os.walk(EXTRACT_DIR):\n",
    "    for file in files:\n",
    "        if file.endswith(('.mp3', '.ogg', '.flac', '.m4a')):\n",
    "            file_path = os.path.join(root, file)\n",
    "            new_path = clean_new_path if \"clean\" in root else degraded_new_path\n",
    "            audio_files.append((file_path, new_path))\n",
    "\n",
    "# Applica la conversione con tqdm\n",
    "for file_path, new_path in tqdm(audio_files, desc=\"Converting audio files\"):\n",
    "    convert_to_wav(file_path, new_path)"
   ]
  }
 ],
 "metadata": {
  "kernelspec": {
   "display_name": "base",
   "language": "python",
   "name": "python3"
  },
  "language_info": {
   "codemirror_mode": {
    "name": "ipython",
    "version": 3
   },
   "file_extension": ".py",
   "mimetype": "text/x-python",
   "name": "python",
   "nbconvert_exporter": "python",
   "pygments_lexer": "ipython3",
   "version": "3.12.2"
  }
 },
 "nbformat": 4,
 "nbformat_minor": 5
}
