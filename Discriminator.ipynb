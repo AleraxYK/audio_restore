{
 "cells": [
  {
   "cell_type": "markdown",
   "id": "b535a5c9",
   "metadata": {},
   "source": [
    "# Download dataset"
   ]
  },
  {
   "cell_type": "code",
   "execution_count": null,
   "id": "a3faa1ef",
   "metadata": {},
   "outputs": [
    {
     "name": "stderr",
     "output_type": "stream",
     "text": [
      "Scaricamento ODAQ: 100%|██████████| 0.98G/0.98G [02:30<00:00, 6.98MiB/s]    \n"
     ]
    },
    {
     "ename": "FileNotFoundError",
     "evalue": "[Errno 2] No such file or directory: 'ODAQ_dataset/ODAQ_results.csv'",
     "output_type": "error",
     "traceback": [
      "\u001b[31m---------------------------------------------------------------------------\u001b[39m",
      "\u001b[31mFileNotFoundError\u001b[39m                         Traceback (most recent call last)",
      "\u001b[36mCell\u001b[39m\u001b[36m \u001b[39m\u001b[32mIn[5]\u001b[39m\u001b[32m, line 70\u001b[39m\n\u001b[32m     68\u001b[39m \u001b[38;5;66;03m# Esempio di utilizzo\u001b[39;00m\n\u001b[32m     69\u001b[39m \u001b[38;5;28;01mif\u001b[39;00m \u001b[34m__name__\u001b[39m == \u001b[33m\"\u001b[39m\u001b[33m__main__\u001b[39m\u001b[33m\"\u001b[39m:\n\u001b[32m---> \u001b[39m\u001b[32m70\u001b[39m     dataset = \u001b[43mprepare_dataset\u001b[49m\u001b[43m(\u001b[49m\u001b[43m)\u001b[49m\n\u001b[32m     71\u001b[39m     dataloader = DataLoader(dataset, batch_size=\u001b[32m16\u001b[39m, shuffle=\u001b[38;5;28;01mTrue\u001b[39;00m)\n\u001b[32m     72\u001b[39m     \u001b[38;5;28;01mfor\u001b[39;00m mel_specs, scores \u001b[38;5;129;01min\u001b[39;00m dataloader:\n",
      "\u001b[36mCell\u001b[39m\u001b[36m \u001b[39m\u001b[32mIn[5]\u001b[39m\u001b[32m, line 65\u001b[39m, in \u001b[36mprepare_dataset\u001b[39m\u001b[34m()\u001b[39m\n\u001b[32m     63\u001b[39m annotations_file = \u001b[33m'\u001b[39m\u001b[33mODAQ_dataset/ODAQ_results.csv\u001b[39m\u001b[33m'\u001b[39m\n\u001b[32m     64\u001b[39m audio_dir = \u001b[33m'\u001b[39m\u001b[33mODAQ_dataset/audio\u001b[39m\u001b[33m'\u001b[39m\n\u001b[32m---> \u001b[39m\u001b[32m65\u001b[39m dataset = \u001b[43mODAQDataset\u001b[49m\u001b[43m(\u001b[49m\u001b[43mannotations_file\u001b[49m\u001b[43m,\u001b[49m\u001b[43m \u001b[49m\u001b[43maudio_dir\u001b[49m\u001b[43m)\u001b[49m\n\u001b[32m     66\u001b[39m \u001b[38;5;28;01mreturn\u001b[39;00m dataset\n",
      "\u001b[36mCell\u001b[39m\u001b[36m \u001b[39m\u001b[32mIn[5]\u001b[39m\u001b[32m, line 36\u001b[39m, in \u001b[36mODAQDataset.__init__\u001b[39m\u001b[34m(self, annotations_file, audio_dir, target_sample_rate, n_mels)\u001b[39m\n\u001b[32m     35\u001b[39m \u001b[38;5;28;01mdef\u001b[39;00m\u001b[38;5;250m \u001b[39m\u001b[34m__init__\u001b[39m(\u001b[38;5;28mself\u001b[39m, annotations_file, audio_dir, target_sample_rate=\u001b[32m44100\u001b[39m, n_mels=\u001b[32m64\u001b[39m):\n\u001b[32m---> \u001b[39m\u001b[32m36\u001b[39m     \u001b[38;5;28mself\u001b[39m.annotations = \u001b[43mpd\u001b[49m\u001b[43m.\u001b[49m\u001b[43mread_csv\u001b[49m\u001b[43m(\u001b[49m\u001b[43mannotations_file\u001b[49m\u001b[43m)\u001b[49m\n\u001b[32m     37\u001b[39m     \u001b[38;5;28mself\u001b[39m.audio_dir = audio_dir\n\u001b[32m     38\u001b[39m     \u001b[38;5;28mself\u001b[39m.target_sample_rate = target_sample_rate\n",
      "\u001b[36mFile \u001b[39m\u001b[32mc:\\Users\\radul\\anaconda3\\envs\\audio_restore_project\\Lib\\site-packages\\pandas\\io\\parsers\\readers.py:1026\u001b[39m, in \u001b[36mread_csv\u001b[39m\u001b[34m(filepath_or_buffer, sep, delimiter, header, names, index_col, usecols, dtype, engine, converters, true_values, false_values, skipinitialspace, skiprows, skipfooter, nrows, na_values, keep_default_na, na_filter, verbose, skip_blank_lines, parse_dates, infer_datetime_format, keep_date_col, date_parser, date_format, dayfirst, cache_dates, iterator, chunksize, compression, thousands, decimal, lineterminator, quotechar, quoting, doublequote, escapechar, comment, encoding, encoding_errors, dialect, on_bad_lines, delim_whitespace, low_memory, memory_map, float_precision, storage_options, dtype_backend)\u001b[39m\n\u001b[32m   1013\u001b[39m kwds_defaults = _refine_defaults_read(\n\u001b[32m   1014\u001b[39m     dialect,\n\u001b[32m   1015\u001b[39m     delimiter,\n\u001b[32m   (...)\u001b[39m\u001b[32m   1022\u001b[39m     dtype_backend=dtype_backend,\n\u001b[32m   1023\u001b[39m )\n\u001b[32m   1024\u001b[39m kwds.update(kwds_defaults)\n\u001b[32m-> \u001b[39m\u001b[32m1026\u001b[39m \u001b[38;5;28;01mreturn\u001b[39;00m \u001b[43m_read\u001b[49m\u001b[43m(\u001b[49m\u001b[43mfilepath_or_buffer\u001b[49m\u001b[43m,\u001b[49m\u001b[43m \u001b[49m\u001b[43mkwds\u001b[49m\u001b[43m)\u001b[49m\n",
      "\u001b[36mFile \u001b[39m\u001b[32mc:\\Users\\radul\\anaconda3\\envs\\audio_restore_project\\Lib\\site-packages\\pandas\\io\\parsers\\readers.py:620\u001b[39m, in \u001b[36m_read\u001b[39m\u001b[34m(filepath_or_buffer, kwds)\u001b[39m\n\u001b[32m    617\u001b[39m _validate_names(kwds.get(\u001b[33m\"\u001b[39m\u001b[33mnames\u001b[39m\u001b[33m\"\u001b[39m, \u001b[38;5;28;01mNone\u001b[39;00m))\n\u001b[32m    619\u001b[39m \u001b[38;5;66;03m# Create the parser.\u001b[39;00m\n\u001b[32m--> \u001b[39m\u001b[32m620\u001b[39m parser = \u001b[43mTextFileReader\u001b[49m\u001b[43m(\u001b[49m\u001b[43mfilepath_or_buffer\u001b[49m\u001b[43m,\u001b[49m\u001b[43m \u001b[49m\u001b[43m*\u001b[49m\u001b[43m*\u001b[49m\u001b[43mkwds\u001b[49m\u001b[43m)\u001b[49m\n\u001b[32m    622\u001b[39m \u001b[38;5;28;01mif\u001b[39;00m chunksize \u001b[38;5;129;01mor\u001b[39;00m iterator:\n\u001b[32m    623\u001b[39m     \u001b[38;5;28;01mreturn\u001b[39;00m parser\n",
      "\u001b[36mFile \u001b[39m\u001b[32mc:\\Users\\radul\\anaconda3\\envs\\audio_restore_project\\Lib\\site-packages\\pandas\\io\\parsers\\readers.py:1620\u001b[39m, in \u001b[36mTextFileReader.__init__\u001b[39m\u001b[34m(self, f, engine, **kwds)\u001b[39m\n\u001b[32m   1617\u001b[39m     \u001b[38;5;28mself\u001b[39m.options[\u001b[33m\"\u001b[39m\u001b[33mhas_index_names\u001b[39m\u001b[33m\"\u001b[39m] = kwds[\u001b[33m\"\u001b[39m\u001b[33mhas_index_names\u001b[39m\u001b[33m\"\u001b[39m]\n\u001b[32m   1619\u001b[39m \u001b[38;5;28mself\u001b[39m.handles: IOHandles | \u001b[38;5;28;01mNone\u001b[39;00m = \u001b[38;5;28;01mNone\u001b[39;00m\n\u001b[32m-> \u001b[39m\u001b[32m1620\u001b[39m \u001b[38;5;28mself\u001b[39m._engine = \u001b[38;5;28;43mself\u001b[39;49m\u001b[43m.\u001b[49m\u001b[43m_make_engine\u001b[49m\u001b[43m(\u001b[49m\u001b[43mf\u001b[49m\u001b[43m,\u001b[49m\u001b[43m \u001b[49m\u001b[38;5;28;43mself\u001b[39;49m\u001b[43m.\u001b[49m\u001b[43mengine\u001b[49m\u001b[43m)\u001b[49m\n",
      "\u001b[36mFile \u001b[39m\u001b[32mc:\\Users\\radul\\anaconda3\\envs\\audio_restore_project\\Lib\\site-packages\\pandas\\io\\parsers\\readers.py:1880\u001b[39m, in \u001b[36mTextFileReader._make_engine\u001b[39m\u001b[34m(self, f, engine)\u001b[39m\n\u001b[32m   1878\u001b[39m     \u001b[38;5;28;01mif\u001b[39;00m \u001b[33m\"\u001b[39m\u001b[33mb\u001b[39m\u001b[33m\"\u001b[39m \u001b[38;5;129;01mnot\u001b[39;00m \u001b[38;5;129;01min\u001b[39;00m mode:\n\u001b[32m   1879\u001b[39m         mode += \u001b[33m\"\u001b[39m\u001b[33mb\u001b[39m\u001b[33m\"\u001b[39m\n\u001b[32m-> \u001b[39m\u001b[32m1880\u001b[39m \u001b[38;5;28mself\u001b[39m.handles = \u001b[43mget_handle\u001b[49m\u001b[43m(\u001b[49m\n\u001b[32m   1881\u001b[39m \u001b[43m    \u001b[49m\u001b[43mf\u001b[49m\u001b[43m,\u001b[49m\n\u001b[32m   1882\u001b[39m \u001b[43m    \u001b[49m\u001b[43mmode\u001b[49m\u001b[43m,\u001b[49m\n\u001b[32m   1883\u001b[39m \u001b[43m    \u001b[49m\u001b[43mencoding\u001b[49m\u001b[43m=\u001b[49m\u001b[38;5;28;43mself\u001b[39;49m\u001b[43m.\u001b[49m\u001b[43moptions\u001b[49m\u001b[43m.\u001b[49m\u001b[43mget\u001b[49m\u001b[43m(\u001b[49m\u001b[33;43m\"\u001b[39;49m\u001b[33;43mencoding\u001b[39;49m\u001b[33;43m\"\u001b[39;49m\u001b[43m,\u001b[49m\u001b[43m \u001b[49m\u001b[38;5;28;43;01mNone\u001b[39;49;00m\u001b[43m)\u001b[49m\u001b[43m,\u001b[49m\n\u001b[32m   1884\u001b[39m \u001b[43m    \u001b[49m\u001b[43mcompression\u001b[49m\u001b[43m=\u001b[49m\u001b[38;5;28;43mself\u001b[39;49m\u001b[43m.\u001b[49m\u001b[43moptions\u001b[49m\u001b[43m.\u001b[49m\u001b[43mget\u001b[49m\u001b[43m(\u001b[49m\u001b[33;43m\"\u001b[39;49m\u001b[33;43mcompression\u001b[39;49m\u001b[33;43m\"\u001b[39;49m\u001b[43m,\u001b[49m\u001b[43m \u001b[49m\u001b[38;5;28;43;01mNone\u001b[39;49;00m\u001b[43m)\u001b[49m\u001b[43m,\u001b[49m\n\u001b[32m   1885\u001b[39m \u001b[43m    \u001b[49m\u001b[43mmemory_map\u001b[49m\u001b[43m=\u001b[49m\u001b[38;5;28;43mself\u001b[39;49m\u001b[43m.\u001b[49m\u001b[43moptions\u001b[49m\u001b[43m.\u001b[49m\u001b[43mget\u001b[49m\u001b[43m(\u001b[49m\u001b[33;43m\"\u001b[39;49m\u001b[33;43mmemory_map\u001b[39;49m\u001b[33;43m\"\u001b[39;49m\u001b[43m,\u001b[49m\u001b[43m \u001b[49m\u001b[38;5;28;43;01mFalse\u001b[39;49;00m\u001b[43m)\u001b[49m\u001b[43m,\u001b[49m\n\u001b[32m   1886\u001b[39m \u001b[43m    \u001b[49m\u001b[43mis_text\u001b[49m\u001b[43m=\u001b[49m\u001b[43mis_text\u001b[49m\u001b[43m,\u001b[49m\n\u001b[32m   1887\u001b[39m \u001b[43m    \u001b[49m\u001b[43merrors\u001b[49m\u001b[43m=\u001b[49m\u001b[38;5;28;43mself\u001b[39;49m\u001b[43m.\u001b[49m\u001b[43moptions\u001b[49m\u001b[43m.\u001b[49m\u001b[43mget\u001b[49m\u001b[43m(\u001b[49m\u001b[33;43m\"\u001b[39;49m\u001b[33;43mencoding_errors\u001b[39;49m\u001b[33;43m\"\u001b[39;49m\u001b[43m,\u001b[49m\u001b[43m \u001b[49m\u001b[33;43m\"\u001b[39;49m\u001b[33;43mstrict\u001b[39;49m\u001b[33;43m\"\u001b[39;49m\u001b[43m)\u001b[49m\u001b[43m,\u001b[49m\n\u001b[32m   1888\u001b[39m \u001b[43m    \u001b[49m\u001b[43mstorage_options\u001b[49m\u001b[43m=\u001b[49m\u001b[38;5;28;43mself\u001b[39;49m\u001b[43m.\u001b[49m\u001b[43moptions\u001b[49m\u001b[43m.\u001b[49m\u001b[43mget\u001b[49m\u001b[43m(\u001b[49m\u001b[33;43m\"\u001b[39;49m\u001b[33;43mstorage_options\u001b[39;49m\u001b[33;43m\"\u001b[39;49m\u001b[43m,\u001b[49m\u001b[43m \u001b[49m\u001b[38;5;28;43;01mNone\u001b[39;49;00m\u001b[43m)\u001b[49m\u001b[43m,\u001b[49m\n\u001b[32m   1889\u001b[39m \u001b[43m\u001b[49m\u001b[43m)\u001b[49m\n\u001b[32m   1890\u001b[39m \u001b[38;5;28;01massert\u001b[39;00m \u001b[38;5;28mself\u001b[39m.handles \u001b[38;5;129;01mis\u001b[39;00m \u001b[38;5;129;01mnot\u001b[39;00m \u001b[38;5;28;01mNone\u001b[39;00m\n\u001b[32m   1891\u001b[39m f = \u001b[38;5;28mself\u001b[39m.handles.handle\n",
      "\u001b[36mFile \u001b[39m\u001b[32mc:\\Users\\radul\\anaconda3\\envs\\audio_restore_project\\Lib\\site-packages\\pandas\\io\\common.py:873\u001b[39m, in \u001b[36mget_handle\u001b[39m\u001b[34m(path_or_buf, mode, encoding, compression, memory_map, is_text, errors, storage_options)\u001b[39m\n\u001b[32m    868\u001b[39m \u001b[38;5;28;01melif\u001b[39;00m \u001b[38;5;28misinstance\u001b[39m(handle, \u001b[38;5;28mstr\u001b[39m):\n\u001b[32m    869\u001b[39m     \u001b[38;5;66;03m# Check whether the filename is to be opened in binary mode.\u001b[39;00m\n\u001b[32m    870\u001b[39m     \u001b[38;5;66;03m# Binary mode does not support 'encoding' and 'newline'.\u001b[39;00m\n\u001b[32m    871\u001b[39m     \u001b[38;5;28;01mif\u001b[39;00m ioargs.encoding \u001b[38;5;129;01mand\u001b[39;00m \u001b[33m\"\u001b[39m\u001b[33mb\u001b[39m\u001b[33m\"\u001b[39m \u001b[38;5;129;01mnot\u001b[39;00m \u001b[38;5;129;01min\u001b[39;00m ioargs.mode:\n\u001b[32m    872\u001b[39m         \u001b[38;5;66;03m# Encoding\u001b[39;00m\n\u001b[32m--> \u001b[39m\u001b[32m873\u001b[39m         handle = \u001b[38;5;28;43mopen\u001b[39;49m\u001b[43m(\u001b[49m\n\u001b[32m    874\u001b[39m \u001b[43m            \u001b[49m\u001b[43mhandle\u001b[49m\u001b[43m,\u001b[49m\n\u001b[32m    875\u001b[39m \u001b[43m            \u001b[49m\u001b[43mioargs\u001b[49m\u001b[43m.\u001b[49m\u001b[43mmode\u001b[49m\u001b[43m,\u001b[49m\n\u001b[32m    876\u001b[39m \u001b[43m            \u001b[49m\u001b[43mencoding\u001b[49m\u001b[43m=\u001b[49m\u001b[43mioargs\u001b[49m\u001b[43m.\u001b[49m\u001b[43mencoding\u001b[49m\u001b[43m,\u001b[49m\n\u001b[32m    877\u001b[39m \u001b[43m            \u001b[49m\u001b[43merrors\u001b[49m\u001b[43m=\u001b[49m\u001b[43merrors\u001b[49m\u001b[43m,\u001b[49m\n\u001b[32m    878\u001b[39m \u001b[43m            \u001b[49m\u001b[43mnewline\u001b[49m\u001b[43m=\u001b[49m\u001b[33;43m\"\u001b[39;49m\u001b[33;43m\"\u001b[39;49m\u001b[43m,\u001b[49m\n\u001b[32m    879\u001b[39m \u001b[43m        \u001b[49m\u001b[43m)\u001b[49m\n\u001b[32m    880\u001b[39m     \u001b[38;5;28;01melse\u001b[39;00m:\n\u001b[32m    881\u001b[39m         \u001b[38;5;66;03m# Binary mode\u001b[39;00m\n\u001b[32m    882\u001b[39m         handle = \u001b[38;5;28mopen\u001b[39m(handle, ioargs.mode)\n",
      "\u001b[31mFileNotFoundError\u001b[39m: [Errno 2] No such file or directory: 'ODAQ_dataset/ODAQ_results.csv'"
     ]
    }
   ],
   "source": [
    "import os\n",
    "import zipfile\n",
    "import requests\n",
    "import pandas as pd\n",
    "import torchaudio\n",
    "import torch\n",
    "from torch.utils.data import Dataset, DataLoader\n",
    "from torchaudio.transforms import MelSpectrogram, AmplitudeToDB\n",
    "from tqdm import tqdm\n",
    "\n",
    "# Step 1: Scarica e decomprimi il dataset con barra di avanzamento\n",
    "def download_and_unzip(url, extract_to='.'):\n",
    "    local_zip = 'ODAQ_dataset.zip'\n",
    "    response = requests.get(url, stream=True)\n",
    "    total_size = int(response.headers.get('content-length', 0))\n",
    "    block_size = 1024  # 1 Kibibyte\n",
    "\n",
    "    with open(local_zip, 'wb') as f, tqdm(\n",
    "        desc=\"Scaricamento ODAQ\",\n",
    "        total=total_size,\n",
    "        unit='iB',\n",
    "        unit_scale=True,\n",
    "        unit_divisor=1024,\n",
    "    ) as bar:\n",
    "        for data in response.iter_content(block_size):\n",
    "            f.write(data)\n",
    "            bar.update(len(data))\n",
    "\n",
    "    with zipfile.ZipFile(local_zip, 'r') as zip_ref:\n",
    "        zip_ref.extractall(extract_to)\n",
    "    os.remove(local_zip)\n",
    "\n",
    "# Step 2: Dataset PyTorch\n",
    "class ODAQDataset(Dataset):\n",
    "    def __init__(self, annotations_file, audio_dir, target_sample_rate=44100, n_mels=64):\n",
    "        self.annotations = pd.read_csv(annotations_file)\n",
    "        self.audio_dir = audio_dir\n",
    "        self.target_sample_rate = target_sample_rate\n",
    "        self.mel_spectrogram = MelSpectrogram(\n",
    "            sample_rate=self.target_sample_rate,\n",
    "            n_mels=n_mels,\n",
    "            n_fft=1024,\n",
    "            hop_length=512\n",
    "        )\n",
    "        self.amplitude_to_db = AmplitudeToDB()\n",
    "\n",
    "    def __len__(self):\n",
    "        return len(self.annotations)\n",
    "\n",
    "    def __getitem__(self, idx):\n",
    "        audio_path = os.path.join(self.audio_dir, self.annotations.iloc[idx, 0])\n",
    "        waveform, sample_rate = torchaudio.load(audio_path)\n",
    "        if sample_rate != self.target_sample_rate:\n",
    "            waveform = torchaudio.transforms.Resample(orig_freq=sample_rate, new_freq=self.target_sample_rate)(waveform)\n",
    "        mel_spec = self.mel_spectrogram(waveform)\n",
    "        mel_spec_db = self.amplitude_to_db(mel_spec)\n",
    "        score = torch.tensor(self.annotations.iloc[idx, 1], dtype=torch.float32)\n",
    "        return mel_spec_db, score\n",
    "# Step 3: Esegui tutto\n",
    "def prepare_dataset():\n",
    "    # dataset_url = 'https://zenodo.org/records/10405774/files/ODAQ.zip'\n",
    "    # download_and_unzip(dataset_url, 'ODAQ_dataset')\n",
    "    annotations_file = 'ODAQ_dataset/ODAQ/ODAQ_listening_test/ODAQ_results.csv'\n",
    "    audio_dir = 'ODAQ_dataset/ODAQ/ODAQ_listening_test'\n",
    "    dataset = ODAQDataset(annotations_file, audio_dir)\n",
    "    return dataset\n",
    "\n",
    "# Esempio di utilizzo\n",
    "if __name__ == \"__main__\":\n",
    "    dataset = prepare_dataset()\n",
    "    dataloader = DataLoader(dataset, batch_size=16, shuffle=True)\n",
    "    for mel_specs, scores in dataloader:\n",
    "        print(mel_specs.shape, scores.shape)\n",
    "        break\n"
   ]
  },
  {
   "cell_type": "markdown",
   "id": "0d20afe4",
   "metadata": {},
   "source": [
    "# Dataset build"
   ]
  },
  {
   "cell_type": "code",
   "execution_count": 2,
   "id": "006d6f5b",
   "metadata": {},
   "outputs": [],
   "source": [
    "import pandas as pd\n",
    "import os\n",
    "\n",
    "csv_path = \"ODAQ_dataset/ODAQ_results.csv\"\n",
    "\n",
    "# Carica il file Excel\n",
    "df = pd.read_csv(csv_path)\n",
    "\n",
    "# Calcola la media dei punteggi per ciascun 'item'\n",
    "mean_scores = df.groupby(['item', 'process'])['score'].mean().reset_index()\n",
    "\n",
    "# Rinomina le colonne per chiarezza\n",
    "mean_scores.columns = ['item', 'process', 'mean_score']\n",
    "# Save il DataFrame in un file CSV\n",
    "mean_scores.to_csv(\"ODAQ_dataset/mean_scores_long.csv\", index=False)\n"
   ]
  },
  {
   "cell_type": "code",
   "execution_count": 23,
   "id": "d1c1caf0",
   "metadata": {},
   "outputs": [],
   "source": [
    "import librosa\n",
    "import torch\n",
    "from torch.utils.data import Dataset\n",
    "import torchaudio\n",
    "import os\n",
    "import pandas as pd\n",
    "import random\n",
    "\n",
    "class SpectrogramDataset(Dataset):\n",
    "    def __init__(self, csv_file, root_dir, transform=None, target_length=2400, augment=False, max_shift_pct=0.1):\n",
    "        self.data = pd.read_csv(csv_file)\n",
    "        self.root_dir = root_dir\n",
    "        self.transform = transform or torchaudio.transforms.MelSpectrogram()\n",
    "        self.target_length = target_length\n",
    "        self.augment = augment\n",
    "        self.max_shift_pct = max_shift_pct  # max shift percentage of audio length (es. 0.1 = 10%)\n",
    "\n",
    "    def time_shift(self, waveform):\n",
    "        # shift massimo in samples (±)\n",
    "        max_shift = int(waveform.shape[0] * self.max_shift_pct)\n",
    "        shift = random.randint(-max_shift, max_shift)\n",
    "\n",
    "        if shift == 0:\n",
    "            return waveform\n",
    "\n",
    "        if shift > 0:\n",
    "            waveform = torch.cat([waveform[shift:], torch.zeros(shift)])\n",
    "        else:  # shift < 0\n",
    "            waveform = torch.cat([torch.zeros(-shift), waveform[:shift]])\n",
    "\n",
    "        return waveform\n",
    "\n",
    "    def __len__(self):\n",
    "        return len(self.data)\n",
    "\n",
    "    def __getitem__(self, idx):\n",
    "        row = self.data.iloc[idx]\n",
    "        item = row['item']\n",
    "        process = row['process']\n",
    "        score = torch.tensor(row['mean_score'], dtype=torch.float32)\n",
    "\n",
    "        wav_path = os.path.join(self.root_dir, item, f\"{process}.wav\")\n",
    "\n",
    "        waveform_np, sr = librosa.load(wav_path, sr=None)\n",
    "        waveform = torch.tensor(waveform_np)\n",
    "\n",
    "        # Applica time shift se augment=True\n",
    "        if self.augment:\n",
    "            waveform = self.time_shift(waveform)\n",
    "\n",
    "        spectrogram = self.transform(waveform)\n",
    "        spectrogram = torch.log1p(spectrogram)\n",
    "        spectrogram = (spectrogram - spectrogram.mean()) / (spectrogram.std() + 1e-6)\n",
    "\n",
    "        # Taglia o riempi per lunghezza fissa\n",
    "        if spectrogram.shape[1] < self.target_length:\n",
    "            pad_size = self.target_length - spectrogram.shape[1]\n",
    "            spectrogram = torch.nn.functional.pad(spectrogram, (0, pad_size))\n",
    "        else:\n",
    "            spectrogram = spectrogram[:, :self.target_length]\n",
    "\n",
    "        spectrogram = spectrogram.unsqueeze(0)  # [1, n_mels, time]\n",
    "\n",
    "        return {\n",
    "            'spectrogram': spectrogram,\n",
    "            'score': score\n",
    "        }\n"
   ]
  },
  {
   "cell_type": "code",
   "execution_count": 24,
   "id": "551bb7d0",
   "metadata": {},
   "outputs": [
    {
     "name": "stderr",
     "output_type": "stream",
     "text": [
      "c:\\Users\\radul\\anaconda3\\envs\\audio_restore_project\\Lib\\site-packages\\torchaudio\\functional\\functional.py:584: UserWarning: At least one mel filterbank has all zero values. The value for `n_mels` (128) may be set too high. Or, the value for `n_freqs` (201) may be set too low.\n",
      "  warnings.warn(\n"
     ]
    }
   ],
   "source": [
    "from torch.utils.data import random_split, DataLoader\n",
    "\n",
    "csv_path = \"ODAQ_dataset/mean_scores_long.csv\"\n",
    "\n",
    "# Dataset intero\n",
    "full_dataset = SpectrogramDataset(csv_path, root_dir=\"ODAQ_dataset\", augment=True)\n",
    "\n",
    "# Lunghezze per la divisione\n",
    "total_len = len(full_dataset)\n",
    "train_len = int(0.7 * total_len)\n",
    "val_len = int(0.15 * total_len)\n",
    "test_len = total_len - train_len - val_len  # Assicura somma esatta\n",
    "\n",
    "# Suddivisione casuale (usa seed per ripetibilità)\n",
    "train_dataset, val_dataset, test_dataset = random_split(\n",
    "    full_dataset,\n",
    "    [train_len, val_len, test_len],\n",
    "    generator=torch.Generator().manual_seed(42)  # seed riproducibile\n",
    ")\n",
    "\n",
    "# DataLoader per ciascun set\n",
    "train_loader = DataLoader(train_dataset, batch_size=32, shuffle=True)\n",
    "val_loader = DataLoader(val_dataset, batch_size=32, shuffle=False)\n",
    "test_loader = DataLoader(test_dataset, batch_size=32, shuffle=False)\n"
   ]
  },
  {
   "cell_type": "code",
   "execution_count": 8,
   "id": "d6dee166",
   "metadata": {},
   "outputs": [
    {
     "name": "stdout",
     "output_type": "stream",
     "text": [
      "Train loader example:\n",
      "Spectrogram shape: torch.Size([32, 1, 128, 2400]), Score shape: torch.Size([32])\n"
     ]
    }
   ],
   "source": [
    "# get one dataloader element\n",
    "print(\"Train loader example:\")\n",
    "for batch in train_loader:\n",
    "    spectrogram = batch['spectrogram']\n",
    "    score = batch['score']\n",
    "    print(f\"Spectrogram shape: {spectrogram.shape}, Score shape: {score.shape}\")\n",
    "    break"
   ]
  },
  {
   "cell_type": "code",
   "execution_count": 25,
   "id": "07a97b87",
   "metadata": {},
   "outputs": [
    {
     "data": {
      "image/png": "[encoded data removed]",
      "text/plain": [
       "<Figure size 1000x400 with 2 Axes>"
      ]
     },
     "metadata": {},
     "output_type": "display_data"
    }
   ],
   "source": [
    "import matplotlib.pyplot as plt\n",
    "\n",
    "# Mostra il primo spettrogramma del batch\n",
    "plt.figure(figsize=(10, 4))\n",
    "plt.imshow(spectrogram[0].squeeze(0).numpy(), aspect='auto', origin='lower')\n",
    "plt.title(f\"Score: {score[0].item():.2f}\")\n",
    "plt.colorbar(label='Amplitude')\n",
    "plt.xlabel(\"Time\")\n",
    "plt.ylabel(\"Mel bins\")\n",
    "plt.tight_layout()\n",
    "plt.show()\n"
   ]
  },
  {
   "cell_type": "markdown",
   "id": "37f62bbb",
   "metadata": {},
   "source": [
    "# MODEL"
   ]
  },
  {
   "cell_type": "code",
   "execution_count": 26,
   "id": "411f4517",
   "metadata": {},
   "outputs": [],
   "source": [
    "import torch.nn as nn\n",
    "import torch.nn.functional as F\n",
    "\n",
    "class AudioQualityCNN(nn.Module):\n",
    "    def __init__(self):\n",
    "        super(AudioQualityCNN, self).__init__()\n",
    "\n",
    "        self.conv_block = nn.Sequential(\n",
    "            nn.Conv2d(1, 16, kernel_size=3, padding=1),\n",
    "            nn.BatchNorm2d(16),\n",
    "            nn.ReLU(),\n",
    "            nn.MaxPool2d((2, 2)),  # [16, 64, 1200]\n",
    "\n",
    "            nn.Conv2d(16, 32, kernel_size=3, padding=1),\n",
    "            nn.BatchNorm2d(32),\n",
    "            nn.ReLU(),\n",
    "            nn.MaxPool2d((2, 2)),  # [32, 32, 600]\n",
    "\n",
    "            nn.Conv2d(32, 64, kernel_size=3, padding=1),\n",
    "            nn.BatchNorm2d(64),\n",
    "            nn.ReLU(),\n",
    "            nn.MaxPool2d((2, 2))   # [64, 16, 300]\n",
    "        )\n",
    "\n",
    "        self.fc_block = nn.Sequential(\n",
    "            nn.Flatten(),                      # [64 * 16 * 300] = 307200\n",
    "            nn.Linear(64 * 16 * 300, 512),\n",
    "            nn.ReLU(),\n",
    "            nn.Dropout(0.3),\n",
    "            nn.Linear(512, 1)                  # Output: qualità\n",
    "        )\n",
    "\n",
    "    def forward(self, x):\n",
    "        x = self.conv_block(x)\n",
    "        x = self.fc_block(x)\n",
    "        return x.squeeze(1)  # Output shape: [batch_size]\n"
   ]
  },
  {
   "cell_type": "markdown",
   "id": "c0e2e877",
   "metadata": {},
   "source": [
    "# TRAIN"
   ]
  },
  {
   "cell_type": "code",
   "execution_count": 27,
   "id": "d1931bf1",
   "metadata": {},
   "outputs": [],
   "source": [
    "import torch\n",
    "from torch.utils.data import DataLoader\n",
    "from torch import nn\n",
    "from tqdm import tqdm\n",
    "import os\n",
    "\n",
    "device = torch.device(\"cuda\" if torch.cuda.is_available() else \"cpu\")\n",
    "\n",
    "model = AudioQualityCNN().to(device)\n",
    "optimizer = torch.optim.Adam(model.parameters(), lr=1e-4)\n",
    "loss_fn = nn.MSELoss()  # oppure nn.L1Loss() per MAE diretta\n",
    "scheduler = torch.optim.lr_scheduler.ReduceLROnPlateau(optimizer, mode='min', factor=0.5, patience=3)\n",
    "\n",
    "\n",
    "def train(model, train_loader, val_loader, epochs=20):\n",
    "    best_val_loss = float('inf')\n",
    "    patience = 3\n",
    "    epochs_without_improvement = 0\n",
    "\n",
    "    os.makedirs(\"model\", exist_ok=True)\n",
    "\n",
    "    for epoch in range(epochs):\n",
    "        model.train()\n",
    "        running_loss = 0.0\n",
    "        running_mae = 0.0\n",
    "\n",
    "        loop = tqdm(train_loader, total=len(train_loader))\n",
    "\n",
    "        for batch in loop:\n",
    "            inputs = batch['spectrogram'].to(device)\n",
    "            targets = batch['score'].to(device)\n",
    "\n",
    "            optimizer.zero_grad()\n",
    "            outputs = model(inputs)\n",
    "            loss = loss_fn(outputs, targets)\n",
    "            loss.backward()\n",
    "            optimizer.step()\n",
    "\n",
    "            running_loss += loss.item() * inputs.size(0)\n",
    "\n",
    "            # MAE per batch\n",
    "            batch_mae = torch.mean(torch.abs(outputs - targets)).item()\n",
    "            running_mae += batch_mae * inputs.size(0)\n",
    "\n",
    "            loop.set_description(f\"\\033[34mEpoch [{epoch+1}/{epochs}]\\033[0m\")\n",
    "            loop.set_postfix(loss=loss.item(), mae=batch_mae)\n",
    "\n",
    "        avg_train_loss = running_loss / len(train_loader.dataset)\n",
    "        avg_train_mae = running_mae / len(train_loader.dataset)\n",
    "\n",
    "        scheduler.step(avg_train_loss)\n",
    "\n",
    "        tqdm.write(f\"\\033[34mEpoch [{epoch+1}/{epochs}]\\033[0m, \"\n",
    "                   f\"Train Loss: {avg_train_loss:.4f}, Train MAE: {avg_train_mae:.2f}\")\n",
    "\n",
    "        #### VALIDATION ####\n",
    "        model.eval()\n",
    "        val_loss = 0.0\n",
    "        val_mae = 0.0\n",
    "\n",
    "        with torch.no_grad():\n",
    "            for batch in val_loader:\n",
    "                inputs = batch['spectrogram'].to(device)\n",
    "                targets = batch['score'].to(device)\n",
    "                outputs = model(inputs)\n",
    "\n",
    "                loss = loss_fn(outputs, targets)\n",
    "                val_loss += loss.item() * inputs.size(0)\n",
    "\n",
    "                batch_mae = torch.mean(torch.abs(outputs - targets)).item()\n",
    "                val_mae += batch_mae * inputs.size(0)\n",
    "\n",
    "        avg_val_loss = val_loss / len(val_loader.dataset)\n",
    "        avg_val_mae = val_mae / len(val_loader.dataset)\n",
    "\n",
    "        tqdm.write(f\"\\033[32mValidation Loss: {avg_val_loss:.4f}, Validation MAE: {avg_val_mae:.2f}\\033[0m\")\n",
    "\n",
    "        if avg_val_loss < best_val_loss:\n",
    "            best_val_loss = avg_val_loss\n",
    "            torch.save(model.state_dict(), \"model/best_model.pth\")\n",
    "            epochs_without_improvement = 0\n",
    "            tqdm.write(f\"\\033[32mModel saved!\\033[0m\")\n",
    "        else:\n",
    "            epochs_without_improvement += 1\n",
    "            tqdm.write(f\"\\033[31mNo improvement ({epochs_without_improvement}/{patience})\\033[0m\")\n",
    "\n",
    "        if epochs_without_improvement >= patience:\n",
    "            tqdm.write(f\"\\033[31mEarly stopping triggered\\033[0m\")\n",
    "            break\n"
   ]
  },
  {
   "cell_type": "code",
   "execution_count": 29,
   "id": "8e35e328",
   "metadata": {},
   "outputs": [
    {
     "name": "stderr",
     "output_type": "stream",
     "text": [
      "\u001b[34mEpoch [1/30]\u001b[0m: 100%|██████████| 6/6 [00:18<00:00,  3.11s/it, loss=587, mae=19.2]\n"
     ]
    },
    {
     "name": "stdout",
     "output_type": "stream",
     "text": [
      "\u001b[34mEpoch [1/30]\u001b[0m, Train Loss: 673.4465, Train MAE: 21.66\n",
      "\u001b[32mValidation Loss: 864.6388, Validation MAE: 26.59\u001b[0m\n",
      "\u001b[32mModel saved!\u001b[0m\n"
     ]
    },
    {
     "name": "stderr",
     "output_type": "stream",
     "text": [
      "\u001b[34mEpoch [2/30]\u001b[0m: 100%|██████████| 6/6 [00:18<00:00,  3.12s/it, loss=1.02e+3, mae=27.9]\n"
     ]
    },
    {
     "name": "stdout",
     "output_type": "stream",
     "text": [
      "\u001b[34mEpoch [2/30]\u001b[0m, Train Loss: 713.6727, Train MAE: 22.19\n",
      "\u001b[32mValidation Loss: 907.2527, Validation MAE: 26.66\u001b[0m\n",
      "\u001b[31mNo improvement (1/3)\u001b[0m\n"
     ]
    },
    {
     "name": "stderr",
     "output_type": "stream",
     "text": [
      "\u001b[34mEpoch [3/30]\u001b[0m: 100%|██████████| 6/6 [00:18<00:00,  3.11s/it, loss=602, mae=20.6]\n"
     ]
    },
    {
     "name": "stdout",
     "output_type": "stream",
     "text": [
      "\u001b[34mEpoch [3/30]\u001b[0m, Train Loss: 700.6142, Train MAE: 22.24\n",
      "\u001b[32mValidation Loss: 847.1121, Validation MAE: 25.48\u001b[0m\n",
      "\u001b[32mModel saved!\u001b[0m\n"
     ]
    },
    {
     "name": "stderr",
     "output_type": "stream",
     "text": [
      "\u001b[34mEpoch [4/30]\u001b[0m: 100%|██████████| 6/6 [00:18<00:00,  3.09s/it, loss=636, mae=22]  \n"
     ]
    },
    {
     "name": "stdout",
     "output_type": "stream",
     "text": [
      "\u001b[34mEpoch [4/30]\u001b[0m, Train Loss: 666.6382, Train MAE: 21.42\n",
      "\u001b[32mValidation Loss: 841.0141, Validation MAE: 25.81\u001b[0m\n",
      "\u001b[32mModel saved!\u001b[0m\n"
     ]
    },
    {
     "name": "stderr",
     "output_type": "stream",
     "text": [
      "\u001b[34mEpoch [5/30]\u001b[0m: 100%|██████████| 6/6 [00:18<00:00,  3.11s/it, loss=577, mae=21.7]\n"
     ]
    },
    {
     "name": "stdout",
     "output_type": "stream",
     "text": [
      "\u001b[34mEpoch [5/30]\u001b[0m, Train Loss: 655.6476, Train MAE: 21.16\n",
      "\u001b[32mValidation Loss: 862.5699, Validation MAE: 25.92\u001b[0m\n",
      "\u001b[31mNo improvement (1/3)\u001b[0m\n"
     ]
    },
    {
     "name": "stderr",
     "output_type": "stream",
     "text": [
      "\u001b[34mEpoch [6/30]\u001b[0m: 100%|██████████| 6/6 [00:18<00:00,  3.12s/it, loss=1.28e+3, mae=28.9]\n"
     ]
    },
    {
     "name": "stdout",
     "output_type": "stream",
     "text": [
      "\u001b[34mEpoch [6/30]\u001b[0m, Train Loss: 677.8350, Train MAE: 21.50\n",
      "\u001b[32mValidation Loss: 922.6269, Validation MAE: 27.18\u001b[0m\n",
      "\u001b[31mNo improvement (2/3)\u001b[0m\n"
     ]
    },
    {
     "name": "stderr",
     "output_type": "stream",
     "text": [
      "\u001b[34mEpoch [7/30]\u001b[0m: 100%|██████████| 6/6 [00:18<00:00,  3.12s/it, loss=645, mae=22.9]\n"
     ]
    },
    {
     "name": "stdout",
     "output_type": "stream",
     "text": [
      "\u001b[34mEpoch [7/30]\u001b[0m, Train Loss: 647.8408, Train MAE: 21.41\n",
      "\u001b[32mValidation Loss: 919.3894, Validation MAE: 26.68\u001b[0m\n",
      "\u001b[31mNo improvement (3/3)\u001b[0m\n",
      "\u001b[31mEarly stopping triggered\u001b[0m\n"
     ]
    }
   ],
   "source": [
    "train(model, train_loader, val_loader, epochs=30)\n"
   ]
  }
 ],
 "metadata": {
  "kernelspec": {
   "display_name": "audio_restore_project",
   "language": "python",
   "name": "python3"
  },
  "language_info": {
   "codemirror_mode": {
    "name": "ipython",
    "version": 3
   },
   "file_extension": ".py",
   "mimetype": "text/x-python",
   "name": "python",
   "nbconvert_exporter": "python",
   "pygments_lexer": "ipython3",
   "version": "3.12.2"
  }
 },
 "nbformat": 4,
 "nbformat_minor": 5
}
