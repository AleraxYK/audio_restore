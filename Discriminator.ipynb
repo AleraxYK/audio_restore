{
 "cells": [
  {
   "cell_type": "markdown",
   "id": "805241d8",
   "metadata": {},
   "source": [
    "# IMPORTS"
   ]
  },
  {
   "cell_type": "code",
   "execution_count": null,
   "id": "4ed0a7ee",
   "metadata": {},
   "outputs": [],
   "source": [
    "import gdown\n",
    "import zipfile\n",
    "import os\n",
    "from tqdm import tqdm\n",
    "import shutil\n",
    "\n",
    "import torchaudio\n",
    "import torch\n",
    "from torch.utils.data import Dataset, DataLoader, random_split\n",
    "from torchaudio.transforms import MelSpectrogram, AmplitudeToDB\n",
    "\n",
    "import pandas as pd\n",
    "import matplotlib.pyplot as plt\n",
    "\n",
    "import torch.nn as nn\n",
    "import torch.nn.functional as F\n",
    "\n",
    "# === CONFIGURAZIONE ===\n",
    "FILE_ID = \"1zHPs5LurXfPwDDD2jXhpegEchvXTQWRP\"  # <-- Cambia qui se serve\n",
    "OUTPUT_ZIP = \"train.zip\"\n",
    "EXTRACT_DIR = \"train_data\""
   ]
  },
  {
   "cell_type": "markdown",
   "id": "b535a5c9",
   "metadata": {},
   "source": [
    "# Data manipulation"
   ]
  },
  {
   "cell_type": "markdown",
   "id": "2a3f4155",
   "metadata": {},
   "source": [
    "Now we are gonna download and manipulate the data to make them usable for the dataset that we are gonna create"
   ]
  },
  {
   "cell_type": "code",
   "execution_count": null,
   "id": "631ec657",
   "metadata": {},
   "outputs": [
    {
     "name": "stdout",
     "output_type": "stream",
     "text": [
      "Inizio download del file da Google Drive...\n"
     ]
    },
    {
     "name": "stderr",
     "output_type": "stream",
     "text": [
      "train.zip: 0.00B [37:45, ?B/s]\n"
     ]
    },
    {
     "name": "stdout",
     "output_type": "stream",
     "text": [
      "Download completato!\n",
      "Estrazione di train.zip nella cartella 'train_data'...\n"
     ]
    },
    {
     "name": "stderr",
     "output_type": "stream",
     "text": [
      "Estrazione file: 100%|██████████| 31994/31994 [02:07<00:00, 251.88it/s]"
     ]
    },
    {
     "name": "stdout",
     "output_type": "stream",
     "text": [
      "Estrazione completata!\n"
     ]
    },
    {
     "name": "stderr",
     "output_type": "stream",
     "text": [
      "\n"
     ]
    }
   ],
   "source": [
    "\n",
    "# === 1. Scarica da Google Drive con barra di progresso ===\n",
    "print(\"Inizio download del file da Google Drive...\")\n",
    "\n",
    "# Usa gdown per scaricare con URL\n",
    "url = f\"https://drive.google.com/uc?id={FILE_ID}\"\n",
    "\n",
    "# Usa una funzione di hook per mostrare la barra\n",
    "def tqdm_hook(t):\n",
    "    last_b = [0]\n",
    "\n",
    "    def update_to(b=1, bsize=1, tsize=None):\n",
    "        if tsize is not None:\n",
    "            t.total = tsize\n",
    "        t.update((b - last_b[0]) * bsize)\n",
    "        last_b[0] = b\n",
    "    return update_to\n",
    "\n",
    "with tqdm(unit='B', unit_scale=True, desc=OUTPUT_ZIP, miniters=1) as t:\n",
    "    gdown.download(url, OUTPUT_ZIP, quiet=True, use_cookies=False)\n",
    "\n",
    "print(\"Download completato!\")\n",
    "\n",
    "# === 2. Estrazione del file ZIP ===\n",
    "print(f\"Estrazione di {OUTPUT_ZIP} nella cartella '{EXTRACT_DIR}'...\")\n",
    "\n",
    "# Crea cartella se non esiste\n",
    "if not os.path.exists(EXTRACT_DIR):\n",
    "    os.makedirs(EXTRACT_DIR)\n",
    "\n",
    "with zipfile.ZipFile(OUTPUT_ZIP, 'r') as zip_ref:\n",
    "    # tqdm per mostrare il progresso dei file estratti\n",
    "    for file in tqdm(zip_ref.namelist(), desc=\"Estrazione file\"):\n",
    "        zip_ref.extract(file, EXTRACT_DIR)\n",
    "\n",
    "print(\"Estrazione completata!\")\n",
    "\n",
    "os.remove(OUTPUT_ZIP)  # Rimuovi il file ZIP dopo l'estrazione\n"
   ]
  },
  {
   "cell_type": "markdown",
   "id": "297e68cc",
   "metadata": {},
   "source": [
    "Now we'll create a Dataframe with the following structure:\n",
    "audio_PATH, score, audio_PATH\n",
    "\n",
    "Our \"degradation_points.txt\" has the points decided on the type of noise that has been applied on the original audio (0: small noise, 1.0: big noise).\n",
    "\n",
    "Our goal is to create a model that assign a quality score to input audio (0: bad_quality, 1: very good quality). So to understand the idea behind the assigned score we have to consider 2 different cases:\n",
    "- (clean, degraded): the final score will be 1.0 - score, cause if we had applied big noise the initial score will be almost 1, so the final quality score will be near 0.\n",
    "- (degraded, clean): the final quality score will be equal to 1.0 cause clean represent the optimal quality that has to be reached"
   ]
  },
  {
   "cell_type": "code",
   "execution_count": 17,
   "id": "a3faa1ef",
   "metadata": {},
   "outputs": [],
   "source": [
    "# Prepare a csv file containing all the necessary information\n",
    "clean_dir = os.path.join(EXTRACT_DIR, 'train', 'clean')\n",
    "degraded_dir = os.path.join(EXTRACT_DIR, 'train', 'degraded')\n",
    "score_file = os.path.join(EXTRACT_DIR, 'degradation_points.txt')\n",
    "\n",
    "# Load score file\n",
    "df = pd.read_csv(score_file, sep='\\t', header=None, names=['filename', 'score'])\n",
    "# Add clean_path on csv\n",
    "df['clean_path'] = df['filename'].apply(lambda x: os.path.join(clean_dir, x.split('/')[-1].split('_')[0] + '.mp3'))\n",
    "df['score'] = df['score'].astype(float)\n",
    "df['degraded_path'] = df['filename'].apply(lambda x: os.path.join(degraded_dir, x.split('/')[-1]))\n",
    "\n",
    "df = df[[\"clean_path\", \"score\", \"degraded_path\"]]\n",
    "\n",
    "# Coppie (clean → degraded): il degraded è il target, qualità = 1 - score\n",
    "forward = pd.DataFrame({\n",
    "    # \"source_path\": df[\"clean_path\"],\n",
    "    \"target_path\": df[\"degraded_path\"],\n",
    "    \"quality_score\": 1.0 - df[\"score\"]\n",
    "})\n",
    "\n",
    "# Coppie (degraded → clean): il clean è il target, qualità massima = 1.0\n",
    "backward = pd.DataFrame({\n",
    "    # \"source_path\": df[\"degraded_path\"],\n",
    "    \"target_path\": df[\"clean_path\"],\n",
    "    \"quality_score\": 1.0\n",
    "})\n",
    "\n",
    "# Combina\n",
    "paired_df = pd.concat([forward, backward], ignore_index=True)\n",
    "\n",
    "# Visualizza esempio\n",
    "# print(paired_df.head())\n",
    "\n",
    "# Salva se vuoi\n",
    "paired_df.to_csv(\"train_data/paired_audio_quality_dataset.csv\", index=False, header=False)\n",
    "\n"
   ]
  },
  {
   "cell_type": "markdown",
   "id": "0d20afe4",
   "metadata": {},
   "source": [
    "# Dataset build"
   ]
  },
  {
   "cell_type": "code",
   "execution_count": 19,
   "id": "a610ade6",
   "metadata": {},
   "outputs": [],
   "source": [
    "class AudioPairQualityDataset(Dataset):\n",
    "    def __init__(self, csv_path, transform=None, target_sample_rate=16000, duration=3.0):\n",
    "        # self.data = pd.read_csv(csv_path, header=None, names=[\"source_path\", \"target_path\", \"quality_score\"])\n",
    "        self.data = pd.read_csv(csv_path, header=None, names=[\"target_path\", \"quality_score\"])\n",
    "        self.transform = transform\n",
    "        self.sample_rate = target_sample_rate\n",
    "        self.num_samples = int(self.sample_rate * duration)\n",
    "\n",
    "    def __len__(self):\n",
    "        return len(self.data)\n",
    "\n",
    "    def _load_audio(self, path):\n",
    "        waveform, sr = torchaudio.load(path)\n",
    "        # Resample if needed\n",
    "        if sr != self.sample_rate:\n",
    "            resampler = torchaudio.transforms.Resample(orig_freq=sr, new_freq=self.sample_rate)\n",
    "            waveform = resampler(waveform)\n",
    "        # Mono\n",
    "        if waveform.shape[0] > 1:\n",
    "            waveform = waveform.mean(dim=0, keepdim=True)\n",
    "        # Pad/Trim to fixed length\n",
    "        if waveform.shape[1] < self.num_samples:\n",
    "            padding = self.num_samples - waveform.shape[1]\n",
    "            waveform = torch.nn.functional.pad(waveform, (0, padding))\n",
    "        else:\n",
    "            waveform = waveform[:, :self.num_samples]\n",
    "        return waveform\n",
    "\n",
    "    def __getitem__(self, idx):\n",
    "        row = self.data.iloc[idx]\n",
    "        # source_audio = self._load_audio(row[\"source_path\"])\n",
    "        target_audio = self._load_audio(row[\"target_path\"])\n",
    "        score = torch.tensor(row[\"quality_score\"], dtype=torch.float32)\n",
    "\n",
    "        if self.transform:\n",
    "            # source_audio = self.transform(source_audio)\n",
    "            target_audio = self.transform(target_audio)\n",
    "\n",
    "        return {\n",
    "            # 'source_audio': source_audio,\n",
    "            'target_audio': target_audio,\n",
    "            'score': score\n",
    "        }"
   ]
  },
  {
   "cell_type": "code",
   "execution_count": 20,
   "id": "551bb7d0",
   "metadata": {},
   "outputs": [],
   "source": [
    "csv_path = os.path.join(EXTRACT_DIR, 'paired_audio_quality_dataset.csv')\n",
    "\n",
    "# Full dataset\n",
    "mel_transform = torchaudio.transforms.MelSpectrogram(\n",
    "    sample_rate=16000,\n",
    "    n_fft=1024,\n",
    "    hop_length=512,\n",
    "    n_mels=64\n",
    ")\n",
    "\n",
    "full_dataset = AudioPairQualityDataset(csv_path, transform=mel_transform)\n",
    "\n",
    "# Define lengths for the splits\n",
    "total_len = len(full_dataset)\n",
    "train_len = int(0.7 * total_len)\n",
    "val_len = int(0.15 * total_len)\n",
    "test_len = total_len - train_len - val_len  # Assicura somma esatta\n",
    "\n",
    "# Random splits for train, test and validation\n",
    "train_dataset, val_dataset, test_dataset = random_split(\n",
    "    full_dataset,\n",
    "    [train_len, val_len, test_len],\n",
    "    generator=torch.Generator().manual_seed(42)  # seed riproducibile\n",
    ")\n",
    "\n",
    "# DataLoader per ciascun set\n",
    "train_loader = DataLoader(train_dataset, batch_size=32, shuffle=True)\n",
    "val_loader = DataLoader(val_dataset, batch_size=32, shuffle=False)\n",
    "test_loader = DataLoader(test_dataset, batch_size=32, shuffle=False)\n"
   ]
  },
  {
   "cell_type": "code",
   "execution_count": 21,
   "id": "d6dee166",
   "metadata": {},
   "outputs": [
    {
     "name": "stdout",
     "output_type": "stream",
     "text": [
      "Train loader example:\n",
      "Spectrogram shape: torch.Size([32, 1, 64, 94]), Score shape: torch.Size([32])\n"
     ]
    }
   ],
   "source": [
    "# get one dataloader element\n",
    "print(\"Train loader example:\")\n",
    "for batch in train_loader:\n",
    "    spectrogram = batch['target_audio']\n",
    "    score = batch['score']\n",
    "    print(f\"Spectrogram shape: {spectrogram.shape}, Score shape: {score.shape}\")\n",
    "    break"
   ]
  },
  {
   "cell_type": "code",
   "execution_count": 22,
   "id": "07a97b87",
   "metadata": {},
   "outputs": [
    {
     "data": {
      "image/png": "[encoded data removed]",
      "text/plain": [
       "<Figure size 1000x400 with 2 Axes>"
      ]
     },
     "metadata": {},
     "output_type": "display_data"
    }
   ],
   "source": [
    "\n",
    "\n",
    "# Mostra il primo spettrogramma del batch\n",
    "plt.figure(figsize=(10, 4))\n",
    "plt.imshow(spectrogram[0].squeeze(0).numpy(), aspect='auto', origin='lower')\n",
    "plt.title(f\"Score: {score[0].item():.2f}\")\n",
    "plt.colorbar(label='Amplitude')\n",
    "plt.xlabel(\"Time\")\n",
    "plt.ylabel(\"Mel bins\")\n",
    "plt.tight_layout()\n",
    "plt.show()\n"
   ]
  },
  {
   "cell_type": "markdown",
   "id": "37f62bbb",
   "metadata": {},
   "source": [
    "# MODEL"
   ]
  },
  {
   "cell_type": "code",
   "execution_count": 23,
   "id": "ef1cb94a",
   "metadata": {},
   "outputs": [],
   "source": [
    "\n",
    "\n",
    "class AudioQualityCNN(nn.Module):\n",
    "    def __init__(self, n_mels=64):\n",
    "        super(AudioQualityCNN, self).__init__()\n",
    "\n",
    "        self.conv_block = nn.Sequential(\n",
    "            nn.Conv2d(1, 16, kernel_size=3, padding=1),  # [B, 16, 64, T]\n",
    "            nn.BatchNorm2d(16),\n",
    "            nn.ReLU(),\n",
    "            nn.MaxPool2d(kernel_size=(2, 2)),            # [B, 16, 32, T//2]\n",
    "\n",
    "            nn.Conv2d(16, 32, kernel_size=3, padding=1), # [B, 32, 32, T//2]\n",
    "            nn.BatchNorm2d(32),\n",
    "            nn.ReLU(),\n",
    "            nn.MaxPool2d(kernel_size=(2, 2)),            # [B, 32, 16, T//4]\n",
    "\n",
    "            nn.Conv2d(32, 64, kernel_size=3, padding=1), # [B, 64, 16, T//4]\n",
    "            nn.BatchNorm2d(64),\n",
    "            nn.ReLU(),\n",
    "            nn.AdaptiveAvgPool2d((4, 4))                 # [B, 64, 4, 4]\n",
    "        )\n",
    "\n",
    "        self.regressor = nn.Sequential(\n",
    "            nn.Flatten(),                     # [B, 64*4*4]\n",
    "            nn.Linear(64 * 4 * 4, 128),\n",
    "            nn.ReLU(),\n",
    "            nn.Dropout(0.2),\n",
    "            nn.Linear(128, 1),\n",
    "            nn.Sigmoid()                      # score ∈ [0, 1]\n",
    "        )\n",
    "\n",
    "    def forward(self, x):\n",
    "        x = self.conv_block(x)\n",
    "        x = self.regressor(x)\n",
    "        return x.squeeze(1)  # Output shape: [B]\n"
   ]
  },
  {
   "cell_type": "markdown",
   "id": "c0e2e877",
   "metadata": {},
   "source": [
    "# TRAIN"
   ]
  },
  {
   "cell_type": "code",
   "execution_count": 24,
   "id": "d1931bf1",
   "metadata": {},
   "outputs": [],
   "source": [
    "def train(model, train_loader, val_loader, epochs=20, lr=1e-4, save_path=\"model/best_model.pth\"):\n",
    "    device = torch.device(\"cuda\" if torch.cuda.is_available() else \"cpu\")\n",
    "    model = model.to(device)\n",
    "    optimizer = torch.optim.Adam(model.parameters(), lr=lr)\n",
    "    loss_fn = nn.MSELoss()\n",
    "    scheduler = torch.optim.lr_scheduler.ReduceLROnPlateau(optimizer, mode='min', factor=0.5, patience=3)\n",
    "\n",
    "    best_val_loss = float('inf')\n",
    "    patience = 3\n",
    "    epochs_without_improvement = 0\n",
    "\n",
    "    os.makedirs(os.path.dirname(save_path), exist_ok=True)\n",
    "\n",
    "    for epoch in range(epochs):\n",
    "        model.train()\n",
    "        running_loss = 0.0\n",
    "        running_mae = 0.0\n",
    "\n",
    "        loop = tqdm(train_loader, total=len(train_loader), desc=f\"Epoch {epoch+1}/{epochs}\", colour=\"blue\")\n",
    "\n",
    "        for batch in loop:\n",
    "            inputs = batch['target_audio'].to(device)\n",
    "            targets = batch['score'].to(device)\n",
    "\n",
    "            optimizer.zero_grad()\n",
    "            outputs = model(inputs)\n",
    "            loss = loss_fn(outputs, targets)\n",
    "            loss.backward()\n",
    "            optimizer.step()\n",
    "\n",
    "            running_loss += loss.item() * inputs.size(0)\n",
    "            running_mae += torch.abs(outputs - targets).sum().item()\n",
    "\n",
    "            loop.set_postfix(loss=loss.item(), mae=torch.abs(outputs - targets).mean().item())\n",
    "\n",
    "        avg_train_loss = running_loss / len(train_loader.dataset)\n",
    "        avg_train_mae = running_mae / len(train_loader.dataset)\n",
    "\n",
    "        scheduler.step(avg_train_loss)\n",
    "        tqdm.write(f\"Train Loss: {avg_train_loss:.4f}, Train MAE: {avg_train_mae:.2f}\")\n",
    "\n",
    "        #### VALIDATION ####\n",
    "        model.eval()\n",
    "        val_loss = 0.0\n",
    "        val_mae = 0.0\n",
    "\n",
    "        with torch.no_grad():\n",
    "            for batch in val_loader:\n",
    "                inputs = batch['target_audio'].to(device)  # 👈 anche in validazione\n",
    "                targets = batch['score'].to(device)\n",
    "\n",
    "                outputs = model(inputs)\n",
    "                val_loss += loss_fn(outputs, targets).item() * inputs.size(0)\n",
    "                val_mae += torch.abs(outputs - targets).sum().item()\n",
    "\n",
    "        avg_val_loss = val_loss / len(val_loader.dataset)\n",
    "        avg_val_mae = val_mae / len(val_loader.dataset)\n",
    "\n",
    "        tqdm.write(f\"\\033[32mValidation Loss: {avg_val_loss:.4f}, Validation MAE: {avg_val_mae:.2f}\\033[0m\")\n",
    "\n",
    "        if avg_val_loss < best_val_loss:\n",
    "            best_val_loss = avg_val_loss\n",
    "            torch.save(model.state_dict(), save_path)\n",
    "            epochs_without_improvement = 0\n",
    "            tqdm.write(f\"\\033[32mModel saved!\\033[0m\")\n",
    "        else:\n",
    "            epochs_without_improvement += 1\n",
    "            tqdm.write(f\"\\033[31mNo improvement ({epochs_without_improvement}/{patience})\\033[0m\")\n",
    "\n",
    "        if epochs_without_improvement >= patience:\n",
    "            tqdm.write(f\"\\033[31mEarly stopping triggered\\033[0m\")\n",
    "            break\n"
   ]
  },
  {
   "cell_type": "code",
   "execution_count": 25,
   "id": "8e35e328",
   "metadata": {},
   "outputs": [
    {
     "name": "stderr",
     "output_type": "stream",
     "text": [
      "Epoch 1/20:   1%|\u001b[34m          \u001b[0m| 2/350 [00:08<25:08,  4.33s/it, loss=0.162, mae=0.372]\n"
     ]
    },
    {
     "ename": "KeyboardInterrupt",
     "evalue": "",
     "output_type": "error",
     "traceback": [
      "\u001b[31m---------------------------------------------------------------------------\u001b[39m",
      "\u001b[31mKeyboardInterrupt\u001b[39m                         Traceback (most recent call last)",
      "\u001b[36mCell\u001b[39m\u001b[36m \u001b[39m\u001b[32mIn[25]\u001b[39m\u001b[32m, line 2\u001b[39m\n\u001b[32m      1\u001b[39m model = AudioQualityCNN()\n\u001b[32m----> \u001b[39m\u001b[32m2\u001b[39m \u001b[43mtrain\u001b[49m\u001b[43m(\u001b[49m\u001b[43mmodel\u001b[49m\u001b[43m,\u001b[49m\u001b[43m \u001b[49m\u001b[43mtrain_loader\u001b[49m\u001b[43m,\u001b[49m\u001b[43m \u001b[49m\u001b[43mval_loader\u001b[49m\u001b[43m,\u001b[49m\u001b[43m \u001b[49m\u001b[43mepochs\u001b[49m\u001b[43m=\u001b[49m\u001b[32;43m20\u001b[39;49m\u001b[43m)\u001b[49m\n",
      "\u001b[36mCell\u001b[39m\u001b[36m \u001b[39m\u001b[32mIn[24]\u001b[39m\u001b[32m, line 21\u001b[39m, in \u001b[36mtrain\u001b[39m\u001b[34m(model, train_loader, val_loader, epochs, lr, save_path)\u001b[39m\n\u001b[32m     17\u001b[39m running_mae = \u001b[32m0.0\u001b[39m\n\u001b[32m     19\u001b[39m loop = tqdm(train_loader, total=\u001b[38;5;28mlen\u001b[39m(train_loader), desc=\u001b[33mf\u001b[39m\u001b[33m\"\u001b[39m\u001b[33mEpoch \u001b[39m\u001b[38;5;132;01m{\u001b[39;00mepoch+\u001b[32m1\u001b[39m\u001b[38;5;132;01m}\u001b[39;00m\u001b[33m/\u001b[39m\u001b[38;5;132;01m{\u001b[39;00mepochs\u001b[38;5;132;01m}\u001b[39;00m\u001b[33m\"\u001b[39m, colour=\u001b[33m\"\u001b[39m\u001b[33mblue\u001b[39m\u001b[33m\"\u001b[39m)\n\u001b[32m---> \u001b[39m\u001b[32m21\u001b[39m \u001b[43m\u001b[49m\u001b[38;5;28;43;01mfor\u001b[39;49;00m\u001b[43m \u001b[49m\u001b[43mbatch\u001b[49m\u001b[43m \u001b[49m\u001b[38;5;129;43;01min\u001b[39;49;00m\u001b[43m \u001b[49m\u001b[43mloop\u001b[49m\u001b[43m:\u001b[49m\n\u001b[32m     22\u001b[39m \u001b[43m    \u001b[49m\u001b[43minputs\u001b[49m\u001b[43m \u001b[49m\u001b[43m=\u001b[49m\u001b[43m \u001b[49m\u001b[43mbatch\u001b[49m\u001b[43m[\u001b[49m\u001b[33;43m'\u001b[39;49m\u001b[33;43mtarget_audio\u001b[39;49m\u001b[33;43m'\u001b[39;49m\u001b[43m]\u001b[49m\u001b[43m.\u001b[49m\u001b[43mto\u001b[49m\u001b[43m(\u001b[49m\u001b[43mdevice\u001b[49m\u001b[43m)\u001b[49m\n\u001b[32m     23\u001b[39m \u001b[43m    \u001b[49m\u001b[43mtargets\u001b[49m\u001b[43m \u001b[49m\u001b[43m=\u001b[49m\u001b[43m \u001b[49m\u001b[43mbatch\u001b[49m\u001b[43m[\u001b[49m\u001b[33;43m'\u001b[39;49m\u001b[33;43mscore\u001b[39;49m\u001b[33;43m'\u001b[39;49m\u001b[43m]\u001b[49m\u001b[43m.\u001b[49m\u001b[43mto\u001b[49m\u001b[43m(\u001b[49m\u001b[43mdevice\u001b[49m\u001b[43m)\u001b[49m\n",
      "\u001b[36mFile \u001b[39m\u001b[32mc:\\Users\\Alex\\anaconda3\\envs\\audio_restore_project\\Lib\\site-packages\\tqdm\\std.py:1181\u001b[39m, in \u001b[36mtqdm.__iter__\u001b[39m\u001b[34m(self)\u001b[39m\n\u001b[32m   1178\u001b[39m time = \u001b[38;5;28mself\u001b[39m._time\n\u001b[32m   1180\u001b[39m \u001b[38;5;28;01mtry\u001b[39;00m:\n\u001b[32m-> \u001b[39m\u001b[32m1181\u001b[39m \u001b[43m    \u001b[49m\u001b[38;5;28;43;01mfor\u001b[39;49;00m\u001b[43m \u001b[49m\u001b[43mobj\u001b[49m\u001b[43m \u001b[49m\u001b[38;5;129;43;01min\u001b[39;49;00m\u001b[43m \u001b[49m\u001b[43miterable\u001b[49m\u001b[43m:\u001b[49m\n\u001b[32m   1182\u001b[39m \u001b[43m        \u001b[49m\u001b[38;5;28;43;01myield\u001b[39;49;00m\u001b[43m \u001b[49m\u001b[43mobj\u001b[49m\n\u001b[32m   1183\u001b[39m \u001b[43m        \u001b[49m\u001b[38;5;66;43;03m# Update and possibly print the progressbar.\u001b[39;49;00m\n\u001b[32m   1184\u001b[39m \u001b[43m        \u001b[49m\u001b[38;5;66;43;03m# Note: does not call self.update(1) for speed optimisation.\u001b[39;49;00m\n",
      "\u001b[36mFile \u001b[39m\u001b[32mc:\\Users\\Alex\\anaconda3\\envs\\audio_restore_project\\Lib\\site-packages\\torch\\utils\\data\\dataloader.py:733\u001b[39m, in \u001b[36m_BaseDataLoaderIter.__next__\u001b[39m\u001b[34m(self)\u001b[39m\n\u001b[32m    730\u001b[39m \u001b[38;5;28;01mif\u001b[39;00m \u001b[38;5;28mself\u001b[39m._sampler_iter \u001b[38;5;129;01mis\u001b[39;00m \u001b[38;5;28;01mNone\u001b[39;00m:\n\u001b[32m    731\u001b[39m     \u001b[38;5;66;03m# TODO(https://github.com/pytorch/pytorch/issues/76750)\u001b[39;00m\n\u001b[32m    732\u001b[39m     \u001b[38;5;28mself\u001b[39m._reset()  \u001b[38;5;66;03m# type: ignore[call-arg]\u001b[39;00m\n\u001b[32m--> \u001b[39m\u001b[32m733\u001b[39m data = \u001b[38;5;28;43mself\u001b[39;49m\u001b[43m.\u001b[49m\u001b[43m_next_data\u001b[49m\u001b[43m(\u001b[49m\u001b[43m)\u001b[49m\n\u001b[32m    734\u001b[39m \u001b[38;5;28mself\u001b[39m._num_yielded += \u001b[32m1\u001b[39m\n\u001b[32m    735\u001b[39m \u001b[38;5;28;01mif\u001b[39;00m (\n\u001b[32m    736\u001b[39m     \u001b[38;5;28mself\u001b[39m._dataset_kind == _DatasetKind.Iterable\n\u001b[32m    737\u001b[39m     \u001b[38;5;129;01mand\u001b[39;00m \u001b[38;5;28mself\u001b[39m._IterableDataset_len_called \u001b[38;5;129;01mis\u001b[39;00m \u001b[38;5;129;01mnot\u001b[39;00m \u001b[38;5;28;01mNone\u001b[39;00m\n\u001b[32m    738\u001b[39m     \u001b[38;5;129;01mand\u001b[39;00m \u001b[38;5;28mself\u001b[39m._num_yielded > \u001b[38;5;28mself\u001b[39m._IterableDataset_len_called\n\u001b[32m    739\u001b[39m ):\n",
      "\u001b[36mFile \u001b[39m\u001b[32mc:\\Users\\Alex\\anaconda3\\envs\\audio_restore_project\\Lib\\site-packages\\torch\\utils\\data\\dataloader.py:789\u001b[39m, in \u001b[36m_SingleProcessDataLoaderIter._next_data\u001b[39m\u001b[34m(self)\u001b[39m\n\u001b[32m    787\u001b[39m \u001b[38;5;28;01mdef\u001b[39;00m\u001b[38;5;250m \u001b[39m\u001b[34m_next_data\u001b[39m(\u001b[38;5;28mself\u001b[39m):\n\u001b[32m    788\u001b[39m     index = \u001b[38;5;28mself\u001b[39m._next_index()  \u001b[38;5;66;03m# may raise StopIteration\u001b[39;00m\n\u001b[32m--> \u001b[39m\u001b[32m789\u001b[39m     data = \u001b[38;5;28;43mself\u001b[39;49m\u001b[43m.\u001b[49m\u001b[43m_dataset_fetcher\u001b[49m\u001b[43m.\u001b[49m\u001b[43mfetch\u001b[49m\u001b[43m(\u001b[49m\u001b[43mindex\u001b[49m\u001b[43m)\u001b[49m  \u001b[38;5;66;03m# may raise StopIteration\u001b[39;00m\n\u001b[32m    790\u001b[39m     \u001b[38;5;28;01mif\u001b[39;00m \u001b[38;5;28mself\u001b[39m._pin_memory:\n\u001b[32m    791\u001b[39m         data = _utils.pin_memory.pin_memory(data, \u001b[38;5;28mself\u001b[39m._pin_memory_device)\n",
      "\u001b[36mFile \u001b[39m\u001b[32mc:\\Users\\Alex\\anaconda3\\envs\\audio_restore_project\\Lib\\site-packages\\torch\\utils\\data\\_utils\\fetch.py:50\u001b[39m, in \u001b[36m_MapDatasetFetcher.fetch\u001b[39m\u001b[34m(self, possibly_batched_index)\u001b[39m\n\u001b[32m     48\u001b[39m \u001b[38;5;28;01mif\u001b[39;00m \u001b[38;5;28mself\u001b[39m.auto_collation:\n\u001b[32m     49\u001b[39m     \u001b[38;5;28;01mif\u001b[39;00m \u001b[38;5;28mhasattr\u001b[39m(\u001b[38;5;28mself\u001b[39m.dataset, \u001b[33m\"\u001b[39m\u001b[33m__getitems__\u001b[39m\u001b[33m\"\u001b[39m) \u001b[38;5;129;01mand\u001b[39;00m \u001b[38;5;28mself\u001b[39m.dataset.__getitems__:\n\u001b[32m---> \u001b[39m\u001b[32m50\u001b[39m         data = \u001b[38;5;28;43mself\u001b[39;49m\u001b[43m.\u001b[49m\u001b[43mdataset\u001b[49m\u001b[43m.\u001b[49m\u001b[43m__getitems__\u001b[49m\u001b[43m(\u001b[49m\u001b[43mpossibly_batched_index\u001b[49m\u001b[43m)\u001b[49m\n\u001b[32m     51\u001b[39m     \u001b[38;5;28;01melse\u001b[39;00m:\n\u001b[32m     52\u001b[39m         data = [\u001b[38;5;28mself\u001b[39m.dataset[idx] \u001b[38;5;28;01mfor\u001b[39;00m idx \u001b[38;5;129;01min\u001b[39;00m possibly_batched_index]\n",
      "\u001b[36mFile \u001b[39m\u001b[32mc:\\Users\\Alex\\anaconda3\\envs\\audio_restore_project\\Lib\\site-packages\\torch\\utils\\data\\dataset.py:416\u001b[39m, in \u001b[36mSubset.__getitems__\u001b[39m\u001b[34m(self, indices)\u001b[39m\n\u001b[32m    414\u001b[39m     \u001b[38;5;28;01mreturn\u001b[39;00m \u001b[38;5;28mself\u001b[39m.dataset.__getitems__([\u001b[38;5;28mself\u001b[39m.indices[idx] \u001b[38;5;28;01mfor\u001b[39;00m idx \u001b[38;5;129;01min\u001b[39;00m indices])  \u001b[38;5;66;03m# type: ignore[attr-defined]\u001b[39;00m\n\u001b[32m    415\u001b[39m \u001b[38;5;28;01melse\u001b[39;00m:\n\u001b[32m--> \u001b[39m\u001b[32m416\u001b[39m     \u001b[38;5;28;01mreturn\u001b[39;00m [\u001b[38;5;28;43mself\u001b[39;49m\u001b[43m.\u001b[49m\u001b[43mdataset\u001b[49m\u001b[43m[\u001b[49m\u001b[38;5;28;43mself\u001b[39;49m\u001b[43m.\u001b[49m\u001b[43mindices\u001b[49m\u001b[43m[\u001b[49m\u001b[43midx\u001b[49m\u001b[43m]\u001b[49m\u001b[43m]\u001b[49m \u001b[38;5;28;01mfor\u001b[39;00m idx \u001b[38;5;129;01min\u001b[39;00m indices]\n",
      "\u001b[36mCell\u001b[39m\u001b[36m \u001b[39m\u001b[32mIn[19]\u001b[39m\u001b[32m, line 32\u001b[39m, in \u001b[36mAudioPairQualityDataset.__getitem__\u001b[39m\u001b[34m(self, idx)\u001b[39m\n\u001b[32m     30\u001b[39m row = \u001b[38;5;28mself\u001b[39m.data.iloc[idx]\n\u001b[32m     31\u001b[39m \u001b[38;5;66;03m# source_audio = self._load_audio(row[\"source_path\"])\u001b[39;00m\n\u001b[32m---> \u001b[39m\u001b[32m32\u001b[39m target_audio = \u001b[38;5;28;43mself\u001b[39;49m\u001b[43m.\u001b[49m\u001b[43m_load_audio\u001b[49m\u001b[43m(\u001b[49m\u001b[43mrow\u001b[49m\u001b[43m[\u001b[49m\u001b[33;43m\"\u001b[39;49m\u001b[33;43mtarget_path\u001b[39;49m\u001b[33;43m\"\u001b[39;49m\u001b[43m]\u001b[49m\u001b[43m)\u001b[49m\n\u001b[32m     33\u001b[39m score = torch.tensor(row[\u001b[33m\"\u001b[39m\u001b[33mquality_score\u001b[39m\u001b[33m\"\u001b[39m], dtype=torch.float32)\n\u001b[32m     35\u001b[39m \u001b[38;5;28;01mif\u001b[39;00m \u001b[38;5;28mself\u001b[39m.transform:\n\u001b[32m     36\u001b[39m     \u001b[38;5;66;03m# source_audio = self.transform(source_audio)\u001b[39;00m\n",
      "\u001b[36mCell\u001b[39m\u001b[36m \u001b[39m\u001b[32mIn[19]\u001b[39m\u001b[32m, line 13\u001b[39m, in \u001b[36mAudioPairQualityDataset._load_audio\u001b[39m\u001b[34m(self, path)\u001b[39m\n\u001b[32m     12\u001b[39m \u001b[38;5;28;01mdef\u001b[39;00m\u001b[38;5;250m \u001b[39m\u001b[34m_load_audio\u001b[39m(\u001b[38;5;28mself\u001b[39m, path):\n\u001b[32m---> \u001b[39m\u001b[32m13\u001b[39m     waveform, sr = \u001b[43mtorchaudio\u001b[49m\u001b[43m.\u001b[49m\u001b[43mload\u001b[49m\u001b[43m(\u001b[49m\u001b[43mpath\u001b[49m\u001b[43m)\u001b[49m\n\u001b[32m     14\u001b[39m     \u001b[38;5;66;03m# Resample if needed\u001b[39;00m\n\u001b[32m     15\u001b[39m     \u001b[38;5;28;01mif\u001b[39;00m sr != \u001b[38;5;28mself\u001b[39m.sample_rate:\n",
      "\u001b[36mFile \u001b[39m\u001b[32mc:\\Users\\Alex\\anaconda3\\envs\\audio_restore_project\\Lib\\site-packages\\torchaudio\\_backend\\utils.py:205\u001b[39m, in \u001b[36mget_load_func.<locals>.load\u001b[39m\u001b[34m(uri, frame_offset, num_frames, normalize, channels_first, format, buffer_size, backend)\u001b[39m\n\u001b[32m    128\u001b[39m \u001b[38;5;250m\u001b[39m\u001b[33;03m\"\"\"Load audio data from source.\u001b[39;00m\n\u001b[32m    129\u001b[39m \n\u001b[32m    130\u001b[39m \u001b[33;03mBy default (``normalize=True``, ``channels_first=True``), this function returns Tensor with\u001b[39;00m\n\u001b[32m   (...)\u001b[39m\u001b[32m    202\u001b[39m \u001b[33;03m        `[channel, time]` else `[time, channel]`.\u001b[39;00m\n\u001b[32m    203\u001b[39m \u001b[33;03m\"\"\"\u001b[39;00m\n\u001b[32m    204\u001b[39m backend = dispatcher(uri, \u001b[38;5;28mformat\u001b[39m, backend)\n\u001b[32m--> \u001b[39m\u001b[32m205\u001b[39m \u001b[38;5;28;01mreturn\u001b[39;00m \u001b[43mbackend\u001b[49m\u001b[43m.\u001b[49m\u001b[43mload\u001b[49m\u001b[43m(\u001b[49m\u001b[43muri\u001b[49m\u001b[43m,\u001b[49m\u001b[43m \u001b[49m\u001b[43mframe_offset\u001b[49m\u001b[43m,\u001b[49m\u001b[43m \u001b[49m\u001b[43mnum_frames\u001b[49m\u001b[43m,\u001b[49m\u001b[43m \u001b[49m\u001b[43mnormalize\u001b[49m\u001b[43m,\u001b[49m\u001b[43m \u001b[49m\u001b[43mchannels_first\u001b[49m\u001b[43m,\u001b[49m\u001b[43m \u001b[49m\u001b[38;5;28;43mformat\u001b[39;49m\u001b[43m,\u001b[49m\u001b[43m \u001b[49m\u001b[43mbuffer_size\u001b[49m\u001b[43m)\u001b[49m\n",
      "\u001b[36mFile \u001b[39m\u001b[32mc:\\Users\\Alex\\anaconda3\\envs\\audio_restore_project\\Lib\\site-packages\\torchaudio\\_backend\\soundfile.py:27\u001b[39m, in \u001b[36mSoundfileBackend.load\u001b[39m\u001b[34m(uri, frame_offset, num_frames, normalize, channels_first, format, buffer_size)\u001b[39m\n\u001b[32m     17\u001b[39m \u001b[38;5;129m@staticmethod\u001b[39m\n\u001b[32m     18\u001b[39m \u001b[38;5;28;01mdef\u001b[39;00m\u001b[38;5;250m \u001b[39m\u001b[34mload\u001b[39m(\n\u001b[32m     19\u001b[39m     uri: Union[BinaryIO, \u001b[38;5;28mstr\u001b[39m, os.PathLike],\n\u001b[32m   (...)\u001b[39m\u001b[32m     25\u001b[39m     buffer_size: \u001b[38;5;28mint\u001b[39m = \u001b[32m4096\u001b[39m,\n\u001b[32m     26\u001b[39m ) -> Tuple[torch.Tensor, \u001b[38;5;28mint\u001b[39m]:\n\u001b[32m---> \u001b[39m\u001b[32m27\u001b[39m     \u001b[38;5;28;01mreturn\u001b[39;00m \u001b[43msoundfile_backend\u001b[49m\u001b[43m.\u001b[49m\u001b[43mload\u001b[49m\u001b[43m(\u001b[49m\u001b[43muri\u001b[49m\u001b[43m,\u001b[49m\u001b[43m \u001b[49m\u001b[43mframe_offset\u001b[49m\u001b[43m,\u001b[49m\u001b[43m \u001b[49m\u001b[43mnum_frames\u001b[49m\u001b[43m,\u001b[49m\u001b[43m \u001b[49m\u001b[43mnormalize\u001b[49m\u001b[43m,\u001b[49m\u001b[43m \u001b[49m\u001b[43mchannels_first\u001b[49m\u001b[43m,\u001b[49m\u001b[43m \u001b[49m\u001b[38;5;28;43mformat\u001b[39;49m\u001b[43m)\u001b[49m\n",
      "\u001b[36mFile \u001b[39m\u001b[32mc:\\Users\\Alex\\anaconda3\\envs\\audio_restore_project\\Lib\\site-packages\\torchaudio\\_backend\\soundfile_backend.py:230\u001b[39m, in \u001b[36mload\u001b[39m\u001b[34m(filepath, frame_offset, num_frames, normalize, channels_first, format)\u001b[39m\n\u001b[32m    227\u001b[39m         dtype = _SUBTYPE2DTYPE[file_.subtype]\n\u001b[32m    229\u001b[39m     frames = file_._prepare_read(frame_offset, \u001b[38;5;28;01mNone\u001b[39;00m, num_frames)\n\u001b[32m--> \u001b[39m\u001b[32m230\u001b[39m     waveform = \u001b[43mfile_\u001b[49m\u001b[43m.\u001b[49m\u001b[43mread\u001b[49m\u001b[43m(\u001b[49m\u001b[43mframes\u001b[49m\u001b[43m,\u001b[49m\u001b[43m \u001b[49m\u001b[43mdtype\u001b[49m\u001b[43m,\u001b[49m\u001b[43m \u001b[49m\u001b[43malways_2d\u001b[49m\u001b[43m=\u001b[49m\u001b[38;5;28;43;01mTrue\u001b[39;49;00m\u001b[43m)\u001b[49m\n\u001b[32m    231\u001b[39m     sample_rate = file_.samplerate\n\u001b[32m    233\u001b[39m waveform = torch.from_numpy(waveform)\n",
      "\u001b[36mFile \u001b[39m\u001b[32mc:\\Users\\Alex\\anaconda3\\envs\\audio_restore_project\\Lib\\site-packages\\soundfile.py:942\u001b[39m, in \u001b[36mSoundFile.read\u001b[39m\u001b[34m(self, frames, dtype, always_2d, fill_value, out)\u001b[39m\n\u001b[32m    940\u001b[39m     \u001b[38;5;28;01mif\u001b[39;00m frames < \u001b[32m0\u001b[39m \u001b[38;5;129;01mor\u001b[39;00m frames > \u001b[38;5;28mlen\u001b[39m(out):\n\u001b[32m    941\u001b[39m         frames = \u001b[38;5;28mlen\u001b[39m(out)\n\u001b[32m--> \u001b[39m\u001b[32m942\u001b[39m frames = \u001b[38;5;28;43mself\u001b[39;49m\u001b[43m.\u001b[49m\u001b[43m_array_io\u001b[49m\u001b[43m(\u001b[49m\u001b[33;43m'\u001b[39;49m\u001b[33;43mread\u001b[39;49m\u001b[33;43m'\u001b[39;49m\u001b[43m,\u001b[49m\u001b[43m \u001b[49m\u001b[43mout\u001b[49m\u001b[43m,\u001b[49m\u001b[43m \u001b[49m\u001b[43mframes\u001b[49m\u001b[43m)\u001b[49m\n\u001b[32m    943\u001b[39m \u001b[38;5;28;01mif\u001b[39;00m \u001b[38;5;28mlen\u001b[39m(out) > frames:\n\u001b[32m    944\u001b[39m     \u001b[38;5;28;01mif\u001b[39;00m fill_value \u001b[38;5;129;01mis\u001b[39;00m \u001b[38;5;28;01mNone\u001b[39;00m:\n",
      "\u001b[36mFile \u001b[39m\u001b[32mc:\\Users\\Alex\\anaconda3\\envs\\audio_restore_project\\Lib\\site-packages\\soundfile.py:1394\u001b[39m, in \u001b[36mSoundFile._array_io\u001b[39m\u001b[34m(self, action, array, frames)\u001b[39m\n\u001b[32m   1392\u001b[39m \u001b[38;5;28;01massert\u001b[39;00m array.dtype.itemsize == _ffi.sizeof(ctype)\n\u001b[32m   1393\u001b[39m cdata = _ffi.cast(ctype + \u001b[33m'\u001b[39m\u001b[33m*\u001b[39m\u001b[33m'\u001b[39m, array.__array_interface__[\u001b[33m'\u001b[39m\u001b[33mdata\u001b[39m\u001b[33m'\u001b[39m][\u001b[32m0\u001b[39m])\n\u001b[32m-> \u001b[39m\u001b[32m1394\u001b[39m \u001b[38;5;28;01mreturn\u001b[39;00m \u001b[38;5;28;43mself\u001b[39;49m\u001b[43m.\u001b[49m\u001b[43m_cdata_io\u001b[49m\u001b[43m(\u001b[49m\u001b[43maction\u001b[49m\u001b[43m,\u001b[49m\u001b[43m \u001b[49m\u001b[43mcdata\u001b[49m\u001b[43m,\u001b[49m\u001b[43m \u001b[49m\u001b[43mctype\u001b[49m\u001b[43m,\u001b[49m\u001b[43m \u001b[49m\u001b[43mframes\u001b[49m\u001b[43m)\u001b[49m\n",
      "\u001b[36mFile \u001b[39m\u001b[32mc:\\Users\\Alex\\anaconda3\\envs\\audio_restore_project\\Lib\\site-packages\\soundfile.py:1403\u001b[39m, in \u001b[36mSoundFile._cdata_io\u001b[39m\u001b[34m(self, action, data, ctype, frames)\u001b[39m\n\u001b[32m   1401\u001b[39m     curr = \u001b[38;5;28mself\u001b[39m.tell()\n\u001b[32m   1402\u001b[39m func = \u001b[38;5;28mgetattr\u001b[39m(_snd, \u001b[33m'\u001b[39m\u001b[33msf_\u001b[39m\u001b[33m'\u001b[39m + action + \u001b[33m'\u001b[39m\u001b[33mf_\u001b[39m\u001b[33m'\u001b[39m + ctype)\n\u001b[32m-> \u001b[39m\u001b[32m1403\u001b[39m frames = \u001b[43mfunc\u001b[49m\u001b[43m(\u001b[49m\u001b[38;5;28;43mself\u001b[39;49m\u001b[43m.\u001b[49m\u001b[43m_file\u001b[49m\u001b[43m,\u001b[49m\u001b[43m \u001b[49m\u001b[43mdata\u001b[49m\u001b[43m,\u001b[49m\u001b[43m \u001b[49m\u001b[43mframes\u001b[49m\u001b[43m)\u001b[49m\n\u001b[32m   1404\u001b[39m _error_check(\u001b[38;5;28mself\u001b[39m._errorcode)\n\u001b[32m   1405\u001b[39m \u001b[38;5;28;01mif\u001b[39;00m \u001b[38;5;28mself\u001b[39m.seekable():\n",
      "\u001b[31mKeyboardInterrupt\u001b[39m: "
     ]
    }
   ],
   "source": [
    "model = AudioQualityCNN()\n",
    "train(model, train_loader, val_loader, epochs=20)\n"
   ]
  }
 ],
 "metadata": {
  "kernelspec": {
   "display_name": "audio_restore_project",
   "language": "python",
   "name": "python3"
  },
  "language_info": {
   "codemirror_mode": {
    "name": "ipython",
    "version": 3
   },
   "file_extension": ".py",
   "mimetype": "text/x-python",
   "name": "python",
   "nbconvert_exporter": "python",
   "pygments_lexer": "ipython3",
   "version": "3.12.2"
  }
 },
 "nbformat": 4,
 "nbformat_minor": 5
}
