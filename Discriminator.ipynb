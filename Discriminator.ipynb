{
 "cells": [
  {
   "cell_type": "markdown",
   "id": "805241d8",
   "metadata": {},
   "source": [
    "# IMPORTS"
   ]
  },
  {
   "cell_type": "code",
   "execution_count": 15,
   "id": "4ed0a7ee",
   "metadata": {},
   "outputs": [],
   "source": [
    "import gdown\n",
    "import zipfile\n",
    "import os\n",
    "from tqdm import tqdm\n",
    "import shutil\n",
    "\n",
    "from pydub import AudioSegment\n",
    "\n",
    "import torchaudio\n",
    "import torch\n",
    "from torch.utils.data import Dataset, DataLoader, random_split\n",
    "from torchaudio.transforms import MelSpectrogram, AmplitudeToDB\n",
    "\n",
    "import pandas as pd\n",
    "import matplotlib.pyplot as plt\n",
    "\n",
    "import torch.nn as nn\n",
    "import torch.nn.functional as F\n",
    "from torch.cuda.amp import GradScaler, autocast\n",
    "\n",
    "# === CONFIGURAZIONE ===\n",
    "FILE_ID = \"1zHPs5LurXfPwDDD2jXhpegEchvXTQWRP\"  # <-- Cambia qui se serve\n",
    "OUTPUT_ZIP = \"train.zip\"\n",
    "EXTRACT_DIR = \"train_data\""
   ]
  },
  {
   "cell_type": "markdown",
   "id": "b535a5c9",
   "metadata": {},
   "source": [
    "# Data manipulation"
   ]
  },
  {
   "cell_type": "markdown",
   "id": "2a3f4155",
   "metadata": {},
   "source": [
    "Now we are gonna download and manipulate the data to make them usable for the dataset that we are gonna create"
   ]
  },
  {
   "cell_type": "code",
   "execution_count": 2,
   "id": "631ec657",
   "metadata": {},
   "outputs": [
    {
     "name": "stdout",
     "output_type": "stream",
     "text": [
      "Inizio download del file da Google Drive...\n"
     ]
    },
    {
     "name": "stderr",
     "output_type": "stream",
     "text": [
      "train.zip: 0.00B [31:50, ?B/s]\n"
     ]
    },
    {
     "name": "stdout",
     "output_type": "stream",
     "text": [
      "Download completato!\n",
      "Estrazione di train.zip nella cartella 'train_data'...\n"
     ]
    },
    {
     "name": "stderr",
     "output_type": "stream",
     "text": [
      "Estrazione file: 100%|██████████| 31994/31994 [01:05<00:00, 490.52it/s]\n"
     ]
    },
    {
     "name": "stdout",
     "output_type": "stream",
     "text": [
      "Estrazione completata!\n"
     ]
    }
   ],
   "source": [
    "\n",
    "# === 1. Scarica da Google Drive con barra di progresso ===\n",
    "print(\"Inizio download del file da Google Drive...\")\n",
    "\n",
    "# Usa gdown per scaricare con URL\n",
    "url = f\"https://drive.google.com/uc?id={FILE_ID}\"\n",
    "\n",
    "# Usa una funzione di hook per mostrare la barra\n",
    "def tqdm_hook(t):\n",
    "    last_b = [0]\n",
    "\n",
    "    def update_to(b=1, bsize=1, tsize=None):\n",
    "        if tsize is not None:\n",
    "            t.total = tsize\n",
    "        t.update((b - last_b[0]) * bsize)\n",
    "        last_b[0] = b\n",
    "    return update_to\n",
    "\n",
    "with tqdm(unit='B', unit_scale=True, desc=OUTPUT_ZIP, miniters=1) as t:\n",
    "    gdown.download(url, OUTPUT_ZIP, quiet=True, use_cookies=False)\n",
    "\n",
    "print(\"Download completato!\")\n",
    "\n",
    "# === 2. Estrazione del file ZIP ===\n",
    "print(f\"Estrazione di {OUTPUT_ZIP} nella cartella '{EXTRACT_DIR}'...\")\n",
    "\n",
    "# Crea cartella se non esiste\n",
    "if not os.path.exists(EXTRACT_DIR):\n",
    "    os.makedirs(EXTRACT_DIR)\n",
    "\n",
    "with zipfile.ZipFile(OUTPUT_ZIP, 'r') as zip_ref:\n",
    "    # tqdm per mostrare il progresso dei file estratti\n",
    "    for file in tqdm(zip_ref.namelist(), desc=\"Estrazione file\"):\n",
    "        zip_ref.extract(file, EXTRACT_DIR)\n",
    "\n",
    "print(\"Estrazione completata!\")\n",
    "\n",
    "os.remove(OUTPUT_ZIP)  # Rimuovi il file ZIP dopo l'estrazione\n"
   ]
  },
  {
   "cell_type": "code",
   "execution_count": 23,
   "id": "cae38da0",
   "metadata": {},
   "outputs": [
    {
     "name": "stderr",
     "output_type": "stream",
     "text": [
      "<>:1: SyntaxWarning: invalid escape sequence '\\_'\n",
      "<>:1: SyntaxWarning: invalid escape sequence '\\_'\n",
      "C:\\Users\\radul\\AppData\\Local\\Temp\\ipykernel_10548\\2668867813.py:1: SyntaxWarning: invalid escape sequence '\\_'\n",
      "  shutil.rmtree(\"train_data\\__MACOSX\", ignore_errors=True)  # Rimuovi la cartella metadata\n"
     ]
    }
   ],
   "source": [
    "shutil.rmtree(\"train_data\\__MACOSX\", ignore_errors=True)"
   ]
  },
  {
   "cell_type": "markdown",
   "id": "4faf012e",
   "metadata": {},
   "source": [
    "Convert them from mp3 into wav"
   ]
  },
  {
   "cell_type": "code",
   "execution_count": 29,
   "id": "6e50c2ef",
   "metadata": {},
   "outputs": [],
   "source": [
    "def convert_to_wav(file_path, output_dir):\n",
    "    audio = AudioSegment.from_file(file_path)\n",
    "    base = os.path.splitext(os.path.basename(file_path))[0]\n",
    "    output_path = os.path.join(output_dir, base + \".wav\")\n",
    "    audio.export(output_path, format=\"wav\")\n",
    "    return output_path\n",
    "\n",
    "if not os.path.exists(\"train_data_wav\"):\n",
    "    os.makedirs(\"train_data_wav\")\n",
    "clean_new_path = os.path.join(\"train_data_wav\", \"clean\")\n",
    "degraded_new_path = os.path.join(\"train_data_wav\", \"degraded\")\n",
    "if not os.path.exists(clean_new_path):\n",
    "    os.makedirs(clean_new_path)\n",
    "if not os.path.exists(degraded_new_path):\n",
    "    os.makedirs(degraded_new_path)\n",
    "# Converti tutti i file audio in formato WAV\n",
    "for root, dirs, files in os.walk(EXTRACT_DIR):\n",
    "    for file in files:\n",
    "        if file.endswith(('.mp3', '.ogg', '.flac', '.m4a')):\n",
    "            file_path = os.path.join(root, file)\n",
    "            new_path = clean_new_path if \"clean\" in root else degraded_new_path\n",
    "            convert_to_wav(file_path, new_path)\n",
    "            \n",
    "        "
   ]
  },
  {
   "cell_type": "markdown",
   "id": "297e68cc",
   "metadata": {},
   "source": [
    "Now we'll create a Dataframe with the following structure:\n",
    "audio_PATH, score, audio_PATH\n",
    "\n",
    "Our \"degradation_points.txt\" has the points decided on the type of noise that has been applied on the original audio (0: small noise, 1.0: big noise).\n",
    "\n",
    "Our goal is to create a model that assign a quality score to input audio (0: bad_quality, 1: very good quality). So to understand the idea behind the assigned score we have to consider 2 different cases:\n",
    "- (clean, degraded): the final score will be 1.0 - score, cause if we had applied big noise the initial score will be almost 1, so the final quality score will be near 0.\n",
    "- (degraded, clean): the final quality score will be equal to 1.0 cause clean represent the optimal quality that has to be reached"
   ]
  },
  {
   "cell_type": "code",
   "execution_count": 16,
   "id": "a3faa1ef",
   "metadata": {},
   "outputs": [],
   "source": [
    "# Prepare a csv file containing all the necessary information\n",
    "clean_dir = os.path.join('train_data_wav', 'clean')\n",
    "degraded_dir = os.path.join('train_data_wav', 'degraded')\n",
    "score_file = os.path.join(EXTRACT_DIR, 'degradation_points.txt')\n",
    "\n",
    "# Load score file\n",
    "df = pd.read_csv(score_file, sep='\\t', header=None, names=['filename', 'score'])\n",
    "# Add clean_path on csv\n",
    "df['clean_path'] = df['filename'].apply(lambda x: os.path.join(clean_dir, x.split('/')[-1].split('_')[0] + '.wav'))\n",
    "df['score'] = df['score'].astype(float)\n",
    "df['degraded_path'] = df['filename'].apply(lambda x: os.path.join(degraded_dir, x.split('/')[-1].split(\".\")[0] + '.wav'))\n",
    "\n",
    "df = df[[\"clean_path\", \"score\", \"degraded_path\"]]\n",
    "\n",
    "# Coppie (clean → degraded): il degraded è il target, qualità = 1 - score\n",
    "forward = pd.DataFrame({\n",
    "    # \"source_path\": df[\"clean_path\"],\n",
    "    \"target_path\": df[\"degraded_path\"],\n",
    "    \"quality_score\": 1.0 - df[\"score\"]\n",
    "})\n",
    "\n",
    "# Coppie (degraded → clean): il clean è il target, qualità massima = 1.0\n",
    "backward = pd.DataFrame({\n",
    "    # \"source_path\": df[\"degraded_path\"],\n",
    "    \"target_path\": df[\"clean_path\"],\n",
    "    \"quality_score\": 1.0\n",
    "})\n",
    "\n",
    "# Combina\n",
    "paired_df = pd.concat([forward, backward], ignore_index=True)\n",
    "\n",
    "# Visualizza esempio\n",
    "# print(paired_df.head())\n",
    "\n",
    "# Salva se vuoi\n",
    "paired_df.to_csv(\"train_data/paired_audio_quality_dataset.csv\", index=False, header=False)\n",
    "\n"
   ]
  },
  {
   "cell_type": "markdown",
   "id": "0d20afe4",
   "metadata": {},
   "source": [
    "# Dataset build"
   ]
  },
  {
   "cell_type": "code",
   "execution_count": 17,
   "id": "a610ade6",
   "metadata": {},
   "outputs": [],
   "source": [
    "class AudioPairQualityDataset(Dataset):\n",
    "    def __init__(self, csv_path, transform=None, target_sample_rate=16000, duration=3.0):\n",
    "        # self.data = pd.read_csv(csv_path, header=None, names=[\"source_path\", \"target_path\", \"quality_score\"])\n",
    "        self.data = pd.read_csv(csv_path, header=None, names=[\"target_path\", \"quality_score\"])\n",
    "        self.transform = transform\n",
    "        self.sample_rate = target_sample_rate\n",
    "        self.num_samples = int(self.sample_rate * duration)\n",
    "\n",
    "    def __len__(self):\n",
    "        return len(self.data)\n",
    "\n",
    "    def _load_audio(self, path):\n",
    "        waveform, sr = torchaudio.load(path)\n",
    "        # Resample if needed\n",
    "        if sr != self.sample_rate:\n",
    "            resampler = torchaudio.transforms.Resample(orig_freq=sr, new_freq=self.sample_rate)\n",
    "            waveform = resampler(waveform)\n",
    "        # Mono\n",
    "        if waveform.shape[0] > 1:\n",
    "            waveform = waveform.mean(dim=0, keepdim=True)\n",
    "        # Pad/Trim to fixed length\n",
    "        if waveform.shape[1] < self.num_samples:\n",
    "            padding = self.num_samples - waveform.shape[1]\n",
    "            waveform = torch.nn.functional.pad(waveform, (0, padding))\n",
    "        else:\n",
    "            waveform = waveform[:, :self.num_samples]\n",
    "        return waveform\n",
    "\n",
    "    def __getitem__(self, idx):\n",
    "        row = self.data.iloc[idx]\n",
    "        # source_audio = self._load_audio(row[\"source_path\"])\n",
    "        target_audio = self._load_audio(row[\"target_path\"])\n",
    "        score = torch.tensor(row[\"quality_score\"], dtype=torch.float32)\n",
    "\n",
    "        if self.transform:\n",
    "            # source_audio = self.transform(source_audio)\n",
    "            target_audio = self.transform(target_audio)\n",
    "\n",
    "        return {\n",
    "            # 'source_audio': source_audio,\n",
    "            'target_audio': target_audio,\n",
    "            'score': score\n",
    "        }"
   ]
  },
  {
   "cell_type": "code",
   "execution_count": 27,
   "id": "551bb7d0",
   "metadata": {},
   "outputs": [],
   "source": [
    "csv_path = os.path.join(EXTRACT_DIR, 'paired_audio_quality_dataset.csv')\n",
    "\n",
    "# Full dataset\n",
    "mel_transform = torch.nn.Sequential(\n",
    "    torchaudio.transforms.MelSpectrogram(\n",
    "        sample_rate=16000,\n",
    "        n_fft=1024,\n",
    "        hop_length=256,\n",
    "        n_mels=96\n",
    "    ),\n",
    "    torchaudio.transforms.AmplitudeToDB()\n",
    ")\n",
    "\n",
    "full_dataset = AudioPairQualityDataset(csv_path, transform=mel_transform)\n",
    "\n",
    "# Define lengths for the splits\n",
    "total_len = len(full_dataset)\n",
    "train_len = int(0.7 * total_len)\n",
    "val_len = int(0.15 * total_len)\n",
    "test_len = total_len - train_len - val_len  # Assicura somma esatta\n",
    "\n",
    "# Random splits for train, test and validation\n",
    "train_dataset, val_dataset, test_dataset = random_split(\n",
    "    full_dataset,\n",
    "    [train_len, val_len, test_len],\n",
    "    generator=torch.Generator().manual_seed(42)  # seed riproducibile\n",
    ")\n",
    "\n",
    "# DataLoader per ciascun set\n",
    "train_loader = DataLoader(train_dataset, batch_size=32, shuffle=True)\n",
    "val_loader = DataLoader(val_dataset, batch_size=32, shuffle=False)\n",
    "test_loader = DataLoader(test_dataset, batch_size=32, shuffle=False)\n"
   ]
  },
  {
   "cell_type": "code",
   "execution_count": 28,
   "id": "d6dee166",
   "metadata": {},
   "outputs": [
    {
     "name": "stdout",
     "output_type": "stream",
     "text": [
      "Train loader example:\n",
      "Spectrogram shape: torch.Size([32, 1, 96, 188]), Score shape: torch.Size([32])\n"
     ]
    }
   ],
   "source": [
    "# get one dataloader element\n",
    "print(\"Train loader example:\")\n",
    "for batch in train_loader:\n",
    "    spectrogram = batch['target_audio']\n",
    "    score = batch['score']\n",
    "    print(f\"Spectrogram shape: {spectrogram.shape}, Score shape: {score.shape}\")\n",
    "    break"
   ]
  },
  {
   "cell_type": "code",
   "execution_count": 29,
   "id": "07a97b87",
   "metadata": {},
   "outputs": [
    {
     "data": {
      "image/png": "[encoded data removed]",
      "text/plain": [
       "<Figure size 1000x400 with 2 Axes>"
      ]
     },
     "metadata": {},
     "output_type": "display_data"
    }
   ],
   "source": [
    "\n",
    "\n",
    "# Mostra il primo spettrogramma del batch\n",
    "plt.figure(figsize=(10, 4))\n",
    "plt.imshow(spectrogram[0].squeeze(0).numpy(), aspect='auto', origin='lower')\n",
    "plt.title(f\"Score: {score[0].item():.2f}\")\n",
    "plt.colorbar(label='Amplitude')\n",
    "plt.xlabel(\"Time\")\n",
    "plt.ylabel(\"Mel bins\")\n",
    "plt.tight_layout()\n",
    "plt.show()\n"
   ]
  },
  {
   "cell_type": "markdown",
   "id": "37f62bbb",
   "metadata": {},
   "source": [
    "# MODEL"
   ]
  },
  {
   "cell_type": "code",
   "execution_count": 30,
   "id": "ef1cb94a",
   "metadata": {},
   "outputs": [],
   "source": [
    "class AudioQualityCNN(nn.Module):\n",
    "    def __init__(self, n_mels=64):\n",
    "        super(AudioQualityCNN, self).__init__()\n",
    "\n",
    "        self.conv_block = nn.Sequential(\n",
    "            nn.Conv2d(1, 32, kernel_size=3, padding=1),   # [B, 32, 64, T]\n",
    "            nn.BatchNorm2d(32),\n",
    "            nn.ReLU(),\n",
    "            nn.MaxPool2d(kernel_size=(2, 2)),             # [B, 32, 32, T//2]\n",
    "\n",
    "            nn.Conv2d(32, 64, kernel_size=3, padding=1),  # [B, 64, 32, T//2]\n",
    "            nn.BatchNorm2d(64),\n",
    "            nn.ReLU(),\n",
    "            nn.MaxPool2d(kernel_size=(2, 2)),             # [B, 64, 16, T//4]\n",
    "\n",
    "            nn.Conv2d(64, 128, kernel_size=3, padding=1), # [B, 128, 16, T//4]\n",
    "            nn.BatchNorm2d(128),\n",
    "            nn.ReLU(),\n",
    "            nn.AdaptiveAvgPool2d((4, 4))                  # [B, 128, 4, 4]\n",
    "        )\n",
    "\n",
    "        self.regressor = nn.Sequential(\n",
    "            nn.Flatten(),                     # [B, 128*4*4 = 2048]\n",
    "            nn.Linear(2048, 256),\n",
    "            nn.ReLU(),\n",
    "            nn.Dropout(0.3),\n",
    "\n",
    "            nn.Linear(256, 64),\n",
    "            nn.ReLU(),\n",
    "            nn.Dropout(0.2),\n",
    "\n",
    "            nn.Linear(64, 1),\n",
    "            nn.Sigmoid()                      # Output ∈ [0, 1]\n",
    "        )\n",
    "\n",
    "    def forward(self, x):\n",
    "        x = self.conv_block(x)\n",
    "        x = self.regressor(x)\n",
    "        return x.squeeze(1)  # Output shape: [B]"
   ]
  },
  {
   "cell_type": "markdown",
   "id": "c0e2e877",
   "metadata": {},
   "source": [
    "# TRAIN"
   ]
  },
  {
   "cell_type": "code",
   "execution_count": 31,
   "id": "d1931bf1",
   "metadata": {},
   "outputs": [],
   "source": [
    "def train(model, train_loader, val_loader, epochs=20, lr=1e-4, save_path=\"model/best_model.pth\", use_amp=False):\n",
    "    device = torch.device(\"cuda\" if torch.cuda.is_available() else \"cpu\")\n",
    "    model = model.to(device)\n",
    "\n",
    "    optimizer = torch.optim.Adam(model.parameters(), lr=lr)\n",
    "    loss_fn = nn.HuberLoss(delta=0.1)\n",
    "    scheduler = torch.optim.lr_scheduler.ReduceLROnPlateau(optimizer, mode='min', factor=0.5, patience=3)\n",
    "    scaler = GradScaler(enabled=use_amp)\n",
    "\n",
    "    best_val_loss = float('inf')\n",
    "    patience = 3\n",
    "    epochs_without_improvement = 0\n",
    "\n",
    "    os.makedirs(os.path.dirname(save_path), exist_ok=True)\n",
    "\n",
    "    for epoch in range(epochs):\n",
    "        model.train()\n",
    "        total_loss, total_mae = 0.0, 0.0\n",
    "        loop = tqdm(train_loader, desc=f\"Epoch {epoch+1}/{epochs}\", colour=\"blue\")\n",
    "\n",
    "        for batch in loop:\n",
    "            inputs = batch['target_audio'].to(device)\n",
    "            targets = batch['score'].to(device)\n",
    "\n",
    "            optimizer.zero_grad()\n",
    "\n",
    "            with autocast(enabled=use_amp):\n",
    "                outputs = model(inputs)\n",
    "                loss = loss_fn(outputs, targets)\n",
    "\n",
    "            scaler.scale(loss).backward()\n",
    "            scaler.step(optimizer)\n",
    "            scaler.update()\n",
    "\n",
    "            total_loss += loss.item() * inputs.size(0)\n",
    "            total_mae += torch.abs(outputs - targets).sum().item()\n",
    "\n",
    "            loop.set_postfix(loss=loss.item(), mae=torch.abs(outputs - targets).mean().item())\n",
    "\n",
    "        avg_train_loss = total_loss / len(train_loader.dataset)\n",
    "        avg_train_mae = total_mae / len(train_loader.dataset)\n",
    "\n",
    "        scheduler.step(avg_train_loss)\n",
    "        tqdm.write(f\"[Train] Loss: {avg_train_loss:.4f} | MAE: {avg_train_mae:.4f}\")\n",
    "\n",
    "        #### VALIDATION ####\n",
    "        model.eval()\n",
    "        val_loss, val_mae = 0.0, 0.0\n",
    "\n",
    "        with torch.no_grad():\n",
    "            for batch in val_loader:\n",
    "                inputs = batch['target_audio'].to(device)\n",
    "                targets = batch['score'].to(device)\n",
    "                outputs = model(inputs)\n",
    "\n",
    "                val_loss += loss_fn(outputs, targets).item() * inputs.size(0)\n",
    "                val_mae += torch.abs(outputs - targets).sum().item()\n",
    "\n",
    "        avg_val_loss = val_loss / len(val_loader.dataset)\n",
    "        avg_val_mae = val_mae / len(val_loader.dataset)\n",
    "\n",
    "        tqdm.write(f\"[Val]   Loss: {avg_val_loss:.4f} | MAE: {avg_val_mae:.4f}\")\n",
    "\n",
    "        # Save model if improved\n",
    "        if avg_val_loss < best_val_loss:\n",
    "            best_val_loss = avg_val_loss\n",
    "            torch.save(model.state_dict(), save_path)\n",
    "            epochs_without_improvement = 0\n",
    "            tqdm.write(\"\\033[32m✓ Model saved\\033[0m\")\n",
    "        else:\n",
    "            epochs_without_improvement += 1\n",
    "            tqdm.write(f\"\\033[31m✗ No improvement ({epochs_without_improvement}/{patience})\\033[0m\")\n",
    "\n",
    "        if epochs_without_improvement >= patience:\n",
    "            tqdm.write(\"\\033[31m⏹ Early stopping triggered\\033[0m\")\n",
    "            break"
   ]
  },
  {
   "cell_type": "code",
   "execution_count": 32,
   "id": "8e35e328",
   "metadata": {},
   "outputs": [
    {
     "name": "stderr",
     "output_type": "stream",
     "text": [
      "C:\\Users\\radul\\AppData\\Local\\Temp\\ipykernel_9368\\2278151402.py:8: FutureWarning: `torch.cuda.amp.GradScaler(args...)` is deprecated. Please use `torch.amp.GradScaler('cuda', args...)` instead.\n",
      "  scaler = GradScaler(enabled=use_amp)\n",
      "c:\\Users\\radul\\anaconda3\\envs\\audio_restore_project\\Lib\\site-packages\\torch\\amp\\grad_scaler.py:136: UserWarning: torch.cuda.amp.GradScaler is enabled, but CUDA is not available.  Disabling.\n",
      "  warnings.warn(\n",
      "Epoch 1/20:   0%|\u001b[34m          \u001b[0m| 0/350 [00:00<?, ?it/s]C:\\Users\\radul\\AppData\\Local\\Temp\\ipykernel_9368\\2278151402.py:27: FutureWarning: `torch.cuda.amp.autocast(args...)` is deprecated. Please use `torch.amp.autocast('cuda', args...)` instead.\n",
      "  with autocast(enabled=use_amp):\n",
      "c:\\Users\\radul\\anaconda3\\envs\\audio_restore_project\\Lib\\site-packages\\torch\\amp\\autocast_mode.py:266: UserWarning: User provided device_type of 'cuda', but CUDA is not available. Disabling\n",
      "  warnings.warn(\n",
      "Epoch 1/20: 100%|\u001b[34m██████████\u001b[0m| 350/350 [04:08<00:00,  1.41it/s, loss=0.0038, mae=0.072]  \n"
     ]
    },
    {
     "name": "stdout",
     "output_type": "stream",
     "text": [
      "[Train] Loss: 0.0141 | MAE: 0.1828\n",
      "[Val]   Loss: 0.0119 | MAE: 0.1570\n",
      "\u001b[32m✓ Model saved\u001b[0m\n"
     ]
    },
    {
     "name": "stderr",
     "output_type": "stream",
     "text": [
      "Epoch 2/20: 100%|\u001b[34m██████████\u001b[0m| 350/350 [04:00<00:00,  1.45it/s, loss=0.00562, mae=0.0865]\n"
     ]
    },
    {
     "name": "stdout",
     "output_type": "stream",
     "text": [
      "[Train] Loss: 0.0119 | MAE: 0.1548\n",
      "[Val]   Loss: 0.0107 | MAE: 0.1415\n",
      "\u001b[32m✓ Model saved\u001b[0m\n"
     ]
    },
    {
     "name": "stderr",
     "output_type": "stream",
     "text": [
      "Epoch 3/20: 100%|\u001b[34m██████████\u001b[0m| 350/350 [04:01<00:00,  1.45it/s, loss=0.0196, mae=0.225]  \n"
     ]
    },
    {
     "name": "stdout",
     "output_type": "stream",
     "text": [
      "[Train] Loss: 0.0112 | MAE: 0.1453\n",
      "[Val]   Loss: 0.0115 | MAE: 0.1432\n",
      "\u001b[31m✗ No improvement (1/3)\u001b[0m\n"
     ]
    },
    {
     "name": "stderr",
     "output_type": "stream",
     "text": [
      "Epoch 4/20: 100%|\u001b[34m██████████\u001b[0m| 350/350 [05:18<00:00,  1.10it/s, loss=0.0105, mae=0.14]    \n"
     ]
    },
    {
     "name": "stdout",
     "output_type": "stream",
     "text": [
      "[Train] Loss: 0.0108 | MAE: 0.1396\n",
      "[Val]   Loss: 0.0101 | MAE: 0.1324\n",
      "\u001b[32m✓ Model saved\u001b[0m\n"
     ]
    },
    {
     "name": "stderr",
     "output_type": "stream",
     "text": [
      "Epoch 5/20: 100%|\u001b[34m██████████\u001b[0m| 350/350 [05:59<00:00,  1.03s/it, loss=0.00499, mae=0.0726]\n"
     ]
    },
    {
     "name": "stdout",
     "output_type": "stream",
     "text": [
      "[Train] Loss: 0.0103 | MAE: 0.1334\n",
      "[Val]   Loss: 0.0095 | MAE: 0.1232\n",
      "\u001b[32m✓ Model saved\u001b[0m\n"
     ]
    },
    {
     "name": "stderr",
     "output_type": "stream",
     "text": [
      "Epoch 6/20: 100%|\u001b[34m██████████\u001b[0m| 350/350 [06:01<00:00,  1.03s/it, loss=0.0079, mae=0.102]  \n"
     ]
    },
    {
     "name": "stdout",
     "output_type": "stream",
     "text": [
      "[Train] Loss: 0.0100 | MAE: 0.1289\n",
      "[Val]   Loss: 0.0095 | MAE: 0.1233\n",
      "\u001b[31m✗ No improvement (1/3)\u001b[0m\n"
     ]
    },
    {
     "name": "stderr",
     "output_type": "stream",
     "text": [
      "Epoch 7/20: 100%|\u001b[34m██████████\u001b[0m| 350/350 [06:02<00:00,  1.04s/it, loss=0.0107, mae=0.136]  \n"
     ]
    },
    {
     "name": "stdout",
     "output_type": "stream",
     "text": [
      "[Train] Loss: 0.0098 | MAE: 0.1267\n",
      "[Val]   Loss: 0.0091 | MAE: 0.1178\n",
      "\u001b[32m✓ Model saved\u001b[0m\n"
     ]
    },
    {
     "name": "stderr",
     "output_type": "stream",
     "text": [
      "Epoch 8/20: 100%|\u001b[34m██████████\u001b[0m| 350/350 [05:51<00:00,  1.00s/it, loss=0.00871, mae=0.113] \n"
     ]
    },
    {
     "name": "stdout",
     "output_type": "stream",
     "text": [
      "[Train] Loss: 0.0095 | MAE: 0.1226\n",
      "[Val]   Loss: 0.0091 | MAE: 0.1209\n",
      "\u001b[31m✗ No improvement (1/3)\u001b[0m\n"
     ]
    },
    {
     "name": "stderr",
     "output_type": "stream",
     "text": [
      "Epoch 9/20: 100%|\u001b[34m██████████\u001b[0m| 350/350 [04:20<00:00,  1.35it/s, loss=0.00535, mae=0.0756]\n"
     ]
    },
    {
     "name": "stdout",
     "output_type": "stream",
     "text": [
      "[Train] Loss: 0.0093 | MAE: 0.1200\n",
      "[Val]   Loss: 0.0086 | MAE: 0.1116\n",
      "\u001b[32m✓ Model saved\u001b[0m\n"
     ]
    },
    {
     "name": "stderr",
     "output_type": "stream",
     "text": [
      "Epoch 10/20: 100%|\u001b[34m██████████\u001b[0m| 350/350 [04:12<00:00,  1.39it/s, loss=0.015, mae=0.183]   \n"
     ]
    },
    {
     "name": "stdout",
     "output_type": "stream",
     "text": [
      "[Train] Loss: 0.0089 | MAE: 0.1153\n",
      "[Val]   Loss: 0.0083 | MAE: 0.1083\n",
      "\u001b[32m✓ Model saved\u001b[0m\n"
     ]
    },
    {
     "name": "stderr",
     "output_type": "stream",
     "text": [
      "Epoch 11/20: 100%|\u001b[34m██████████\u001b[0m| 350/350 [04:18<00:00,  1.36it/s, loss=0.00797, mae=0.111] \n"
     ]
    },
    {
     "name": "stdout",
     "output_type": "stream",
     "text": [
      "[Train] Loss: 0.0086 | MAE: 0.1121\n",
      "[Val]   Loss: 0.0085 | MAE: 0.1110\n",
      "\u001b[31m✗ No improvement (1/3)\u001b[0m\n"
     ]
    },
    {
     "name": "stderr",
     "output_type": "stream",
     "text": [
      "Epoch 12/20: 100%|\u001b[34m██████████\u001b[0m| 350/350 [04:21<00:00,  1.34it/s, loss=0.00791, mae=0.105] \n"
     ]
    },
    {
     "name": "stdout",
     "output_type": "stream",
     "text": [
      "[Train] Loss: 0.0081 | MAE: 0.1065\n",
      "[Val]   Loss: 0.0077 | MAE: 0.0998\n",
      "\u001b[32m✓ Model saved\u001b[0m\n"
     ]
    },
    {
     "name": "stderr",
     "output_type": "stream",
     "text": [
      "Epoch 13/20: 100%|\u001b[34m██████████\u001b[0m| 350/350 [04:14<00:00,  1.38it/s, loss=0.0172, mae=0.203]  \n"
     ]
    },
    {
     "name": "stdout",
     "output_type": "stream",
     "text": [
      "[Train] Loss: 0.0080 | MAE: 0.1046\n",
      "[Val]   Loss: 0.0076 | MAE: 0.1014\n",
      "\u001b[32m✓ Model saved\u001b[0m\n"
     ]
    },
    {
     "name": "stderr",
     "output_type": "stream",
     "text": [
      "Epoch 14/20: 100%|\u001b[34m██████████\u001b[0m| 350/350 [04:24<00:00,  1.33it/s, loss=0.0078, mae=0.104]   \n"
     ]
    },
    {
     "name": "stdout",
     "output_type": "stream",
     "text": [
      "[Train] Loss: 0.0077 | MAE: 0.1017\n",
      "[Val]   Loss: 0.0076 | MAE: 0.0988\n",
      "\u001b[31m✗ No improvement (1/3)\u001b[0m\n"
     ]
    },
    {
     "name": "stderr",
     "output_type": "stream",
     "text": [
      "Epoch 15/20: 100%|\u001b[34m██████████\u001b[0m| 350/350 [04:16<00:00,  1.37it/s, loss=0.00918, mae=0.111]  \n"
     ]
    },
    {
     "name": "stdout",
     "output_type": "stream",
     "text": [
      "[Train] Loss: 0.0075 | MAE: 0.0999\n",
      "[Val]   Loss: 0.0076 | MAE: 0.0983\n",
      "\u001b[31m✗ No improvement (2/3)\u001b[0m\n"
     ]
    },
    {
     "name": "stderr",
     "output_type": "stream",
     "text": [
      "Epoch 16/20: 100%|\u001b[34m██████████\u001b[0m| 350/350 [04:20<00:00,  1.35it/s, loss=0.0045, mae=0.068]  \n"
     ]
    },
    {
     "name": "stdout",
     "output_type": "stream",
     "text": [
      "[Train] Loss: 0.0074 | MAE: 0.0979\n",
      "[Val]   Loss: 0.0080 | MAE: 0.1030\n",
      "\u001b[31m✗ No improvement (3/3)\u001b[0m\n",
      "\u001b[31m⏹ Early stopping triggered\u001b[0m\n"
     ]
    }
   ],
   "source": [
    "model = AudioQualityCNN()\n",
    "train(model, train_loader, val_loader, epochs=20, lr=1e-4, save_path=\"model/best_model.pth\", use_amp=True)"
   ]
  },
  {
   "cell_type": "markdown",
   "id": "4d8911fb",
   "metadata": {},
   "source": [
    "# Test the trained model"
   ]
  },
  {
   "cell_type": "code",
   "execution_count": 34,
   "id": "7e88ebf4",
   "metadata": {},
   "outputs": [],
   "source": [
    "def test(model, test_loader):\n",
    "    device = torch.device(\"cuda\" if torch.cuda.is_available() else \"cpu\")\n",
    "    model = model.to(device)\n",
    "    model.eval()\n",
    "    \n",
    "    loss_fn = nn.MSELoss()\n",
    "    total_loss = 0.0\n",
    "    total_mae = 0.0\n",
    "    correct_absolute = 0\n",
    "    correct_relative = 0\n",
    "    total_samples = 0\n",
    "\n",
    "    absolute_threshold = 0.1\n",
    "    relative_threshold = 0.1  # 10% del target\n",
    "\n",
    "    with torch.no_grad():\n",
    "        loop = tqdm(test_loader, total=len(test_loader), desc=\"Testing\", colour=\"green\")\n",
    "        for batch in loop:\n",
    "            inputs = batch['target_audio'].to(device)\n",
    "            targets = batch['score'].to(device)\n",
    "\n",
    "            outputs = model(inputs)\n",
    "            loss = loss_fn(outputs, targets)\n",
    "\n",
    "            errors = torch.abs(outputs - targets)\n",
    "\n",
    "            total_loss += loss.item() * inputs.size(0)\n",
    "            total_mae += errors.sum().item()\n",
    "\n",
    "            correct_absolute += (errors < absolute_threshold).sum().item()\n",
    "            correct_relative += (errors < (relative_threshold * targets)).sum().item()\n",
    "\n",
    "            total_samples += inputs.size(0)\n",
    "\n",
    "            loop.set_postfix(loss=loss.item(), mae=errors.mean().item())\n",
    "\n",
    "    avg_test_loss = total_loss / total_samples\n",
    "    avg_test_mae = total_mae / total_samples\n",
    "    accuracy_absolute = correct_absolute / total_samples * 100\n",
    "    accuracy_relative = correct_relative / total_samples * 100\n",
    "\n",
    "    print(f\"\\033[32mTest Loss: {avg_test_loss:.4f}, Test MAE: {avg_test_mae:.2f}, \"\n",
    "          f\"Accuracy (<{absolute_threshold}): {accuracy_absolute:.2f}%, \"\n",
    "          f\"Relative Accuracy (<{int(relative_threshold * 100)}%): {accuracy_relative:.2f}%\\033[0m\")"
   ]
  },
  {
   "cell_type": "code",
   "execution_count": 35,
   "id": "678efff2",
   "metadata": {},
   "outputs": [
    {
     "name": "stderr",
     "output_type": "stream",
     "text": [
      "Testing: 100%|\u001b[32m██████████\u001b[0m| 75/75 [00:47<00:00,  1.57it/s, loss=0.0704, mae=0.163]  "
     ]
    },
    {
     "name": "stdout",
     "output_type": "stream",
     "text": [
      "\u001b[32mTest Loss: 0.0420, Test MAE: 0.10, Accuracy (<0.1): 73.42%, Relative Accuracy (<10%): 70.42%\u001b[0m\n"
     ]
    },
    {
     "name": "stderr",
     "output_type": "stream",
     "text": [
      "\n"
     ]
    }
   ],
   "source": [
    "model = AudioQualityCNN()\n",
    "model.load_state_dict(torch.load(\"model/best_model.pth\"))\n",
    "test(model, test_loader)"
   ]
  }
 ],
 "metadata": {
  "kernelspec": {
   "display_name": "audio_restore_project",
   "language": "python",
   "name": "python3"
  },
  "language_info": {
   "codemirror_mode": {
    "name": "ipython",
    "version": 3
   },
   "file_extension": ".py",
   "mimetype": "text/x-python",
   "name": "python",
   "nbconvert_exporter": "python",
   "pygments_lexer": "ipython3",
   "version": "3.12.10"
  }
 },
 "nbformat": 4,
 "nbformat_minor": 5
}
