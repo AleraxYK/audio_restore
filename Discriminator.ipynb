{
 "cells": [
  {
   "cell_type": "markdown",
   "id": "805241d8",
   "metadata": {},
   "source": [
    "# IMPORTS"
   ]
  },
  {
   "cell_type": "code",
   "execution_count": 20,
   "id": "4ed0a7ee",
   "metadata": {},
   "outputs": [
    {
     "name": "stderr",
     "output_type": "stream",
     "text": [
      "c:\\Users\\radul\\anaconda3\\envs\\audio_restore_project\\Lib\\site-packages\\pydub\\utils.py:170: RuntimeWarning: Couldn't find ffmpeg or avconv - defaulting to ffmpeg, but may not work\n",
      "  warn(\"Couldn't find ffmpeg or avconv - defaulting to ffmpeg, but may not work\", RuntimeWarning)\n"
     ]
    }
   ],
   "source": [
    "import gdown\n",
    "import zipfile\n",
    "import os\n",
    "from tqdm import tqdm\n",
    "import shutil\n",
    "\n",
    "from pydub import AudioSegment\n",
    "\n",
    "import torchaudio\n",
    "import torch\n",
    "from torch.utils.data import Dataset, DataLoader, random_split\n",
    "from torchaudio.transforms import MelSpectrogram, AmplitudeToDB\n",
    "\n",
    "import pandas as pd\n",
    "import matplotlib.pyplot as plt\n",
    "\n",
    "import torch.nn as nn\n",
    "import torch.nn.functional as F\n",
    "\n",
    "# === CONFIGURAZIONE ===\n",
    "FILE_ID = \"1zHPs5LurXfPwDDD2jXhpegEchvXTQWRP\"  # <-- Cambia qui se serve\n",
    "OUTPUT_ZIP = \"train.zip\"\n",
    "EXTRACT_DIR = \"train_data\""
   ]
  },
  {
   "cell_type": "markdown",
   "id": "b535a5c9",
   "metadata": {},
   "source": [
    "# Data manipulation"
   ]
  },
  {
   "cell_type": "markdown",
   "id": "2a3f4155",
   "metadata": {},
   "source": [
    "Now we are gonna download and manipulate the data to make them usable for the dataset that we are gonna create"
   ]
  },
  {
   "cell_type": "code",
   "execution_count": 2,
   "id": "631ec657",
   "metadata": {},
   "outputs": [
    {
     "name": "stdout",
     "output_type": "stream",
     "text": [
      "Inizio download del file da Google Drive...\n"
     ]
    },
    {
     "name": "stderr",
     "output_type": "stream",
     "text": [
      "train.zip: 0.00B [31:50, ?B/s]\n"
     ]
    },
    {
     "name": "stdout",
     "output_type": "stream",
     "text": [
      "Download completato!\n",
      "Estrazione di train.zip nella cartella 'train_data'...\n"
     ]
    },
    {
     "name": "stderr",
     "output_type": "stream",
     "text": [
      "Estrazione file: 100%|██████████| 31994/31994 [01:05<00:00, 490.52it/s]\n"
     ]
    },
    {
     "name": "stdout",
     "output_type": "stream",
     "text": [
      "Estrazione completata!\n"
     ]
    }
   ],
   "source": [
    "\n",
    "# === 1. Scarica da Google Drive con barra di progresso ===\n",
    "print(\"Inizio download del file da Google Drive...\")\n",
    "\n",
    "# Usa gdown per scaricare con URL\n",
    "url = f\"https://drive.google.com/uc?id={FILE_ID}\"\n",
    "\n",
    "# Usa una funzione di hook per mostrare la barra\n",
    "def tqdm_hook(t):\n",
    "    last_b = [0]\n",
    "\n",
    "    def update_to(b=1, bsize=1, tsize=None):\n",
    "        if tsize is not None:\n",
    "            t.total = tsize\n",
    "        t.update((b - last_b[0]) * bsize)\n",
    "        last_b[0] = b\n",
    "    return update_to\n",
    "\n",
    "with tqdm(unit='B', unit_scale=True, desc=OUTPUT_ZIP, miniters=1) as t:\n",
    "    gdown.download(url, OUTPUT_ZIP, quiet=True, use_cookies=False)\n",
    "\n",
    "print(\"Download completato!\")\n",
    "\n",
    "# === 2. Estrazione del file ZIP ===\n",
    "print(f\"Estrazione di {OUTPUT_ZIP} nella cartella '{EXTRACT_DIR}'...\")\n",
    "\n",
    "# Crea cartella se non esiste\n",
    "if not os.path.exists(EXTRACT_DIR):\n",
    "    os.makedirs(EXTRACT_DIR)\n",
    "\n",
    "with zipfile.ZipFile(OUTPUT_ZIP, 'r') as zip_ref:\n",
    "    # tqdm per mostrare il progresso dei file estratti\n",
    "    for file in tqdm(zip_ref.namelist(), desc=\"Estrazione file\"):\n",
    "        zip_ref.extract(file, EXTRACT_DIR)\n",
    "\n",
    "print(\"Estrazione completata!\")\n",
    "\n",
    "os.remove(OUTPUT_ZIP)  # Rimuovi il file ZIP dopo l'estrazione\n"
   ]
  },
  {
   "cell_type": "code",
   "execution_count": 23,
   "id": "cae38da0",
   "metadata": {},
   "outputs": [
    {
     "name": "stderr",
     "output_type": "stream",
     "text": [
      "<>:1: SyntaxWarning: invalid escape sequence '\\_'\n",
      "<>:1: SyntaxWarning: invalid escape sequence '\\_'\n",
      "C:\\Users\\radul\\AppData\\Local\\Temp\\ipykernel_10548\\2668867813.py:1: SyntaxWarning: invalid escape sequence '\\_'\n",
      "  shutil.rmtree(\"train_data\\__MACOSX\", ignore_errors=True)  # Rimuovi la cartella metadata\n"
     ]
    }
   ],
   "source": [
    "shutil.rmtree(\"train_data\\__MACOSX\", ignore_errors=True)"
   ]
  },
  {
   "cell_type": "markdown",
   "id": "4faf012e",
   "metadata": {},
   "source": [
    "Convert them from mp3 into wav"
   ]
  },
  {
   "cell_type": "code",
   "execution_count": 29,
   "id": "6e50c2ef",
   "metadata": {},
   "outputs": [],
   "source": [
    "def convert_to_wav(file_path, output_dir):\n",
    "    audio = AudioSegment.from_file(file_path)\n",
    "    base = os.path.splitext(os.path.basename(file_path))[0]\n",
    "    output_path = os.path.join(output_dir, base + \".wav\")\n",
    "    audio.export(output_path, format=\"wav\")\n",
    "    return output_path\n",
    "\n",
    "if not os.path.exists(\"train_data_wav\"):\n",
    "    os.makedirs(\"train_data_wav\")\n",
    "clean_new_path = os.path.join(\"train_data_wav\", \"clean\")\n",
    "degraded_new_path = os.path.join(\"train_data_wav\", \"degraded\")\n",
    "if not os.path.exists(clean_new_path):\n",
    "    os.makedirs(clean_new_path)\n",
    "if not os.path.exists(degraded_new_path):\n",
    "    os.makedirs(degraded_new_path)\n",
    "# Converti tutti i file audio in formato WAV\n",
    "for root, dirs, files in os.walk(EXTRACT_DIR):\n",
    "    for file in files:\n",
    "        if file.endswith(('.mp3', '.ogg', '.flac', '.m4a')):\n",
    "            file_path = os.path.join(root, file)\n",
    "            new_path = clean_new_path if \"clean\" in root else degraded_new_path\n",
    "            convert_to_wav(file_path, new_path)\n",
    "            \n",
    "        "
   ]
  },
  {
   "cell_type": "markdown",
   "id": "297e68cc",
   "metadata": {},
   "source": [
    "Now we'll create a Dataframe with the following structure:\n",
    "audio_PATH, score, audio_PATH\n",
    "\n",
    "Our \"degradation_points.txt\" has the points decided on the type of noise that has been applied on the original audio (0: small noise, 1.0: big noise).\n",
    "\n",
    "Our goal is to create a model that assign a quality score to input audio (0: bad_quality, 1: very good quality). So to understand the idea behind the assigned score we have to consider 2 different cases:\n",
    "- (clean, degraded): the final score will be 1.0 - score, cause if we had applied big noise the initial score will be almost 1, so the final quality score will be near 0.\n",
    "- (degraded, clean): the final quality score will be equal to 1.0 cause clean represent the optimal quality that has to be reached"
   ]
  },
  {
   "cell_type": "code",
   "execution_count": 31,
   "id": "a3faa1ef",
   "metadata": {},
   "outputs": [],
   "source": [
    "# Prepare a csv file containing all the necessary information\n",
    "clean_dir = os.path.join('train_data_wav', 'clean')\n",
    "degraded_dir = os.path.join('train_data_wav', 'degraded')\n",
    "score_file = os.path.join(EXTRACT_DIR, 'degradation_points.txt')\n",
    "\n",
    "# Load score file\n",
    "df = pd.read_csv(score_file, sep='\\t', header=None, names=['filename', 'score'])\n",
    "# Add clean_path on csv\n",
    "df['clean_path'] = df['filename'].apply(lambda x: os.path.join(clean_dir, x.split('/')[-1].split('_')[0] + '.wav'))\n",
    "df['score'] = df['score'].astype(float)\n",
    "df['degraded_path'] = df['filename'].apply(lambda x: os.path.join(degraded_dir, x.split('/')[-1].split(\".\")[0] + '.wav'))\n",
    "\n",
    "df = df[[\"clean_path\", \"score\", \"degraded_path\"]]\n",
    "\n",
    "# Coppie (clean → degraded): il degraded è il target, qualità = 1 - score\n",
    "forward = pd.DataFrame({\n",
    "    # \"source_path\": df[\"clean_path\"],\n",
    "    \"target_path\": df[\"degraded_path\"],\n",
    "    \"quality_score\": 1.0 - df[\"score\"]\n",
    "})\n",
    "\n",
    "# Coppie (degraded → clean): il clean è il target, qualità massima = 1.0\n",
    "backward = pd.DataFrame({\n",
    "    # \"source_path\": df[\"degraded_path\"],\n",
    "    \"target_path\": df[\"clean_path\"],\n",
    "    \"quality_score\": 1.0\n",
    "})\n",
    "\n",
    "# Combina\n",
    "paired_df = pd.concat([forward, backward], ignore_index=True)\n",
    "\n",
    "# Visualizza esempio\n",
    "# print(paired_df.head())\n",
    "\n",
    "# Salva se vuoi\n",
    "paired_df.to_csv(\"train_data/paired_audio_quality_dataset.csv\", index=False, header=False)\n",
    "\n"
   ]
  },
  {
   "cell_type": "markdown",
   "id": "0d20afe4",
   "metadata": {},
   "source": [
    "# Dataset build"
   ]
  },
  {
   "cell_type": "code",
   "execution_count": 32,
   "id": "a610ade6",
   "metadata": {},
   "outputs": [],
   "source": [
    "class AudioPairQualityDataset(Dataset):\n",
    "    def __init__(self, csv_path, transform=None, target_sample_rate=16000, duration=3.0):\n",
    "        # self.data = pd.read_csv(csv_path, header=None, names=[\"source_path\", \"target_path\", \"quality_score\"])\n",
    "        self.data = pd.read_csv(csv_path, header=None, names=[\"target_path\", \"quality_score\"])\n",
    "        self.transform = transform\n",
    "        self.sample_rate = target_sample_rate\n",
    "        self.num_samples = int(self.sample_rate * duration)\n",
    "\n",
    "    def __len__(self):\n",
    "        return len(self.data)\n",
    "\n",
    "    def _load_audio(self, path):\n",
    "        waveform, sr = torchaudio.load(path)\n",
    "        # Resample if needed\n",
    "        if sr != self.sample_rate:\n",
    "            resampler = torchaudio.transforms.Resample(orig_freq=sr, new_freq=self.sample_rate)\n",
    "            waveform = resampler(waveform)\n",
    "        # Mono\n",
    "        if waveform.shape[0] > 1:\n",
    "            waveform = waveform.mean(dim=0, keepdim=True)\n",
    "        # Pad/Trim to fixed length\n",
    "        if waveform.shape[1] < self.num_samples:\n",
    "            padding = self.num_samples - waveform.shape[1]\n",
    "            waveform = torch.nn.functional.pad(waveform, (0, padding))\n",
    "        else:\n",
    "            waveform = waveform[:, :self.num_samples]\n",
    "        return waveform\n",
    "\n",
    "    def __getitem__(self, idx):\n",
    "        row = self.data.iloc[idx]\n",
    "        # source_audio = self._load_audio(row[\"source_path\"])\n",
    "        target_audio = self._load_audio(row[\"target_path\"])\n",
    "        score = torch.tensor(row[\"quality_score\"], dtype=torch.float32)\n",
    "\n",
    "        if self.transform:\n",
    "            # source_audio = self.transform(source_audio)\n",
    "            target_audio = self.transform(target_audio)\n",
    "\n",
    "        return {\n",
    "            # 'source_audio': source_audio,\n",
    "            'target_audio': target_audio,\n",
    "            'score': score\n",
    "        }"
   ]
  },
  {
   "cell_type": "code",
   "execution_count": 33,
   "id": "551bb7d0",
   "metadata": {},
   "outputs": [],
   "source": [
    "csv_path = os.path.join(EXTRACT_DIR, 'paired_audio_quality_dataset.csv')\n",
    "\n",
    "# Full dataset\n",
    "mel_transform = torchaudio.transforms.MelSpectrogram(\n",
    "    sample_rate=16000,\n",
    "    n_fft=1024,\n",
    "    hop_length=512,\n",
    "    n_mels=64\n",
    ")\n",
    "\n",
    "full_dataset = AudioPairQualityDataset(csv_path, transform=mel_transform)\n",
    "\n",
    "# Define lengths for the splits\n",
    "total_len = len(full_dataset)\n",
    "train_len = int(0.7 * total_len)\n",
    "val_len = int(0.15 * total_len)\n",
    "test_len = total_len - train_len - val_len  # Assicura somma esatta\n",
    "\n",
    "# Random splits for train, test and validation\n",
    "train_dataset, val_dataset, test_dataset = random_split(\n",
    "    full_dataset,\n",
    "    [train_len, val_len, test_len],\n",
    "    generator=torch.Generator().manual_seed(42)  # seed riproducibile\n",
    ")\n",
    "\n",
    "# DataLoader per ciascun set\n",
    "train_loader = DataLoader(train_dataset, batch_size=32, shuffle=True)\n",
    "val_loader = DataLoader(val_dataset, batch_size=32, shuffle=False)\n",
    "test_loader = DataLoader(test_dataset, batch_size=32, shuffle=False)\n"
   ]
  },
  {
   "cell_type": "code",
   "execution_count": 34,
   "id": "d6dee166",
   "metadata": {},
   "outputs": [
    {
     "name": "stdout",
     "output_type": "stream",
     "text": [
      "Train loader example:\n",
      "Spectrogram shape: torch.Size([32, 1, 64, 94]), Score shape: torch.Size([32])\n"
     ]
    }
   ],
   "source": [
    "# get one dataloader element\n",
    "print(\"Train loader example:\")\n",
    "for batch in train_loader:\n",
    "    spectrogram = batch['target_audio']\n",
    "    score = batch['score']\n",
    "    print(f\"Spectrogram shape: {spectrogram.shape}, Score shape: {score.shape}\")\n",
    "    break"
   ]
  },
  {
   "cell_type": "code",
   "execution_count": 35,
   "id": "07a97b87",
   "metadata": {},
   "outputs": [
    {
     "data": {
      "image/png": "[encoded data removed]",
      "text/plain": [
       "<Figure size 1000x400 with 2 Axes>"
      ]
     },
     "metadata": {},
     "output_type": "display_data"
    }
   ],
   "source": [
    "\n",
    "\n",
    "# Mostra il primo spettrogramma del batch\n",
    "plt.figure(figsize=(10, 4))\n",
    "plt.imshow(spectrogram[0].squeeze(0).numpy(), aspect='auto', origin='lower')\n",
    "plt.title(f\"Score: {score[0].item():.2f}\")\n",
    "plt.colorbar(label='Amplitude')\n",
    "plt.xlabel(\"Time\")\n",
    "plt.ylabel(\"Mel bins\")\n",
    "plt.tight_layout()\n",
    "plt.show()\n"
   ]
  },
  {
   "cell_type": "markdown",
   "id": "37f62bbb",
   "metadata": {},
   "source": [
    "# MODEL"
   ]
  },
  {
   "cell_type": "code",
   "execution_count": 36,
   "id": "ef1cb94a",
   "metadata": {},
   "outputs": [],
   "source": [
    "\n",
    "\n",
    "class AudioQualityCNN(nn.Module):\n",
    "    def __init__(self, n_mels=64):\n",
    "        super(AudioQualityCNN, self).__init__()\n",
    "\n",
    "        self.conv_block = nn.Sequential(\n",
    "            nn.Conv2d(1, 16, kernel_size=3, padding=1),  # [B, 16, 64, T]\n",
    "            nn.BatchNorm2d(16),\n",
    "            nn.ReLU(),\n",
    "            nn.MaxPool2d(kernel_size=(2, 2)),            # [B, 16, 32, T//2]\n",
    "\n",
    "            nn.Conv2d(16, 32, kernel_size=3, padding=1), # [B, 32, 32, T//2]\n",
    "            nn.BatchNorm2d(32),\n",
    "            nn.ReLU(),\n",
    "            nn.MaxPool2d(kernel_size=(2, 2)),            # [B, 32, 16, T//4]\n",
    "\n",
    "            nn.Conv2d(32, 64, kernel_size=3, padding=1), # [B, 64, 16, T//4]\n",
    "            nn.BatchNorm2d(64),\n",
    "            nn.ReLU(),\n",
    "            nn.AdaptiveAvgPool2d((4, 4))                 # [B, 64, 4, 4]\n",
    "        )\n",
    "\n",
    "        self.regressor = nn.Sequential(\n",
    "            nn.Flatten(),                     # [B, 64*4*4]\n",
    "            nn.Linear(64 * 4 * 4, 128),\n",
    "            nn.ReLU(),\n",
    "            nn.Dropout(0.2),\n",
    "            nn.Linear(128, 1),\n",
    "            nn.Sigmoid()                      # score ∈ [0, 1]\n",
    "        )\n",
    "\n",
    "    def forward(self, x):\n",
    "        x = self.conv_block(x)\n",
    "        x = self.regressor(x)\n",
    "        return x.squeeze(1)  # Output shape: [B]\n"
   ]
  },
  {
   "cell_type": "markdown",
   "id": "c0e2e877",
   "metadata": {},
   "source": [
    "# TRAIN"
   ]
  },
  {
   "cell_type": "code",
   "execution_count": 37,
   "id": "d1931bf1",
   "metadata": {},
   "outputs": [],
   "source": [
    "def train(model, train_loader, val_loader, epochs=20, lr=1e-4, save_path=\"model/best_model.pth\"):\n",
    "    device = torch.device(\"cuda\" if torch.cuda.is_available() else \"cpu\")\n",
    "    model = model.to(device)\n",
    "    optimizer = torch.optim.Adam(model.parameters(), lr=lr)\n",
    "    loss_fn = nn.MSELoss()\n",
    "    scheduler = torch.optim.lr_scheduler.ReduceLROnPlateau(optimizer, mode='min', factor=0.5, patience=3)\n",
    "\n",
    "    best_val_loss = float('inf')\n",
    "    patience = 3\n",
    "    epochs_without_improvement = 0\n",
    "\n",
    "    os.makedirs(os.path.dirname(save_path), exist_ok=True)\n",
    "\n",
    "    for epoch in range(epochs):\n",
    "        model.train()\n",
    "        running_loss = 0.0\n",
    "        running_mae = 0.0\n",
    "\n",
    "        loop = tqdm(train_loader, total=len(train_loader), desc=f\"Epoch {epoch+1}/{epochs}\", colour=\"blue\")\n",
    "\n",
    "        for batch in loop:\n",
    "            inputs = batch['target_audio'].to(device)\n",
    "            targets = batch['score'].to(device)\n",
    "\n",
    "            optimizer.zero_grad()\n",
    "            outputs = model(inputs)\n",
    "            loss = loss_fn(outputs, targets)\n",
    "            loss.backward()\n",
    "            optimizer.step()\n",
    "\n",
    "            running_loss += loss.item() * inputs.size(0)\n",
    "            running_mae += torch.abs(outputs - targets).sum().item()\n",
    "\n",
    "            loop.set_postfix(loss=loss.item(), mae=torch.abs(outputs - targets).mean().item())\n",
    "\n",
    "        avg_train_loss = running_loss / len(train_loader.dataset)\n",
    "        avg_train_mae = running_mae / len(train_loader.dataset)\n",
    "\n",
    "        scheduler.step(avg_train_loss)\n",
    "        tqdm.write(f\"Train Loss: {avg_train_loss:.4f}, Train MAE: {avg_train_mae:.2f}\")\n",
    "\n",
    "        #### VALIDATION ####\n",
    "        model.eval()\n",
    "        val_loss = 0.0\n",
    "        val_mae = 0.0\n",
    "\n",
    "        with torch.no_grad():\n",
    "            for batch in val_loader:\n",
    "                inputs = batch['target_audio'].to(device)  # 👈 anche in validazione\n",
    "                targets = batch['score'].to(device)\n",
    "\n",
    "                outputs = model(inputs)\n",
    "                val_loss += loss_fn(outputs, targets).item() * inputs.size(0)\n",
    "                val_mae += torch.abs(outputs - targets).sum().item()\n",
    "\n",
    "        avg_val_loss = val_loss / len(val_loader.dataset)\n",
    "        avg_val_mae = val_mae / len(val_loader.dataset)\n",
    "\n",
    "        tqdm.write(f\"\\033[32mValidation Loss: {avg_val_loss:.4f}, Validation MAE: {avg_val_mae:.2f}\\033[0m\")\n",
    "\n",
    "        if avg_val_loss < best_val_loss:\n",
    "            best_val_loss = avg_val_loss\n",
    "            torch.save(model.state_dict(), save_path)\n",
    "            epochs_without_improvement = 0\n",
    "            tqdm.write(f\"\\033[32mModel saved!\\033[0m\")\n",
    "        else:\n",
    "            epochs_without_improvement += 1\n",
    "            tqdm.write(f\"\\033[31mNo improvement ({epochs_without_improvement}/{patience})\\033[0m\")\n",
    "\n",
    "        if epochs_without_improvement >= patience:\n",
    "            tqdm.write(f\"\\033[31mEarly stopping triggered\\033[0m\")\n",
    "            break\n"
   ]
  },
  {
   "cell_type": "code",
   "execution_count": 38,
   "id": "8e35e328",
   "metadata": {},
   "outputs": [
    {
     "name": "stderr",
     "output_type": "stream",
     "text": [
      "Epoch 1/20: 100%|\u001b[34m██████████\u001b[0m| 350/350 [02:48<00:00,  2.07it/s, loss=0.125, mae=0.297] \n"
     ]
    },
    {
     "name": "stdout",
     "output_type": "stream",
     "text": [
      "Train Loss: 0.0794, Train MAE: 0.23\n",
      "\u001b[32mValidation Loss: 0.0704, Validation MAE: 0.22\u001b[0m\n",
      "\u001b[32mModel saved!\u001b[0m\n"
     ]
    },
    {
     "name": "stderr",
     "output_type": "stream",
     "text": [
      "Epoch 2/20: 100%|\u001b[34m██████████\u001b[0m| 350/350 [02:51<00:00,  2.04it/s, loss=0.0808, mae=0.247]\n"
     ]
    },
    {
     "name": "stdout",
     "output_type": "stream",
     "text": [
      "Train Loss: 0.0746, Train MAE: 0.22\n",
      "\u001b[32mValidation Loss: 0.0691, Validation MAE: 0.22\u001b[0m\n",
      "\u001b[32mModel saved!\u001b[0m\n"
     ]
    },
    {
     "name": "stderr",
     "output_type": "stream",
     "text": [
      "Epoch 3/20: 100%|\u001b[34m██████████\u001b[0m| 350/350 [02:49<00:00,  2.07it/s, loss=0.0731, mae=0.22] \n"
     ]
    },
    {
     "name": "stdout",
     "output_type": "stream",
     "text": [
      "Train Loss: 0.0741, Train MAE: 0.22\n",
      "\u001b[32mValidation Loss: 0.0684, Validation MAE: 0.22\u001b[0m\n",
      "\u001b[32mModel saved!\u001b[0m\n"
     ]
    },
    {
     "name": "stderr",
     "output_type": "stream",
     "text": [
      "Epoch 4/20: 100%|\u001b[34m██████████\u001b[0m| 350/350 [02:49<00:00,  2.07it/s, loss=0.0583, mae=0.202]\n"
     ]
    },
    {
     "name": "stdout",
     "output_type": "stream",
     "text": [
      "Train Loss: 0.0732, Train MAE: 0.22\n",
      "\u001b[32mValidation Loss: 0.0682, Validation MAE: 0.22\u001b[0m\n",
      "\u001b[32mModel saved!\u001b[0m\n"
     ]
    },
    {
     "name": "stderr",
     "output_type": "stream",
     "text": [
      "Epoch 5/20: 100%|\u001b[34m██████████\u001b[0m| 350/350 [02:42<00:00,  2.15it/s, loss=0.0552, mae=0.202]\n"
     ]
    },
    {
     "name": "stdout",
     "output_type": "stream",
     "text": [
      "Train Loss: 0.0725, Train MAE: 0.22\n",
      "\u001b[32mValidation Loss: 0.0669, Validation MAE: 0.21\u001b[0m\n",
      "\u001b[32mModel saved!\u001b[0m\n"
     ]
    },
    {
     "name": "stderr",
     "output_type": "stream",
     "text": [
      "Epoch 6/20: 100%|\u001b[34m██████████\u001b[0m| 350/350 [02:43<00:00,  2.14it/s, loss=0.107, mae=0.243] \n"
     ]
    },
    {
     "name": "stdout",
     "output_type": "stream",
     "text": [
      "Train Loss: 0.0716, Train MAE: 0.22\n",
      "\u001b[32mValidation Loss: 0.0669, Validation MAE: 0.22\u001b[0m\n",
      "\u001b[32mModel saved!\u001b[0m\n"
     ]
    },
    {
     "name": "stderr",
     "output_type": "stream",
     "text": [
      "Epoch 7/20: 100%|\u001b[34m██████████\u001b[0m| 350/350 [02:43<00:00,  2.14it/s, loss=0.0799, mae=0.221]\n"
     ]
    },
    {
     "name": "stdout",
     "output_type": "stream",
     "text": [
      "Train Loss: 0.0711, Train MAE: 0.21\n",
      "\u001b[32mValidation Loss: 0.0688, Validation MAE: 0.22\u001b[0m\n",
      "\u001b[31mNo improvement (1/3)\u001b[0m\n"
     ]
    },
    {
     "name": "stderr",
     "output_type": "stream",
     "text": [
      "Epoch 8/20: 100%|\u001b[34m██████████\u001b[0m| 350/350 [02:43<00:00,  2.15it/s, loss=0.0941, mae=0.231]\n"
     ]
    },
    {
     "name": "stdout",
     "output_type": "stream",
     "text": [
      "Train Loss: 0.0703, Train MAE: 0.21\n",
      "\u001b[32mValidation Loss: 0.0669, Validation MAE: 0.21\u001b[0m\n",
      "\u001b[31mNo improvement (2/3)\u001b[0m\n"
     ]
    },
    {
     "name": "stderr",
     "output_type": "stream",
     "text": [
      "Epoch 9/20: 100%|\u001b[34m██████████\u001b[0m| 350/350 [02:42<00:00,  2.15it/s, loss=0.132, mae=0.287] \n"
     ]
    },
    {
     "name": "stdout",
     "output_type": "stream",
     "text": [
      "Train Loss: 0.0699, Train MAE: 0.21\n",
      "\u001b[32mValidation Loss: 0.0660, Validation MAE: 0.21\u001b[0m\n",
      "\u001b[32mModel saved!\u001b[0m\n"
     ]
    },
    {
     "name": "stderr",
     "output_type": "stream",
     "text": [
      "Epoch 10/20: 100%|\u001b[34m██████████\u001b[0m| 350/350 [02:43<00:00,  2.14it/s, loss=0.0639, mae=0.211]\n"
     ]
    },
    {
     "name": "stdout",
     "output_type": "stream",
     "text": [
      "Train Loss: 0.0689, Train MAE: 0.21\n",
      "\u001b[32mValidation Loss: 0.0653, Validation MAE: 0.21\u001b[0m\n",
      "\u001b[32mModel saved!\u001b[0m\n"
     ]
    },
    {
     "name": "stderr",
     "output_type": "stream",
     "text": [
      "Epoch 11/20: 100%|\u001b[34m██████████\u001b[0m| 350/350 [02:47<00:00,  2.10it/s, loss=0.0935, mae=0.225]\n"
     ]
    },
    {
     "name": "stdout",
     "output_type": "stream",
     "text": [
      "Train Loss: 0.0684, Train MAE: 0.21\n",
      "\u001b[32mValidation Loss: 0.0641, Validation MAE: 0.21\u001b[0m\n",
      "\u001b[32mModel saved!\u001b[0m\n"
     ]
    },
    {
     "name": "stderr",
     "output_type": "stream",
     "text": [
      "Epoch 12/20: 100%|\u001b[34m██████████\u001b[0m| 350/350 [02:43<00:00,  2.14it/s, loss=0.0593, mae=0.21] \n"
     ]
    },
    {
     "name": "stdout",
     "output_type": "stream",
     "text": [
      "Train Loss: 0.0672, Train MAE: 0.20\n",
      "\u001b[32mValidation Loss: 0.0872, Validation MAE: 0.25\u001b[0m\n",
      "\u001b[31mNo improvement (1/3)\u001b[0m\n"
     ]
    },
    {
     "name": "stderr",
     "output_type": "stream",
     "text": [
      "Epoch 13/20: 100%|\u001b[34m██████████\u001b[0m| 350/350 [02:42<00:00,  2.16it/s, loss=0.0413, mae=0.181]\n"
     ]
    },
    {
     "name": "stdout",
     "output_type": "stream",
     "text": [
      "Train Loss: 0.0670, Train MAE: 0.20\n",
      "\u001b[32mValidation Loss: 0.0701, Validation MAE: 0.22\u001b[0m\n",
      "\u001b[31mNo improvement (2/3)\u001b[0m\n"
     ]
    },
    {
     "name": "stderr",
     "output_type": "stream",
     "text": [
      "Epoch 14/20: 100%|\u001b[34m██████████\u001b[0m| 350/350 [02:42<00:00,  2.15it/s, loss=0.0719, mae=0.201]\n"
     ]
    },
    {
     "name": "stdout",
     "output_type": "stream",
     "text": [
      "Train Loss: 0.0657, Train MAE: 0.20\n",
      "\u001b[32mValidation Loss: 0.0846, Validation MAE: 0.25\u001b[0m\n",
      "\u001b[31mNo improvement (3/3)\u001b[0m\n",
      "\u001b[31mEarly stopping triggered\u001b[0m\n"
     ]
    }
   ],
   "source": [
    "model = AudioQualityCNN()\n",
    "train(model, train_loader, val_loader, epochs=20)\n"
   ]
  }
 ],
 "metadata": {
  "kernelspec": {
   "display_name": "audio_restore_project",
   "language": "python",
   "name": "python3"
  },
  "language_info": {
   "codemirror_mode": {
    "name": "ipython",
    "version": 3
   },
   "file_extension": ".py",
   "mimetype": "text/x-python",
   "name": "python",
   "nbconvert_exporter": "python",
   "pygments_lexer": "ipython3",
   "version": "3.12.2"
  }
 },
 "nbformat": 4,
 "nbformat_minor": 5
}
