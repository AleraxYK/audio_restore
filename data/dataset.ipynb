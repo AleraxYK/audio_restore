{
 "cells": [
  {
   "cell_type": "markdown",
   "id": "50c74a56",
   "metadata": {},
   "source": [
    "\n",
    "# Degradazione Audio\n",
    "\n",
    "Questo notebook scarica il dataset `fma_small` da [Free Music Archive](https://os.unil.cloud.switch.ch/fma/fma_small.zip), lo estrae, carica i file audio, applica rumore bianco per simulare una degradazione della qualità, e salva le versioni modificate in una directory separata.\n",
    "\n",
    "## Passi:\n",
    "1. Scaricare il dataset `fma_small`.\n",
    "2. Estrarre i file audio.\n",
    "3. Caricare i file audio.\n",
    "4. Applicare rumore bianco.\n",
    "5. Salvare le versioni modificate.\n",
    "\n"
   ]
  },
  {
   "cell_type": "code",
   "execution_count": null,
   "id": "dffdd2fa",
   "metadata": {},
   "outputs": [],
   "source": [
    "\n",
    "import os\n",
    "import urllib.request\n",
    "import zipfile\n",
    "\n",
    "# URL del dataset\n",
    "url = \"https://os.unil.cloud.switch.ch/fma/fma_small.zip\"\n",
    "dataset_path = \"fma_small.zip\"\n",
    "extract_path = \"fma_small\"\n",
    "\n",
    "# Scaricare il dataset\n",
    "if not os.path.exists(dataset_path):\n",
    "    print(\"Scaricamento del dataset...\")\n",
    "    urllib.request.urlretrieve(url, dataset_path)\n",
    "    print(\"Dataset scaricato.\")\n",
    "\n",
    "# Estrarre il dataset\n",
    "if not os.path.exists(extract_path):\n",
    "    print(\"Estrazione del dataset...\")\n",
    "    with zipfile.ZipFile(dataset_path, 'r') as zip_ref:\n",
    "        zip_ref.extractall(extract_path)\n",
    "    print(\"Dataset estratto.\")\n",
    "else:\n",
    "    print(\"Il dataset è già stato estratto.\")\n"
   ]
  },
  {
   "cell_type": "code",
   "execution_count": null,
   "id": "29039f8f",
   "metadata": {},
   "outputs": [],
   "source": [
    "\n",
    "import numpy as np\n",
    "import librosa\n",
    "import soundfile as sf\n",
    "\n",
    "# Directory per salvare i file modificati\n",
    "modified_path = \"fma_small_modified\"\n",
    "os.makedirs(modified_path, exist_ok=True)\n",
    "\n",
    "# Funzione per applicare rumore bianco\n",
    "def add_white_noise(audio, noise_factor=0.005):\n",
    "    noise = np.random.randn(len(audio))\n",
    "    augmented_audio = audio + noise_factor * noise\n",
    "    augmented_audio = augmented_audio.astype(type(audio[0]))\n",
    "    return augmented_audio\n",
    "\n",
    "# Caricare i file audio, applicare rumore bianco e salvare le versioni modificate\n",
    "for root, dirs, files in os.walk(extract_path):\n",
    "    for file in files:\n",
    "        if file.endswith(\".mp3\"):\n",
    "            file_path = os.path.join(root, file)\n",
    "            audio, sr = librosa.load(file_path, sr=None)\n",
    "            modified_audio = add_white_noise(audio)\n",
    "            modified_file_path = os.path.join(modified_path, file)\n",
    "            sf.write(modified_file_path, modified_audio, sr)\n",
    "            print(f\"File modificato salvato: {modified_file_path}\")\n"
   ]
  }
 ],
 "metadata": {
  "language_info": {
   "name": "python"
  }
 },
 "nbformat": 4,
 "nbformat_minor": 5
}
