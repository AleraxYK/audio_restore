{
 "cells": [
  {
   "cell_type": "markdown",
   "id": "50c74a56",
   "metadata": {},
   "source": [
    "\n",
    "# Audio degradation\n",
    "\n",
    "This notebook downloads the `VoiceBank-DEMAND` data, and then apply degradation\n",
    "\n",
    "## TODO:\n",
    "1. Download the `VoiceBank-DEMAND` data.\n",
    "2. Extract audio.\n",
    "3. Load audio.\n",
    "4. Create the dataset.\n",
    "\n"
   ]
  },
  {
   "cell_type": "markdown",
   "id": "5c6f58c4",
   "metadata": {},
   "source": [
    "# IMPORTS"
   ]
  },
  {
   "cell_type": "code",
   "execution_count": null,
   "id": "146f6f48",
   "metadata": {},
   "outputs": [],
   "source": [
    "import os\n",
    "import urllib.request\n",
    "import zipfile\n",
    "from tqdm import tqdm\n",
    "import torch\n",
    "from torch.utils.data import Dataset\n",
    "import librosa\n",
    "import numpy as np\n",
    "import torchaudio.transforms as T"
   ]
  },
  {
   "cell_type": "markdown",
   "id": "cab8846c",
   "metadata": {},
   "source": [
    "# Download dataset"
   ]
  },
  {
   "cell_type": "code",
   "execution_count": null,
   "id": "dffdd2fa",
   "metadata": {},
   "outputs": [
    {
     "name": "stdout",
     "output_type": "stream",
     "text": [
      "VoiceBank_DEMAND\\clean_trainset.zip già presente, skip scaricamento.\n",
      "VoiceBank_DEMAND\\clean_trainset già esistente, skip estrazione.\n",
      "VoiceBank_DEMAND\\noisy_trainset.zip già presente, skip scaricamento.\n",
      "VoiceBank_DEMAND\\noisy_trainset già esistente, skip estrazione.\n",
      "VoiceBank_DEMAND\\clean_testset.zip già presente, skip scaricamento.\n",
      "VoiceBank_DEMAND\\clean_testset già esistente, skip estrazione.\n",
      "VoiceBank_DEMAND\\noisy_testset.zip già presente, skip scaricamento.\n",
      "VoiceBank_DEMAND\\noisy_testset già esistente, skip estrazione.\n",
      "\n",
      "Tutti i file scaricati ed estratti correttamente.\n"
     ]
    }
   ],
   "source": [
    "# Lista dei file da scaricare: nome logico → URL\n",
    "files = {\n",
    "    \"clean_trainset\": \"https://datashare.ed.ac.uk/bitstream/handle/10283/2791/clean_trainset_28spk_wav.zip?sequence=2&isAllowed=y\",\n",
    "    \"noisy_trainset\": \"https://datashare.ed.ac.uk/bitstream/handle/10283/2791/noisy_trainset_28spk_wav.zip?sequence=6&isAllowed=y\",\n",
    "    \"clean_testset\":  \"https://datashare.ed.ac.uk/bitstream/handle/10283/2791/clean_testset_wav.zip?sequence=1&isAllowed=y\",\n",
    "    \"noisy_testset\":  \"https://datashare.ed.ac.uk/bitstream/handle/10283/2791/noisy_testset_wav.zip?sequence=5&isAllowed=y\"\n",
    "}\n",
    "\n",
    "# Percorso principale in cui salvare dataset e estrazione\n",
    "base_path = \"VoiceBank_DEMAND\"\n",
    "os.makedirs(base_path, exist_ok=True)\n",
    "\n",
    "# Funzione di hook per tqdm\n",
    "class DownloadProgressBar(tqdm):\n",
    "    def update_to(self, b=1, bsize=1, tsize=None):\n",
    "        if tsize is not None:\n",
    "            self.total = tsize\n",
    "        self.update(b * bsize - self.n)\n",
    "\n",
    "# Scarica e decomprimi ogni file\n",
    "for name, url in files.items():\n",
    "    zip_path = os.path.join(base_path, f\"{name}.zip\")\n",
    "    extract_folder = os.path.join(base_path, name)\n",
    "\n",
    "    # Scaricamento con barra di progresso\n",
    "    if not os.path.exists(zip_path):\n",
    "        print(f\"\\nScaricamento di {name}...\")\n",
    "        with DownloadProgressBar(unit='B', unit_scale=True, miniters=1, desc=name) as t:\n",
    "            urllib.request.urlretrieve(url, filename=zip_path, reporthook=t.update_to)\n",
    "        print(f\"Scaricato {zip_path}\")\n",
    "    else:\n",
    "        print(f\"{zip_path} già presente, skip scaricamento.\")\n",
    "\n",
    "    # Estrazione\n",
    "    if not os.path.exists(extract_folder):\n",
    "        print(f\"Estrazione di {name} in {extract_folder}...\")\n",
    "        with zipfile.ZipFile(zip_path, 'r') as zip_ref:\n",
    "            zip_ref.extractall(extract_folder)\n",
    "        print(f\"Estratto in {extract_folder}\")\n",
    "    else:\n",
    "        print(f\"{extract_folder} già esistente, skip estrazione.\")\n",
    "\n",
    "print(\"\\nTutti i file scaricati ed estratti correttamente.\")\n"
   ]
  },
  {
   "cell_type": "markdown",
   "id": "4f9762ce",
   "metadata": {},
   "source": [
    "# Dataset build"
   ]
  },
  {
   "cell_type": "markdown",
   "id": "01cb0abb",
   "metadata": {},
   "source": [
    "Create the couple (original, noisy)"
   ]
  },
  {
   "cell_type": "code",
   "execution_count": null,
   "id": "958aa734",
   "metadata": {},
   "outputs": [],
   "source": [
    "def build_clean_noisy_pairs(clean_dir, noisy_dir):\n",
    "    clean_files = sorted(os.listdir(clean_dir))\n",
    "    noisy_files = sorted(os.listdir(noisy_dir))\n",
    "\n",
    "    pairs = []\n",
    "    for fname in clean_files:\n",
    "        if fname in noisy_files:\n",
    "            clean_path = os.path.join(clean_dir, fname)\n",
    "            noisy_path = os.path.join(noisy_dir, fname)\n",
    "            pairs.append((clean_path, noisy_path))\n",
    "        else:\n",
    "            print(f\"❗ File mancante nella cartella noisy: {fname}\")\n",
    "\n",
    "    return pairs\n",
    "\n",
    "# Percorsi\n",
    "base_path = \"VoiceBank_DEMAND\"\n",
    "train_clean_dir = os.path.join(base_path, \"clean_trainset\")\n",
    "train_noisy_dir = os.path.join(base_path, \"noisy_trainset\")\n",
    "\n",
    "test_clean_dir = os.path.join(base_path, \"clean_testset\")\n",
    "test_noisy_dir = os.path.join(base_path, \"noisy_testset\")\n",
    "\n",
    "# Costruzione delle coppie\n",
    "train_pairs = build_clean_noisy_pairs(train_clean_dir, train_noisy_dir)\n",
    "test_pairs = build_clean_noisy_pairs(test_clean_dir, test_noisy_dir)\n",
    "\n",
    "print(f\"✅ Coppie train: {len(train_pairs)}\")\n",
    "print(f\"✅ Coppie test: {len(test_pairs)}\")\n",
    "\n",
    "# Esempio\n",
    "print(\"\\nEsempio coppia:\")\n",
    "print(train_pairs[0])\n"
   ]
  },
  {
   "cell_type": "code",
   "execution_count": null,
   "id": "cec158e7",
   "metadata": {},
   "outputs": [],
   "source": [
    "class AudioPairDataset(Dataset):\n",
    "    def __init__(self, pairs, sample_rate=16000, duration=None, use_logmel=True, n_mels=64):\n",
    "        \"\"\"\n",
    "        pairs: lista di tuple (clean_path, noisy_path)\n",
    "        sample_rate: sample rate target\n",
    "        duration: in secondi (se vuoi segmenti fissi), oppure None per completo\n",
    "        use_logmel: se True, converte in spettrogramma log-Mel\n",
    "        \"\"\"\n",
    "        self.pairs = pairs\n",
    "        self.sample_rate = sample_rate\n",
    "        self.duration = duration\n",
    "        self.use_logmel = use_logmel\n",
    "        self.n_mels = n_mels\n",
    "\n",
    "        if self.use_logmel:\n",
    "            self.mel_transform = T.MelSpectrogram(\n",
    "                sample_rate=self.sample_rate,\n",
    "                n_mels=self.n_mels,\n",
    "                n_fft=1024,\n",
    "                hop_length=256\n",
    "            )\n",
    "            self.db_transform = T.AmplitudeToDB()\n",
    "\n",
    "    def __len__(self):\n",
    "        return len(self.pairs)\n",
    "\n",
    "    def load_audio(self, path):\n",
    "        y, sr = librosa.load(path, sr=self.sample_rate, duration=self.duration)\n",
    "        if self.duration:\n",
    "            expected_len = int(self.sample_rate * self.duration)\n",
    "            if len(y) < expected_len:\n",
    "                # zero-pad se troppo corto\n",
    "                y = np.pad(y, (0, expected_len - len(y)))\n",
    "            else:\n",
    "                y = y[:expected_len]\n",
    "        return torch.tensor(y, dtype=torch.float32)\n",
    "\n",
    "    def to_logmel(self, y):\n",
    "        mel = self.mel_transform(y)\n",
    "        db = self.db_transform(mel)\n",
    "        return db\n",
    "\n",
    "    def __getitem__(self, idx):\n",
    "        clean_path, noisy_path = self.pairs[idx]\n",
    "        clean = self.load_audio(clean_path)\n",
    "        noisy = self.load_audio(noisy_path)\n",
    "\n",
    "        if self.use_logmel:\n",
    "            clean = self.to_logmel(clean)\n",
    "            noisy = self.to_logmel(noisy)\n",
    "\n",
    "        return clean, noisy\n"
   ]
  }
 ],
 "metadata": {
  "kernelspec": {
   "display_name": "audio_restore_project",
   "language": "python",
   "name": "python3"
  },
  "language_info": {
   "codemirror_mode": {
    "name": "ipython",
    "version": 3
   },
   "file_extension": ".py",
   "mimetype": "text/x-python",
   "name": "python",
   "nbconvert_exporter": "python",
   "pygments_lexer": "ipython3",
   "version": "3.12.2"
  }
 },
 "nbformat": 4,
 "nbformat_minor": 5
}
